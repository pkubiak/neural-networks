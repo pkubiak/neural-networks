{
 "cells": [
  {
   "cell_type": "code",
   "execution_count": 1,
   "metadata": {},
   "outputs": [
    {
     "name": "stdout",
     "output_type": "stream",
     "text": [
      "(23000, 250)\n",
      "Tensor(\"Gather:0\", shape=(?, 250, 50), dtype=float32)\n",
      "[<tf.Tensor 'unstack:0' shape=(?, 50) dtype=float32>, <tf.Tensor 'unstack:1' shape=(?, 50) dtype=float32>, <tf.Tensor 'unstack:2' shape=(?, 50) dtype=float32>, <tf.Tensor 'unstack:3' shape=(?, 50) dtype=float32>, <tf.Tensor 'unstack:4' shape=(?, 50) dtype=float32>, <tf.Tensor 'unstack:5' shape=(?, 50) dtype=float32>, <tf.Tensor 'unstack:6' shape=(?, 50) dtype=float32>, <tf.Tensor 'unstack:7' shape=(?, 50) dtype=float32>, <tf.Tensor 'unstack:8' shape=(?, 50) dtype=float32>, <tf.Tensor 'unstack:9' shape=(?, 50) dtype=float32>, <tf.Tensor 'unstack:10' shape=(?, 50) dtype=float32>, <tf.Tensor 'unstack:11' shape=(?, 50) dtype=float32>, <tf.Tensor 'unstack:12' shape=(?, 50) dtype=float32>, <tf.Tensor 'unstack:13' shape=(?, 50) dtype=float32>, <tf.Tensor 'unstack:14' shape=(?, 50) dtype=float32>, <tf.Tensor 'unstack:15' shape=(?, 50) dtype=float32>, <tf.Tensor 'unstack:16' shape=(?, 50) dtype=float32>, <tf.Tensor 'unstack:17' shape=(?, 50) dtype=float32>, <tf.Tensor 'unstack:18' shape=(?, 50) dtype=float32>, <tf.Tensor 'unstack:19' shape=(?, 50) dtype=float32>, <tf.Tensor 'unstack:20' shape=(?, 50) dtype=float32>, <tf.Tensor 'unstack:21' shape=(?, 50) dtype=float32>, <tf.Tensor 'unstack:22' shape=(?, 50) dtype=float32>, <tf.Tensor 'unstack:23' shape=(?, 50) dtype=float32>, <tf.Tensor 'unstack:24' shape=(?, 50) dtype=float32>, <tf.Tensor 'unstack:25' shape=(?, 50) dtype=float32>, <tf.Tensor 'unstack:26' shape=(?, 50) dtype=float32>, <tf.Tensor 'unstack:27' shape=(?, 50) dtype=float32>, <tf.Tensor 'unstack:28' shape=(?, 50) dtype=float32>, <tf.Tensor 'unstack:29' shape=(?, 50) dtype=float32>, <tf.Tensor 'unstack:30' shape=(?, 50) dtype=float32>, <tf.Tensor 'unstack:31' shape=(?, 50) dtype=float32>, <tf.Tensor 'unstack:32' shape=(?, 50) dtype=float32>, <tf.Tensor 'unstack:33' shape=(?, 50) dtype=float32>, <tf.Tensor 'unstack:34' shape=(?, 50) dtype=float32>, <tf.Tensor 'unstack:35' shape=(?, 50) dtype=float32>, <tf.Tensor 'unstack:36' shape=(?, 50) dtype=float32>, <tf.Tensor 'unstack:37' shape=(?, 50) dtype=float32>, <tf.Tensor 'unstack:38' shape=(?, 50) dtype=float32>, <tf.Tensor 'unstack:39' shape=(?, 50) dtype=float32>, <tf.Tensor 'unstack:40' shape=(?, 50) dtype=float32>, <tf.Tensor 'unstack:41' shape=(?, 50) dtype=float32>, <tf.Tensor 'unstack:42' shape=(?, 50) dtype=float32>, <tf.Tensor 'unstack:43' shape=(?, 50) dtype=float32>, <tf.Tensor 'unstack:44' shape=(?, 50) dtype=float32>, <tf.Tensor 'unstack:45' shape=(?, 50) dtype=float32>, <tf.Tensor 'unstack:46' shape=(?, 50) dtype=float32>, <tf.Tensor 'unstack:47' shape=(?, 50) dtype=float32>, <tf.Tensor 'unstack:48' shape=(?, 50) dtype=float32>, <tf.Tensor 'unstack:49' shape=(?, 50) dtype=float32>, <tf.Tensor 'unstack:50' shape=(?, 50) dtype=float32>, <tf.Tensor 'unstack:51' shape=(?, 50) dtype=float32>, <tf.Tensor 'unstack:52' shape=(?, 50) dtype=float32>, <tf.Tensor 'unstack:53' shape=(?, 50) dtype=float32>, <tf.Tensor 'unstack:54' shape=(?, 50) dtype=float32>, <tf.Tensor 'unstack:55' shape=(?, 50) dtype=float32>, <tf.Tensor 'unstack:56' shape=(?, 50) dtype=float32>, <tf.Tensor 'unstack:57' shape=(?, 50) dtype=float32>, <tf.Tensor 'unstack:58' shape=(?, 50) dtype=float32>, <tf.Tensor 'unstack:59' shape=(?, 50) dtype=float32>, <tf.Tensor 'unstack:60' shape=(?, 50) dtype=float32>, <tf.Tensor 'unstack:61' shape=(?, 50) dtype=float32>, <tf.Tensor 'unstack:62' shape=(?, 50) dtype=float32>, <tf.Tensor 'unstack:63' shape=(?, 50) dtype=float32>, <tf.Tensor 'unstack:64' shape=(?, 50) dtype=float32>, <tf.Tensor 'unstack:65' shape=(?, 50) dtype=float32>, <tf.Tensor 'unstack:66' shape=(?, 50) dtype=float32>, <tf.Tensor 'unstack:67' shape=(?, 50) dtype=float32>, <tf.Tensor 'unstack:68' shape=(?, 50) dtype=float32>, <tf.Tensor 'unstack:69' shape=(?, 50) dtype=float32>, <tf.Tensor 'unstack:70' shape=(?, 50) dtype=float32>, <tf.Tensor 'unstack:71' shape=(?, 50) dtype=float32>, <tf.Tensor 'unstack:72' shape=(?, 50) dtype=float32>, <tf.Tensor 'unstack:73' shape=(?, 50) dtype=float32>, <tf.Tensor 'unstack:74' shape=(?, 50) dtype=float32>, <tf.Tensor 'unstack:75' shape=(?, 50) dtype=float32>, <tf.Tensor 'unstack:76' shape=(?, 50) dtype=float32>, <tf.Tensor 'unstack:77' shape=(?, 50) dtype=float32>, <tf.Tensor 'unstack:78' shape=(?, 50) dtype=float32>, <tf.Tensor 'unstack:79' shape=(?, 50) dtype=float32>, <tf.Tensor 'unstack:80' shape=(?, 50) dtype=float32>, <tf.Tensor 'unstack:81' shape=(?, 50) dtype=float32>, <tf.Tensor 'unstack:82' shape=(?, 50) dtype=float32>, <tf.Tensor 'unstack:83' shape=(?, 50) dtype=float32>, <tf.Tensor 'unstack:84' shape=(?, 50) dtype=float32>, <tf.Tensor 'unstack:85' shape=(?, 50) dtype=float32>, <tf.Tensor 'unstack:86' shape=(?, 50) dtype=float32>, <tf.Tensor 'unstack:87' shape=(?, 50) dtype=float32>, <tf.Tensor 'unstack:88' shape=(?, 50) dtype=float32>, <tf.Tensor 'unstack:89' shape=(?, 50) dtype=float32>, <tf.Tensor 'unstack:90' shape=(?, 50) dtype=float32>, <tf.Tensor 'unstack:91' shape=(?, 50) dtype=float32>, <tf.Tensor 'unstack:92' shape=(?, 50) dtype=float32>, <tf.Tensor 'unstack:93' shape=(?, 50) dtype=float32>, <tf.Tensor 'unstack:94' shape=(?, 50) dtype=float32>, <tf.Tensor 'unstack:95' shape=(?, 50) dtype=float32>, <tf.Tensor 'unstack:96' shape=(?, 50) dtype=float32>, <tf.Tensor 'unstack:97' shape=(?, 50) dtype=float32>, <tf.Tensor 'unstack:98' shape=(?, 50) dtype=float32>, <tf.Tensor 'unstack:99' shape=(?, 50) dtype=float32>, <tf.Tensor 'unstack:100' shape=(?, 50) dtype=float32>, <tf.Tensor 'unstack:101' shape=(?, 50) dtype=float32>, <tf.Tensor 'unstack:102' shape=(?, 50) dtype=float32>, <tf.Tensor 'unstack:103' shape=(?, 50) dtype=float32>, <tf.Tensor 'unstack:104' shape=(?, 50) dtype=float32>, <tf.Tensor 'unstack:105' shape=(?, 50) dtype=float32>, <tf.Tensor 'unstack:106' shape=(?, 50) dtype=float32>, <tf.Tensor 'unstack:107' shape=(?, 50) dtype=float32>, <tf.Tensor 'unstack:108' shape=(?, 50) dtype=float32>, <tf.Tensor 'unstack:109' shape=(?, 50) dtype=float32>, <tf.Tensor 'unstack:110' shape=(?, 50) dtype=float32>, <tf.Tensor 'unstack:111' shape=(?, 50) dtype=float32>, <tf.Tensor 'unstack:112' shape=(?, 50) dtype=float32>, <tf.Tensor 'unstack:113' shape=(?, 50) dtype=float32>, <tf.Tensor 'unstack:114' shape=(?, 50) dtype=float32>, <tf.Tensor 'unstack:115' shape=(?, 50) dtype=float32>, <tf.Tensor 'unstack:116' shape=(?, 50) dtype=float32>, <tf.Tensor 'unstack:117' shape=(?, 50) dtype=float32>, <tf.Tensor 'unstack:118' shape=(?, 50) dtype=float32>, <tf.Tensor 'unstack:119' shape=(?, 50) dtype=float32>, <tf.Tensor 'unstack:120' shape=(?, 50) dtype=float32>, <tf.Tensor 'unstack:121' shape=(?, 50) dtype=float32>, <tf.Tensor 'unstack:122' shape=(?, 50) dtype=float32>, <tf.Tensor 'unstack:123' shape=(?, 50) dtype=float32>, <tf.Tensor 'unstack:124' shape=(?, 50) dtype=float32>, <tf.Tensor 'unstack:125' shape=(?, 50) dtype=float32>, <tf.Tensor 'unstack:126' shape=(?, 50) dtype=float32>, <tf.Tensor 'unstack:127' shape=(?, 50) dtype=float32>, <tf.Tensor 'unstack:128' shape=(?, 50) dtype=float32>, <tf.Tensor 'unstack:129' shape=(?, 50) dtype=float32>, <tf.Tensor 'unstack:130' shape=(?, 50) dtype=float32>, <tf.Tensor 'unstack:131' shape=(?, 50) dtype=float32>, <tf.Tensor 'unstack:132' shape=(?, 50) dtype=float32>, <tf.Tensor 'unstack:133' shape=(?, 50) dtype=float32>, <tf.Tensor 'unstack:134' shape=(?, 50) dtype=float32>, <tf.Tensor 'unstack:135' shape=(?, 50) dtype=float32>, <tf.Tensor 'unstack:136' shape=(?, 50) dtype=float32>, <tf.Tensor 'unstack:137' shape=(?, 50) dtype=float32>, <tf.Tensor 'unstack:138' shape=(?, 50) dtype=float32>, <tf.Tensor 'unstack:139' shape=(?, 50) dtype=float32>, <tf.Tensor 'unstack:140' shape=(?, 50) dtype=float32>, <tf.Tensor 'unstack:141' shape=(?, 50) dtype=float32>, <tf.Tensor 'unstack:142' shape=(?, 50) dtype=float32>, <tf.Tensor 'unstack:143' shape=(?, 50) dtype=float32>, <tf.Tensor 'unstack:144' shape=(?, 50) dtype=float32>, <tf.Tensor 'unstack:145' shape=(?, 50) dtype=float32>, <tf.Tensor 'unstack:146' shape=(?, 50) dtype=float32>, <tf.Tensor 'unstack:147' shape=(?, 50) dtype=float32>, <tf.Tensor 'unstack:148' shape=(?, 50) dtype=float32>, <tf.Tensor 'unstack:149' shape=(?, 50) dtype=float32>, <tf.Tensor 'unstack:150' shape=(?, 50) dtype=float32>, <tf.Tensor 'unstack:151' shape=(?, 50) dtype=float32>, <tf.Tensor 'unstack:152' shape=(?, 50) dtype=float32>, <tf.Tensor 'unstack:153' shape=(?, 50) dtype=float32>, <tf.Tensor 'unstack:154' shape=(?, 50) dtype=float32>, <tf.Tensor 'unstack:155' shape=(?, 50) dtype=float32>, <tf.Tensor 'unstack:156' shape=(?, 50) dtype=float32>, <tf.Tensor 'unstack:157' shape=(?, 50) dtype=float32>, <tf.Tensor 'unstack:158' shape=(?, 50) dtype=float32>, <tf.Tensor 'unstack:159' shape=(?, 50) dtype=float32>, <tf.Tensor 'unstack:160' shape=(?, 50) dtype=float32>, <tf.Tensor 'unstack:161' shape=(?, 50) dtype=float32>, <tf.Tensor 'unstack:162' shape=(?, 50) dtype=float32>, <tf.Tensor 'unstack:163' shape=(?, 50) dtype=float32>, <tf.Tensor 'unstack:164' shape=(?, 50) dtype=float32>, <tf.Tensor 'unstack:165' shape=(?, 50) dtype=float32>, <tf.Tensor 'unstack:166' shape=(?, 50) dtype=float32>, <tf.Tensor 'unstack:167' shape=(?, 50) dtype=float32>, <tf.Tensor 'unstack:168' shape=(?, 50) dtype=float32>, <tf.Tensor 'unstack:169' shape=(?, 50) dtype=float32>, <tf.Tensor 'unstack:170' shape=(?, 50) dtype=float32>, <tf.Tensor 'unstack:171' shape=(?, 50) dtype=float32>, <tf.Tensor 'unstack:172' shape=(?, 50) dtype=float32>, <tf.Tensor 'unstack:173' shape=(?, 50) dtype=float32>, <tf.Tensor 'unstack:174' shape=(?, 50) dtype=float32>, <tf.Tensor 'unstack:175' shape=(?, 50) dtype=float32>, <tf.Tensor 'unstack:176' shape=(?, 50) dtype=float32>, <tf.Tensor 'unstack:177' shape=(?, 50) dtype=float32>, <tf.Tensor 'unstack:178' shape=(?, 50) dtype=float32>, <tf.Tensor 'unstack:179' shape=(?, 50) dtype=float32>, <tf.Tensor 'unstack:180' shape=(?, 50) dtype=float32>, <tf.Tensor 'unstack:181' shape=(?, 50) dtype=float32>, <tf.Tensor 'unstack:182' shape=(?, 50) dtype=float32>, <tf.Tensor 'unstack:183' shape=(?, 50) dtype=float32>, <tf.Tensor 'unstack:184' shape=(?, 50) dtype=float32>, <tf.Tensor 'unstack:185' shape=(?, 50) dtype=float32>, <tf.Tensor 'unstack:186' shape=(?, 50) dtype=float32>, <tf.Tensor 'unstack:187' shape=(?, 50) dtype=float32>, <tf.Tensor 'unstack:188' shape=(?, 50) dtype=float32>, <tf.Tensor 'unstack:189' shape=(?, 50) dtype=float32>, <tf.Tensor 'unstack:190' shape=(?, 50) dtype=float32>, <tf.Tensor 'unstack:191' shape=(?, 50) dtype=float32>, <tf.Tensor 'unstack:192' shape=(?, 50) dtype=float32>, <tf.Tensor 'unstack:193' shape=(?, 50) dtype=float32>, <tf.Tensor 'unstack:194' shape=(?, 50) dtype=float32>, <tf.Tensor 'unstack:195' shape=(?, 50) dtype=float32>, <tf.Tensor 'unstack:196' shape=(?, 50) dtype=float32>, <tf.Tensor 'unstack:197' shape=(?, 50) dtype=float32>, <tf.Tensor 'unstack:198' shape=(?, 50) dtype=float32>, <tf.Tensor 'unstack:199' shape=(?, 50) dtype=float32>, <tf.Tensor 'unstack:200' shape=(?, 50) dtype=float32>, <tf.Tensor 'unstack:201' shape=(?, 50) dtype=float32>, <tf.Tensor 'unstack:202' shape=(?, 50) dtype=float32>, <tf.Tensor 'unstack:203' shape=(?, 50) dtype=float32>, <tf.Tensor 'unstack:204' shape=(?, 50) dtype=float32>, <tf.Tensor 'unstack:205' shape=(?, 50) dtype=float32>, <tf.Tensor 'unstack:206' shape=(?, 50) dtype=float32>, <tf.Tensor 'unstack:207' shape=(?, 50) dtype=float32>, <tf.Tensor 'unstack:208' shape=(?, 50) dtype=float32>, <tf.Tensor 'unstack:209' shape=(?, 50) dtype=float32>, <tf.Tensor 'unstack:210' shape=(?, 50) dtype=float32>, <tf.Tensor 'unstack:211' shape=(?, 50) dtype=float32>, <tf.Tensor 'unstack:212' shape=(?, 50) dtype=float32>, <tf.Tensor 'unstack:213' shape=(?, 50) dtype=float32>, <tf.Tensor 'unstack:214' shape=(?, 50) dtype=float32>, <tf.Tensor 'unstack:215' shape=(?, 50) dtype=float32>, <tf.Tensor 'unstack:216' shape=(?, 50) dtype=float32>, <tf.Tensor 'unstack:217' shape=(?, 50) dtype=float32>, <tf.Tensor 'unstack:218' shape=(?, 50) dtype=float32>, <tf.Tensor 'unstack:219' shape=(?, 50) dtype=float32>, <tf.Tensor 'unstack:220' shape=(?, 50) dtype=float32>, <tf.Tensor 'unstack:221' shape=(?, 50) dtype=float32>, <tf.Tensor 'unstack:222' shape=(?, 50) dtype=float32>, <tf.Tensor 'unstack:223' shape=(?, 50) dtype=float32>, <tf.Tensor 'unstack:224' shape=(?, 50) dtype=float32>, <tf.Tensor 'unstack:225' shape=(?, 50) dtype=float32>, <tf.Tensor 'unstack:226' shape=(?, 50) dtype=float32>, <tf.Tensor 'unstack:227' shape=(?, 50) dtype=float32>, <tf.Tensor 'unstack:228' shape=(?, 50) dtype=float32>, <tf.Tensor 'unstack:229' shape=(?, 50) dtype=float32>, <tf.Tensor 'unstack:230' shape=(?, 50) dtype=float32>, <tf.Tensor 'unstack:231' shape=(?, 50) dtype=float32>, <tf.Tensor 'unstack:232' shape=(?, 50) dtype=float32>, <tf.Tensor 'unstack:233' shape=(?, 50) dtype=float32>, <tf.Tensor 'unstack:234' shape=(?, 50) dtype=float32>, <tf.Tensor 'unstack:235' shape=(?, 50) dtype=float32>, <tf.Tensor 'unstack:236' shape=(?, 50) dtype=float32>, <tf.Tensor 'unstack:237' shape=(?, 50) dtype=float32>, <tf.Tensor 'unstack:238' shape=(?, 50) dtype=float32>, <tf.Tensor 'unstack:239' shape=(?, 50) dtype=float32>, <tf.Tensor 'unstack:240' shape=(?, 50) dtype=float32>, <tf.Tensor 'unstack:241' shape=(?, 50) dtype=float32>, <tf.Tensor 'unstack:242' shape=(?, 50) dtype=float32>, <tf.Tensor 'unstack:243' shape=(?, 50) dtype=float32>, <tf.Tensor 'unstack:244' shape=(?, 50) dtype=float32>, <tf.Tensor 'unstack:245' shape=(?, 50) dtype=float32>, <tf.Tensor 'unstack:246' shape=(?, 50) dtype=float32>, <tf.Tensor 'unstack:247' shape=(?, 50) dtype=float32>, <tf.Tensor 'unstack:248' shape=(?, 50) dtype=float32>, <tf.Tensor 'unstack:249' shape=(?, 50) dtype=float32>]\n"
     ]
    }
   ],
   "source": [
    "\"\"\"\n",
    "    @author: Paweł Kubiak\n",
    "\"\"\"\n",
    "import numpy as np\n",
    "import tensorflow as tf\n",
    "from tqdm import tqdm\n",
    "import time\n",
    "\n",
    "# Load words list\n",
    "words = np.load('wordsList.npy').tolist()\n",
    "words = [word.decode('UTF-8') for word in words]\n",
    "word_vectors = np.load('wordVectors.npy')\n",
    "\n",
    "# Load word2vec embeding\n",
    "train_x = np.load('reviews_train_x.npy')\n",
    "train_y = np.load('reviews_train_y.npy')\n",
    "test_x = np.load('reviews_test_x.npy')\n",
    "test_y = np.load('reviews_test_y.npy')\n",
    "\n",
    "print(train_x.shape)\n",
    "\n",
    "# Consts\n",
    "TIME_STEPS = 250\n",
    "BATCH_SIZE = 256\n",
    "STATE_SIZE = 200\n",
    "TRAIN_STEPS = 100\n",
    "LSTM_LAYERS = 3\n",
    "\n",
    "# Data loaders\n",
    "x_input = tf.placeholder(tf.int64, shape = (None, TIME_STEPS))\n",
    "y_input = tf.placeholder(tf.int64, shape = (None, 2))\n",
    "\n",
    "x_embed = tf.gather(word_vectors, x_input)\n",
    "print(x_embed)\n",
    "x_unpack = tf.unstack(x_embed, TIME_STEPS, 1)\n",
    "print(x_unpack)"
   ]
  },
  {
   "cell_type": "code",
   "execution_count": 2,
   "metadata": {},
   "outputs": [],
   "source": [
    "# print(words[2])\n",
    "words[0] = ''\n",
    "words[399999] = '???'\n",
    "# 0 - nothing\n",
    "# 399999 - unk\n",
    "def vec2sent(vec):\n",
    "    return ' '.join(map(lambda i: words[i], vec)).strip() \n",
    "\n",
    "def evaluate(pred, x, y):\n",
    "    count = 0\n",
    "    for i in range(len(pred)):\n",
    "        if pred[i] == 0:\n",
    "            count += 1\n",
    "            print(vec2sent(x[i]), 'POSITIVE' if y[i][0] else 'NEGATIVE')\n",
    "            if count >= 5:\n",
    "                break"
   ]
  },
  {
   "cell_type": "code",
   "execution_count": 3,
   "metadata": {},
   "outputs": [
    {
     "data": {
      "text/plain": [
       "'\\n  @params input\\n  @params learning<True/False> are we learning or testing?\\n  @params params<Dictionary>\\n'"
      ]
     },
     "execution_count": 3,
     "metadata": {},
     "output_type": "execute_result"
    }
   ],
   "source": [
    "\"\"\"\n",
    "  @params input\n",
    "  @params learning<True/False> are we learning or testing?\n",
    "  @params params<Dictionary>\n",
    "\"\"\"\n",
    "# def RNN(x, learning):\n",
    "    \n",
    "# #     lstm = tf.contrib.rnn.LSTMCell(STATE_SIZE)\n",
    "    \n",
    "# #     lstm = tf.contrib.rnn.MultiRNNCell(\n",
    "# #         [tf.contrib.rnn.LSTMCell(STATE_SIZE) for _ in range(LSTM_LAYERS)])\n",
    "#     layers = []\n",
    "#     for _ in range(LSTM_LAYERS):\n",
    "#         cell = tf.contrib.rnn.GRUCell(STATE_SIZE)\n",
    "#         # variational_recurrent=True, input_size=STATE_SIZE, dtype=tf.float32 - pogarsza wyniki\n",
    "#         wrap = tf.contrib.rnn.DropoutWrapper(cell, output_keep_prob=1.0 - dropout, state_keep_prob=1.0 - 0.5*dropout)\n",
    "#         layers.append(wrap)\n",
    "        \n",
    "#     lstm = tf.contrib.rnn.MultiRNNCell(layers)\n",
    "        \n",
    "#     outputs, states = tf.contrib.rnn.static_rnn(lstm, x, dtype=tf.float32)\n",
    "    \n",
    "#     dense = tf.layers.dense(outputs[-1], 2)\n",
    "    \n",
    "#     return dense\n",
    "\n",
    "\n",
    "\n",
    "# dropout = tf.placeholder(tf.float32)\n",
    "\n",
    "# rnn = RNN(x_unpack, dropout)\n",
    "# prediction = tf.argmax(tf.nn.softmax(rnn), 1)\n",
    "\n",
    "# loss_op = tf.reduce_mean(tf.nn.softmax_cross_entropy_with_logits(logits=rnn, labels=y_input))\n",
    "# #optimizer = tf.train.GradientDescentOptimizer(learning_rate=0.01).minimize(loss_op)\n",
    "\n",
    "# global_step = tf.Variable(0, trainable=False)\n",
    "# starter_learning_rate = 1e-3\n",
    "# learning_rate = tf.train.exponential_decay(starter_learning_rate, global_step,\n",
    "#                                            90, 0.96, staircase=True)\n",
    "\n",
    "# optimizer = tf.train.AdamOptimizer(learning_rate).minimize(loss_op, global_step = global_step)\n",
    "\n",
    "# correct_pred = tf.equal(prediction, tf.argmax(y_input, 1))\n",
    "# accuracy = tf.reduce_mean(tf.cast(correct_pred, tf.float32))\n",
    "\n",
    "# init = tf.global_variables_initializer()\n",
    "\n",
    "# print(rnn)"
   ]
  },
  {
   "cell_type": "code",
   "execution_count": 4,
   "metadata": {},
   "outputs": [],
   "source": [
    "# import sys\n",
    "\n",
    "# verbose = False\n",
    "\n",
    "# t0 = time.time()\n",
    "# with tf.Session() as session:\n",
    "#     session.run(init)\n",
    "\n",
    "#     for i in range(100):\n",
    "#         idx = np.arange(len(train_x))\n",
    "#         np.random.shuffle(idx)\n",
    "#         idx = np.array_split(idx, (len(idx)+BATCH_SIZE-1)//BATCH_SIZE)\n",
    "\n",
    "#         accs = []\n",
    "#         for step in tqdm(idx, leave = False):\n",
    "# #             step = np.random.choice(len(train_x), BATCH_SIZE)\n",
    "#             x_batch, y_batch = train_x[step], train_y[step]\n",
    "#             _, acc = session.run([optimizer, accuracy], feed_dict = {x_input: x_batch, y_input: y_batch, dropout: 0.2})\n",
    "#             accs.append(acc)\n",
    "#         acc_train = 1.0*sum(accs)/len(accs)\n",
    "        \n",
    "#         lr, pred, acc = session.run([learning_rate, correct_pred, accuracy], feed_dict = {x_input: test_x, y_input: test_y, dropout: 0.0})\n",
    "        \n",
    "#         dt = time.time() - t0\n",
    "#         sys.stderr.flush()\n",
    "#         sys.stdout.flush()\n",
    "#         l = list(map(lambda i: 0 if pred[i] else np.count_nonzero(test_x[i]), range(len(pred))))\n",
    "#         l = 1.0*sum(l) / np.count_nonzero(l)\n",
    "#         print(\"{} acc: {:.2f} acc_train: {:.2f} time: {:.2f}, lr: {}, len: {}\".format(i, 100*acc, 100*acc_train, dt, lr, l))\n",
    "        \n",
    "# #         if i>5:\n",
    "# #             evaluate(pred, test_x, test_y)\n",
    "#         sys.stdout.flush()"
   ]
  },
  {
   "cell_type": "code",
   "execution_count": null,
   "metadata": {},
   "outputs": [
    {
     "name": "stdout",
     "output_type": "stream",
     "text": [
      "------------------------------ Round:  1 ------------------------------\n"
     ]
    },
    {
     "name": "stderr",
     "output_type": "stream",
     "text": [
      "  0%|          | 0/90 [00:00<?, ?it/s]         "
     ]
    },
    {
     "name": "stdout",
     "output_type": "stream",
     "text": [
      "2018-02-22 21:58:12.014946\t25\tGRU\t1\t0.0\t0.0\t0\t52.7499973774\t52.1888286206\n"
     ]
    },
    {
     "name": "stderr",
     "output_type": "stream",
     "text": [
      "  0%|          | 0/90 [00:00<?, ?it/s]         "
     ]
    },
    {
     "name": "stdout",
     "output_type": "stream",
     "text": [
      "2018-02-22 21:58:34.530943\t25\tGRU\t1\t0.0\t0.0\t1\t72.7999985218\t60.0554202663\n"
     ]
    },
    {
     "name": "stderr",
     "output_type": "stream",
     "text": [
      "  0%|          | 0/90 [00:00<?, ?it/s]         "
     ]
    },
    {
     "name": "stdout",
     "output_type": "stream",
     "text": [
      "2018-02-22 21:58:57.015232\t25\tGRU\t1\t0.0\t0.0\t2\t78.5000026226\t76.5679642227\n"
     ]
    },
    {
     "name": "stderr",
     "output_type": "stream",
     "text": [
      "  0%|          | 0/90 [00:00<?, ?it/s]         "
     ]
    },
    {
     "name": "stdout",
     "output_type": "stream",
     "text": [
      "2018-02-22 21:59:19.593301\t25\tGRU\t1\t0.0\t0.0\t3\t79.5000016689\t79.4705717431\n"
     ]
    },
    {
     "name": "stderr",
     "output_type": "stream",
     "text": [
      "  0%|          | 0/90 [00:00<?, ?it/s]         "
     ]
    },
    {
     "name": "stdout",
     "output_type": "stream",
     "text": [
      "2018-02-22 21:59:42.093668\t25\tGRU\t1\t0.0\t0.0\t4\t81.0500025749\t80.883578923\n"
     ]
    },
    {
     "name": "stderr",
     "output_type": "stream",
     "text": [
      "                                               \r"
     ]
    },
    {
     "name": "stdout",
     "output_type": "stream",
     "text": [
      "2018-02-22 22:00:04.814642\t25\tGRU\t1\t0.0\t0.0\t5\t81.25\t81.887051132\n"
     ]
    },
    {
     "name": "stderr",
     "output_type": "stream",
     "text": [
      "  0%|          | 0/90 [00:00<?, ?it/s]         "
     ]
    },
    {
     "name": "stdout",
     "output_type": "stream",
     "text": [
      "2018-02-22 22:01:10.283524\t25\tGRU\t1\t0.0\t0.1\t0\t52.7000010014\t51.2880081932\n"
     ]
    },
    {
     "name": "stderr",
     "output_type": "stream",
     "text": [
      "  0%|          | 0/90 [00:00<?, ?it/s]         "
     ]
    },
    {
     "name": "stdout",
     "output_type": "stream",
     "text": [
      "2018-02-22 22:01:32.219146\t25\tGRU\t1\t0.0\t0.1\t1\t63.5500013828\t54.084883266\n"
     ]
    },
    {
     "name": "stderr",
     "output_type": "stream",
     "text": [
      "  0%|          | 0/90 [00:00<?, ?it/s]         "
     ]
    },
    {
     "name": "stdout",
     "output_type": "stream",
     "text": [
      "2018-02-22 22:01:54.667624\t25\tGRU\t1\t0.0\t0.1\t2\t52.7499973774\t63.2407926851\n"
     ]
    },
    {
     "name": "stderr",
     "output_type": "stream",
     "text": [
      "  0%|          | 0/90 [00:00<?, ?it/s]         "
     ]
    },
    {
     "name": "stdout",
     "output_type": "stream",
     "text": [
      "2018-02-22 22:02:16.716414\t25\tGRU\t1\t0.0\t0.1\t3\t57.0999979973\t53.4499091903\n"
     ]
    },
    {
     "name": "stderr",
     "output_type": "stream",
     "text": [
      "  0%|          | 0/90 [00:00<?, ?it/s]         "
     ]
    },
    {
     "name": "stdout",
     "output_type": "stream",
     "text": [
      "2018-02-22 22:02:38.520825\t25\tGRU\t1\t0.0\t0.1\t4\t66.9499993324\t64.0431142516\n"
     ]
    },
    {
     "name": "stderr",
     "output_type": "stream",
     "text": [
      "                                               \r"
     ]
    },
    {
     "name": "stdout",
     "output_type": "stream",
     "text": [
      "2018-02-22 22:03:00.605491\t25\tGRU\t1\t0.0\t0.1\t5\t73.5499978065\t69.6414427625\n"
     ]
    },
    {
     "name": "stderr",
     "output_type": "stream",
     "text": [
      "  0%|          | 0/90 [00:00<?, ?it/s]         "
     ]
    },
    {
     "name": "stdout",
     "output_type": "stream",
     "text": [
      "2018-02-22 22:04:05.984421\t25\tGRU\t1\t0.0\t0.2\t0\t49.849998951\t50.0963548819\n"
     ]
    },
    {
     "name": "stderr",
     "output_type": "stream",
     "text": [
      "  0%|          | 0/90 [00:00<?, ?it/s]         "
     ]
    },
    {
     "name": "stdout",
     "output_type": "stream",
     "text": [
      "2018-02-22 22:04:27.609710\t25\tGRU\t1\t0.0\t0.2\t1\t52.2499978542\t50.7777104775\n"
     ]
    },
    {
     "name": "stderr",
     "output_type": "stream",
     "text": [
      "  0%|          | 0/90 [00:00<?, ?it/s]         "
     ]
    },
    {
     "name": "stdout",
     "output_type": "stream",
     "text": [
      "2018-02-22 22:04:49.303309\t25\tGRU\t1\t0.0\t0.2\t2\t51.4999985695\t51.4305734303\n"
     ]
    },
    {
     "name": "stderr",
     "output_type": "stream",
     "text": [
      "  0%|          | 0/90 [00:00<?, ?it/s]         "
     ]
    },
    {
     "name": "stdout",
     "output_type": "stream",
     "text": [
      "2018-02-22 22:05:10.787311\t25\tGRU\t1\t0.0\t0.2\t3\t52.3000001907\t51.5869085987\n"
     ]
    },
    {
     "name": "stderr",
     "output_type": "stream",
     "text": [
      "  0%|          | 0/90 [00:00<?, ?it/s]         "
     ]
    },
    {
     "name": "stdout",
     "output_type": "stream",
     "text": [
      "2018-02-22 22:05:32.145049\t25\tGRU\t1\t0.0\t0.2\t4\t52.3999989033\t52.2218827738\n"
     ]
    },
    {
     "name": "stderr",
     "output_type": "stream",
     "text": [
      "                                               \r"
     ]
    },
    {
     "name": "stdout",
     "output_type": "stream",
     "text": [
      "2018-02-22 22:05:53.628261\t25\tGRU\t1\t0.0\t0.2\t5\t52.6000022888\t52.4828952551\n"
     ]
    },
    {
     "name": "stderr",
     "output_type": "stream",
     "text": [
      "  0%|          | 0/90 [00:00<?, ?it/s]         "
     ]
    },
    {
     "name": "stdout",
     "output_type": "stream",
     "text": [
      "2018-02-22 22:06:58.017167\t25\tGRU\t1\t0.0\t0.3\t0\t49.6499985456\t49.9527171916\n"
     ]
    },
    {
     "name": "stderr",
     "output_type": "stream",
     "text": [
      "  0%|          | 0/90 [00:00<?, ?it/s]         "
     ]
    },
    {
     "name": "stdout",
     "output_type": "stream",
     "text": [
      "2018-02-22 22:07:19.663025\t25\tGRU\t1\t0.0\t0.3\t1\t51.3000011444\t50.7131679522\n"
     ]
    },
    {
     "name": "stderr",
     "output_type": "stream",
     "text": [
      "  0%|          | 0/90 [00:00<?, ?it/s]         "
     ]
    },
    {
     "name": "stdout",
     "output_type": "stream",
     "text": [
      "2018-02-22 22:07:41.357991\t25\tGRU\t1\t0.0\t0.3\t2\t51.599997282\t51.5741941333\n"
     ]
    },
    {
     "name": "stderr",
     "output_type": "stream",
     "text": [
      "  0%|          | 0/90 [00:00<?, ?it/s]         "
     ]
    },
    {
     "name": "stdout",
     "output_type": "stream",
     "text": [
      "2018-02-22 22:08:02.829675\t25\tGRU\t1\t0.0\t0.3\t3\t51.2000024319\t51.3345936934\n"
     ]
    },
    {
     "name": "stderr",
     "output_type": "stream",
     "text": [
      "  0%|          | 0/90 [00:00<?, ?it/s]         "
     ]
    },
    {
     "name": "stdout",
     "output_type": "stream",
     "text": [
      "2018-02-22 22:08:24.625039\t25\tGRU\t1\t0.0\t0.3\t4\t49.7000008821\t51.6307369537\n"
     ]
    },
    {
     "name": "stderr",
     "output_type": "stream",
     "text": [
      "                                               \r"
     ]
    },
    {
     "name": "stdout",
     "output_type": "stream",
     "text": [
      "2018-02-22 22:08:46.510038\t25\tGRU\t1\t0.0\t0.3\t5\t51.3499975204\t52.2647408313\n"
     ]
    },
    {
     "name": "stderr",
     "output_type": "stream",
     "text": [
      "  0%|          | 0/90 [00:00<?, ?it/s]         "
     ]
    },
    {
     "name": "stdout",
     "output_type": "stream",
     "text": [
      "2018-02-22 22:09:47.335615\t25\tGRU\t1\t0.1\t0.0\t0\t52.0500004292\t49.7139679061\n"
     ]
    },
    {
     "name": "stderr",
     "output_type": "stream",
     "text": [
      "  0%|          | 0/90 [00:00<?, ?it/s]         "
     ]
    },
    {
     "name": "stdout",
     "output_type": "stream",
     "text": [
      "2018-02-22 22:10:09.096073\t25\tGRU\t1\t0.1\t0.0\t1\t54.4499993324\t53.4310842885\n"
     ]
    },
    {
     "name": "stderr",
     "output_type": "stream",
     "text": [
      "  0%|          | 0/90 [00:00<?, ?it/s]         "
     ]
    },
    {
     "name": "stdout",
     "output_type": "stream",
     "text": [
      "2018-02-22 22:10:30.605360\t25\tGRU\t1\t0.1\t0.0\t2\t73.5499978065\t67.8217940198\n"
     ]
    },
    {
     "name": "stderr",
     "output_type": "stream",
     "text": [
      "  0%|          | 0/90 [00:00<?, ?it/s]         "
     ]
    },
    {
     "name": "stdout",
     "output_type": "stream",
     "text": [
      "2018-02-22 22:10:52.084068\t25\tGRU\t1\t0.1\t0.0\t3\t76.700001955\t75.8220492469\n"
     ]
    },
    {
     "name": "stderr",
     "output_type": "stream",
     "text": [
      "  0%|          | 0/90 [00:00<?, ?it/s]         "
     ]
    },
    {
     "name": "stdout",
     "output_type": "stream",
     "text": [
      "2018-02-22 22:11:13.515451\t25\tGRU\t1\t0.1\t0.0\t4\t78.9499998093\t78.0537178781\n"
     ]
    },
    {
     "name": "stderr",
     "output_type": "stream",
     "text": [
      "                                               \r"
     ]
    },
    {
     "name": "stdout",
     "output_type": "stream",
     "text": [
      "2018-02-22 22:11:34.973767\t25\tGRU\t1\t0.1\t0.0\t5\t79.2999982834\t80.014144712\n"
     ]
    },
    {
     "name": "stderr",
     "output_type": "stream",
     "text": [
      "  0%|          | 0/90 [00:00<?, ?it/s]         "
     ]
    },
    {
     "name": "stdout",
     "output_type": "stream",
     "text": [
      "2018-02-22 22:12:37.057838\t25\tGRU\t1\t0.1\t0.1\t0\t50.1999974251\t51.4042765233\n"
     ]
    },
    {
     "name": "stderr",
     "output_type": "stream",
     "text": [
      "  0%|          | 0/90 [00:00<?, ?it/s]         "
     ]
    },
    {
     "name": "stdout",
     "output_type": "stream",
     "text": [
      "2018-02-22 22:12:58.698919\t25\tGRU\t1\t0.1\t0.1\t1\t52.8999984264\t52.4222675297\n"
     ]
    },
    {
     "name": "stderr",
     "output_type": "stream",
     "text": [
      "  0%|          | 0/90 [00:00<?, ?it/s]         "
     ]
    },
    {
     "name": "stdout",
     "output_type": "stream",
     "text": [
      "2018-02-22 22:13:20.244217\t25\tGRU\t1\t0.1\t0.1\t2\t67.4000024796\t60.4397647248\n"
     ]
    },
    {
     "name": "stderr",
     "output_type": "stream",
     "text": [
      "  0%|          | 0/90 [00:00<?, ?it/s]         "
     ]
    },
    {
     "name": "stdout",
     "output_type": "stream",
     "text": [
      "2018-02-22 22:13:41.737302\t25\tGRU\t1\t0.1\t0.1\t3\t64.3999993801\t66.5261106359\n"
     ]
    },
    {
     "name": "stderr",
     "output_type": "stream",
     "text": [
      "  0%|          | 0/90 [00:00<?, ?it/s]         "
     ]
    },
    {
     "name": "stdout",
     "output_type": "stream",
     "text": [
      "2018-02-22 22:14:03.292687\t25\tGRU\t1\t0.1\t0.1\t4\t74.0000009537\t67.9962903261\n"
     ]
    },
    {
     "name": "stderr",
     "output_type": "stream",
     "text": [
      "                                               \r"
     ]
    },
    {
     "name": "stdout",
     "output_type": "stream",
     "text": [
      "2018-02-22 22:14:24.827346\t25\tGRU\t1\t0.1\t0.1\t5\t73.1999993324\t70.0521011485\n"
     ]
    },
    {
     "name": "stderr",
     "output_type": "stream",
     "text": [
      "  0%|          | 0/90 [00:00<?, ?it/s]         "
     ]
    },
    {
     "name": "stdout",
     "output_type": "stream",
     "text": [
      "2018-02-22 22:15:26.400167\t25\tGRU\t1\t0.1\t0.2\t0\t51.9500017166\t50.2353459928\n"
     ]
    },
    {
     "name": "stderr",
     "output_type": "stream",
     "text": [
      "  0%|          | 0/90 [00:00<?, ?it/s]         "
     ]
    },
    {
     "name": "stdout",
     "output_type": "stream",
     "text": [
      "2018-02-22 22:15:48.054272\t25\tGRU\t1\t0.1\t0.2\t1\t50.5500018597\t52.1093419856\n"
     ]
    },
    {
     "name": "stderr",
     "output_type": "stream",
     "text": [
      "  0%|          | 0/90 [00:00<?, ?it/s]         "
     ]
    },
    {
     "name": "stdout",
     "output_type": "stream",
     "text": [
      "2018-02-22 22:16:09.554876\t25\tGRU\t1\t0.1\t0.2\t2\t53.149998188\t52.0309615797\n"
     ]
    },
    {
     "name": "stderr",
     "output_type": "stream",
     "text": [
      "  0%|          | 0/90 [00:00<?, ?it/s]         "
     ]
    },
    {
     "name": "stdout",
     "output_type": "stream",
     "text": [
      "2018-02-22 22:16:31.121959\t25\tGRU\t1\t0.1\t0.2\t3\t52.9500007629\t52.856822941\n"
     ]
    },
    {
     "name": "stderr",
     "output_type": "stream",
     "text": [
      "  0%|          | 0/90 [00:00<?, ?it/s]         "
     ]
    },
    {
     "name": "stdout",
     "output_type": "stream",
     "text": [
      "2018-02-22 22:16:52.620161\t25\tGRU\t1\t0.1\t0.2\t4\t60.1000010967\t55.5411230856\n"
     ]
    },
    {
     "name": "stderr",
     "output_type": "stream",
     "text": [
      "                                               \r"
     ]
    },
    {
     "name": "stdout",
     "output_type": "stream",
     "text": [
      "2018-02-22 22:17:14.105308\t25\tGRU\t1\t0.1\t0.2\t5\t54.1000008583\t56.5325445268\n"
     ]
    },
    {
     "name": "stderr",
     "output_type": "stream",
     "text": [
      "  0%|          | 0/90 [00:00<?, ?it/s]         "
     ]
    },
    {
     "name": "stdout",
     "output_type": "stream",
     "text": [
      "2018-02-22 22:18:17.454600\t25\tGRU\t1\t0.1\t0.3\t0\t51.9999980927\t49.5561518603\n"
     ]
    },
    {
     "name": "stderr",
     "output_type": "stream",
     "text": [
      "  0%|          | 0/90 [00:00<?, ?it/s]         "
     ]
    },
    {
     "name": "stdout",
     "output_type": "stream",
     "text": [
      "2018-02-22 22:18:38.960237\t25\tGRU\t1\t0.1\t0.3\t1\t52.2000014782\t50.5562541882\n"
     ]
    },
    {
     "name": "stderr",
     "output_type": "stream",
     "text": [
      "  0%|          | 0/90 [00:00<?, ?it/s]         "
     ]
    },
    {
     "name": "stdout",
     "output_type": "stream",
     "text": [
      "2018-02-22 22:19:00.393909\t25\tGRU\t1\t0.1\t0.3\t2\t51.8999993801\t50.7701192962\n"
     ]
    },
    {
     "name": "stderr",
     "output_type": "stream",
     "text": [
      "  0%|          | 0/90 [00:00<?, ?it/s]         "
     ]
    },
    {
     "name": "stdout",
     "output_type": "stream",
     "text": [
      "2018-02-22 22:19:21.955138\t25\tGRU\t1\t0.1\t0.3\t3\t51.7499983311\t50.6747863359\n"
     ]
    },
    {
     "name": "stderr",
     "output_type": "stream",
     "text": [
      "  0%|          | 0/90 [00:00<?, ?it/s]         "
     ]
    },
    {
     "name": "stdout",
     "output_type": "stream",
     "text": [
      "2018-02-22 22:19:43.493058\t25\tGRU\t1\t0.1\t0.3\t4\t51.2499988079\t50.6089331375\n"
     ]
    },
    {
     "name": "stderr",
     "output_type": "stream",
     "text": [
      "                                               \r"
     ]
    },
    {
     "name": "stdout",
     "output_type": "stream",
     "text": [
      "2018-02-22 22:20:05.101723\t25\tGRU\t1\t0.1\t0.3\t5\t51.3499975204\t49.8769918746\n"
     ]
    },
    {
     "name": "stderr",
     "output_type": "stream",
     "text": [
      "  0%|          | 0/90 [00:00<?, ?it/s]         "
     ]
    },
    {
     "name": "stdout",
     "output_type": "stream",
     "text": [
      "2018-02-22 22:21:06.960107\t25\tGRU\t1\t0.15\t0.0\t0\t51.599997282\t51.6666677594\n"
     ]
    },
    {
     "name": "stderr",
     "output_type": "stream",
     "text": [
      "  0%|          | 0/90 [00:00<?, ?it/s]         "
     ]
    },
    {
     "name": "stdout",
     "output_type": "stream",
     "text": [
      "2018-02-22 22:21:28.492341\t25\tGRU\t1\t0.15\t0.0\t1\t68.900001049\t57.2814552652\n"
     ]
    },
    {
     "name": "stderr",
     "output_type": "stream",
     "text": [
      "  0%|          | 0/90 [00:00<?, ?it/s]         "
     ]
    },
    {
     "name": "stdout",
     "output_type": "stream",
     "text": [
      "2018-02-22 22:21:49.919798\t25\tGRU\t1\t0.15\t0.0\t2\t77.3999989033\t75.5339739058\n"
     ]
    },
    {
     "name": "stderr",
     "output_type": "stream",
     "text": [
      "  0%|          | 0/90 [00:00<?, ?it/s]         "
     ]
    },
    {
     "name": "stdout",
     "output_type": "stream",
     "text": [
      "2018-02-22 22:22:11.409640\t25\tGRU\t1\t0.15\t0.0\t3\t80.1999986172\t79.2299501763\n"
     ]
    },
    {
     "name": "stderr",
     "output_type": "stream",
     "text": [
      "  0%|          | 0/90 [00:00<?, ?it/s]         "
     ]
    },
    {
     "name": "stdout",
     "output_type": "stream",
     "text": [
      "2018-02-22 22:22:32.801965\t25\tGRU\t1\t0.15\t0.0\t4\t79.9000024796\t80.7045382261\n"
     ]
    },
    {
     "name": "stderr",
     "output_type": "stream",
     "text": [
      "                                               \r"
     ]
    },
    {
     "name": "stdout",
     "output_type": "stream",
     "text": [
      "2018-02-22 22:22:54.250728\t25\tGRU\t1\t0.15\t0.0\t5\t81.9999992847\t81.6494081418\n"
     ]
    },
    {
     "name": "stderr",
     "output_type": "stream",
     "text": [
      "  0%|          | 0/90 [00:00<?, ?it/s]         "
     ]
    },
    {
     "name": "stdout",
     "output_type": "stream",
     "text": [
      "2018-02-22 22:23:56.073140\t25\tGRU\t1\t0.15\t0.1\t0\t51.8000006676\t51.3444147838\n"
     ]
    },
    {
     "name": "stderr",
     "output_type": "stream",
     "text": [
      "  0%|          | 0/90 [00:00<?, ?it/s]         "
     ]
    },
    {
     "name": "stdout",
     "output_type": "stream",
     "text": [
      "2018-02-22 22:24:17.926723\t25\tGRU\t1\t0.15\t0.1\t1\t63.9500021935\t58.0300425159\n"
     ]
    },
    {
     "name": "stderr",
     "output_type": "stream",
     "text": [
      "  0%|          | 0/90 [00:00<?, ?it/s]         "
     ]
    },
    {
     "name": "stdout",
     "output_type": "stream",
     "text": [
      "2018-02-22 22:24:39.503977\t25\tGRU\t1\t0.15\t0.1\t2\t61.1999988556\t63.1471279263\n"
     ]
    },
    {
     "name": "stderr",
     "output_type": "stream",
     "text": [
      "  0%|          | 0/90 [00:00<?, ?it/s]         "
     ]
    },
    {
     "name": "stdout",
     "output_type": "stream",
     "text": [
      "2018-02-22 22:25:01.078182\t25\tGRU\t1\t0.15\t0.1\t3\t50.2499997616\t55.5399653978\n"
     ]
    },
    {
     "name": "stderr",
     "output_type": "stream",
     "text": [
      "  0%|          | 0/90 [00:00<?, ?it/s]         "
     ]
    },
    {
     "name": "stdout",
     "output_type": "stream",
     "text": [
      "2018-02-22 22:25:22.661934\t25\tGRU\t1\t0.15\t0.1\t4\t51.8999993801\t52.0096005996\n"
     ]
    },
    {
     "name": "stderr",
     "output_type": "stream",
     "text": [
      "                                               \r"
     ]
    },
    {
     "name": "stdout",
     "output_type": "stream",
     "text": [
      "2018-02-22 22:25:44.443683\t25\tGRU\t1\t0.15\t0.1\t5\t56.0000002384\t53.0873342024\n"
     ]
    },
    {
     "name": "stderr",
     "output_type": "stream",
     "text": [
      "  0%|          | 0/90 [00:00<?, ?it/s]         "
     ]
    },
    {
     "name": "stdout",
     "output_type": "stream",
     "text": [
      "2018-02-22 22:26:47.337397\t25\tGRU\t1\t0.15\t0.2\t0\t49.849998951\t50.2272100912\n"
     ]
    },
    {
     "name": "stderr",
     "output_type": "stream",
     "text": [
      "  0%|          | 0/90 [00:00<?, ?it/s]         "
     ]
    },
    {
     "name": "stdout",
     "output_type": "stream",
     "text": [
      "2018-02-22 22:27:09.029546\t25\tGRU\t1\t0.15\t0.2\t1\t50.9999990463\t52.000681791\n"
     ]
    },
    {
     "name": "stderr",
     "output_type": "stream",
     "text": [
      "  0%|          | 0/90 [00:00<?, ?it/s]         "
     ]
    },
    {
     "name": "stdout",
     "output_type": "stream",
     "text": [
      "2018-02-22 22:27:30.669595\t25\tGRU\t1\t0.15\t0.2\t2\t51.8499970436\t52.4297905962\n"
     ]
    },
    {
     "name": "stderr",
     "output_type": "stream",
     "text": [
      "  0%|          | 0/90 [00:00<?, ?it/s]         "
     ]
    },
    {
     "name": "stdout",
     "output_type": "stream",
     "text": [
      "2018-02-22 22:27:52.276778\t25\tGRU\t1\t0.15\t0.2\t3\t54.0000021458\t53.1525064839\n"
     ]
    },
    {
     "name": "stderr",
     "output_type": "stream",
     "text": [
      "  0%|          | 0/90 [00:00<?, ?it/s]         "
     ]
    },
    {
     "name": "stdout",
     "output_type": "stream",
     "text": [
      "2018-02-22 22:28:13.835448\t25\tGRU\t1\t0.15\t0.2\t4\t56.0000002384\t57.7341207531\n"
     ]
    },
    {
     "name": "stderr",
     "output_type": "stream",
     "text": [
      "                                               \r"
     ]
    },
    {
     "name": "stdout",
     "output_type": "stream",
     "text": [
      "2018-02-22 22:28:35.428393\t25\tGRU\t1\t0.15\t0.2\t5\t63.0999982357\t61.0435058673\n"
     ]
    },
    {
     "name": "stderr",
     "output_type": "stream",
     "text": [
      "  0%|          | 0/90 [00:00<?, ?it/s]         "
     ]
    },
    {
     "name": "stdout",
     "output_type": "stream",
     "text": [
      "2018-02-22 22:29:38.722750\t25\tGRU\t1\t0.15\t0.3\t0\t49.3999987841\t49.9572787682\n"
     ]
    },
    {
     "name": "stderr",
     "output_type": "stream",
     "text": [
      "  0%|          | 0/90 [00:00<?, ?it/s]         "
     ]
    },
    {
     "name": "stdout",
     "output_type": "stream",
     "text": [
      "2018-02-22 22:30:00.317152\t25\tGRU\t1\t0.15\t0.3\t1\t50.0500023365\t50.5268935031\n"
     ]
    },
    {
     "name": "stderr",
     "output_type": "stream",
     "text": [
      "  0%|          | 0/90 [00:00<?, ?it/s]         "
     ]
    },
    {
     "name": "stdout",
     "output_type": "stream",
     "text": [
      "2018-02-22 22:30:22.031675\t25\tGRU\t1\t0.15\t0.3\t2\t50.1999974251\t50.9216035075\n"
     ]
    },
    {
     "name": "stderr",
     "output_type": "stream",
     "text": [
      "  0%|          | 0/90 [00:00<?, ?it/s]         "
     ]
    },
    {
     "name": "stdout",
     "output_type": "stream",
     "text": [
      "2018-02-22 22:30:43.722954\t25\tGRU\t1\t0.15\t0.3\t3\t51.550000906\t51.3301001986\n"
     ]
    },
    {
     "name": "stderr",
     "output_type": "stream",
     "text": [
      "  0%|          | 0/90 [00:00<?, ?it/s]         "
     ]
    },
    {
     "name": "stdout",
     "output_type": "stream",
     "text": [
      "2018-02-22 22:31:05.444324\t25\tGRU\t1\t0.15\t0.3\t4\t51.0500013828\t51.3434445196\n"
     ]
    },
    {
     "name": "stderr",
     "output_type": "stream",
     "text": [
      "                                               \r"
     ]
    },
    {
     "name": "stdout",
     "output_type": "stream",
     "text": [
      "2018-02-22 22:31:27.079267\t25\tGRU\t1\t0.15\t0.3\t5\t50.9000003338\t51.1130012075\n"
     ]
    },
    {
     "name": "stderr",
     "output_type": "stream",
     "text": [
      "  0%|          | 0/90 [00:00<?, ?it/s]         "
     ]
    },
    {
     "name": "stdout",
     "output_type": "stream",
     "text": [
      "2018-02-22 22:32:30.515950\t25\tGRU\t1\t0.3\t0.0\t0\t52.9500007629\t50.845419036\n"
     ]
    },
    {
     "name": "stderr",
     "output_type": "stream",
     "text": [
      "  0%|          | 0/90 [00:00<?, ?it/s]         "
     ]
    },
    {
     "name": "stdout",
     "output_type": "stream",
     "text": [
      "2018-02-22 22:32:51.869921\t25\tGRU\t1\t0.3\t0.0\t1\t70.5500006676\t60.7564176453\n"
     ]
    },
    {
     "name": "stderr",
     "output_type": "stream",
     "text": [
      "  0%|          | 0/90 [00:00<?, ?it/s]         "
     ]
    },
    {
     "name": "stdout",
     "output_type": "stream",
     "text": [
      "2018-02-22 22:33:13.339493\t25\tGRU\t1\t0.3\t0.0\t2\t75.3000020981\t73.8749496142\n"
     ]
    },
    {
     "name": "stderr",
     "output_type": "stream",
     "text": [
      "  0%|          | 0/90 [00:00<?, ?it/s]         "
     ]
    },
    {
     "name": "stdout",
     "output_type": "stream",
     "text": [
      "2018-02-22 22:33:34.921693\t25\tGRU\t1\t0.3\t0.0\t3\t77.3000001907\t77.1401149697\n"
     ]
    },
    {
     "name": "stderr",
     "output_type": "stream",
     "text": [
      "  0%|          | 0/90 [00:00<?, ?it/s]         "
     ]
    },
    {
     "name": "stdout",
     "output_type": "stream",
     "text": [
      "2018-02-22 22:33:56.406855\t25\tGRU\t1\t0.3\t0.0\t4\t79.3500006199\t79.3051986562\n"
     ]
    },
    {
     "name": "stderr",
     "output_type": "stream",
     "text": [
      "                                               \r"
     ]
    },
    {
     "name": "stdout",
     "output_type": "stream",
     "text": [
      "2018-02-22 22:34:17.866799\t25\tGRU\t1\t0.3\t0.0\t5\t80.6500017643\t80.9054164754\n"
     ]
    },
    {
     "name": "stderr",
     "output_type": "stream",
     "text": [
      "  0%|          | 0/90 [00:00<?, ?it/s]         "
     ]
    },
    {
     "name": "stdout",
     "output_type": "stream",
     "text": [
      "2018-02-22 22:35:20.930607\t25\tGRU\t1\t0.3\t0.1\t0\t52.3500025272\t49.9752696355\n"
     ]
    },
    {
     "name": "stderr",
     "output_type": "stream",
     "text": [
      "  0%|          | 0/90 [00:00<?, ?it/s]         "
     ]
    },
    {
     "name": "stdout",
     "output_type": "stream",
     "text": [
      "2018-02-22 22:35:42.595431\t25\tGRU\t1\t0.3\t0.1\t1\t53.3999979496\t52.0877767271\n"
     ]
    },
    {
     "name": "stderr",
     "output_type": "stream",
     "text": [
      "  0%|          | 0/90 [00:00<?, ?it/s]         "
     ]
    },
    {
     "name": "stdout",
     "output_type": "stream",
     "text": [
      "2018-02-22 22:36:04.140048\t25\tGRU\t1\t0.3\t0.1\t2\t54.1499972343\t53.4308799108\n"
     ]
    },
    {
     "name": "stderr",
     "output_type": "stream",
     "text": [
      "  0%|          | 0/90 [00:00<?, ?it/s]         "
     ]
    },
    {
     "name": "stdout",
     "output_type": "stream",
     "text": [
      "2018-02-22 22:36:25.614574\t25\tGRU\t1\t0.3\t0.1\t3\t68.0499970913\t63.0526289013\n"
     ]
    },
    {
     "name": "stderr",
     "output_type": "stream",
     "text": [
      "  0%|          | 0/90 [00:00<?, ?it/s]         "
     ]
    },
    {
     "name": "stdout",
     "output_type": "stream",
     "text": [
      "2018-02-22 22:36:47.165744\t25\tGRU\t1\t0.3\t0.1\t4\t55.1500022411\t69.6937303411\n"
     ]
    },
    {
     "name": "stderr",
     "output_type": "stream",
     "text": [
      "                                               \r"
     ]
    },
    {
     "name": "stdout",
     "output_type": "stream",
     "text": [
      "2018-02-22 22:37:08.723781\t25\tGRU\t1\t0.3\t0.1\t5\t51.1500000954\t51.5613435043\n"
     ]
    },
    {
     "name": "stderr",
     "output_type": "stream",
     "text": [
      "  0%|          | 0/90 [00:00<?, ?it/s]         "
     ]
    },
    {
     "name": "stdout",
     "output_type": "stream",
     "text": [
      "2018-02-22 22:38:10.897627\t25\tGRU\t1\t0.3\t0.2\t0\t51.2499988079\t49.8696561654\n"
     ]
    },
    {
     "name": "stderr",
     "output_type": "stream",
     "text": [
      "  0%|          | 0/90 [00:00<?, ?it/s]         "
     ]
    },
    {
     "name": "stdout",
     "output_type": "stream",
     "text": [
      "2018-02-22 22:38:32.410311\t25\tGRU\t1\t0.3\t0.2\t1\t51.8000006676\t51.6174776687\n"
     ]
    },
    {
     "name": "stderr",
     "output_type": "stream",
     "text": [
      "  0%|          | 0/90 [00:00<?, ?it/s]         "
     ]
    },
    {
     "name": "stdout",
     "output_type": "stream",
     "text": [
      "2018-02-22 22:38:53.877686\t25\tGRU\t1\t0.3\t0.2\t2\t52.3500025272\t52.1876881851\n"
     ]
    },
    {
     "name": "stderr",
     "output_type": "stream",
     "text": [
      "  0%|          | 0/90 [00:00<?, ?it/s]         "
     ]
    },
    {
     "name": "stdout",
     "output_type": "stream",
     "text": [
      "2018-02-22 22:39:15.344210\t25\tGRU\t1\t0.3\t0.2\t3\t53.0499994755\t52.8355300758\n"
     ]
    },
    {
     "name": "stderr",
     "output_type": "stream",
     "text": [
      "  0%|          | 0/90 [00:00<?, ?it/s]         "
     ]
    },
    {
     "name": "stdout",
     "output_type": "stream",
     "text": [
      "2018-02-22 22:39:36.850306\t25\tGRU\t1\t0.3\t0.2\t4\t53.3500015736\t53.2781191667\n"
     ]
    },
    {
     "name": "stderr",
     "output_type": "stream",
     "text": [
      "                                               \r"
     ]
    },
    {
     "name": "stdout",
     "output_type": "stream",
     "text": [
      "2018-02-22 22:39:58.395614\t25\tGRU\t1\t0.3\t0.2\t5\t58.7000012398\t54.6105845438\n"
     ]
    },
    {
     "name": "stderr",
     "output_type": "stream",
     "text": [
      "  0%|          | 0/90 [00:00<?, ?it/s]         "
     ]
    },
    {
     "name": "stdout",
     "output_type": "stream",
     "text": [
      "2018-02-22 22:41:01.412288\t25\tGRU\t1\t0.3\t0.3\t0\t51.599997282\t49.9612444639\n"
     ]
    },
    {
     "name": "stderr",
     "output_type": "stream",
     "text": [
      "  0%|          | 0/90 [00:00<?, ?it/s]         "
     ]
    },
    {
     "name": "stdout",
     "output_type": "stream",
     "text": [
      "2018-02-22 22:41:22.996509\t25\tGRU\t1\t0.3\t0.3\t1\t50.8499979973\t50.2473283807\n"
     ]
    },
    {
     "name": "stderr",
     "output_type": "stream",
     "text": [
      "  0%|          | 0/90 [00:00<?, ?it/s]         "
     ]
    },
    {
     "name": "stdout",
     "output_type": "stream",
     "text": [
      "2018-02-22 22:41:44.492101\t25\tGRU\t1\t0.3\t0.3\t2\t50.4000008106\t50.622600913\n"
     ]
    },
    {
     "name": "stderr",
     "output_type": "stream",
     "text": [
      "  0%|          | 0/90 [00:00<?, ?it/s]         "
     ]
    },
    {
     "name": "stdout",
     "output_type": "stream",
     "text": [
      "2018-02-22 22:42:05.995286\t25\tGRU\t1\t0.3\t0.3\t3\t52.5499999523\t50.5524585644\n"
     ]
    },
    {
     "name": "stderr",
     "output_type": "stream",
     "text": [
      "  0%|          | 0/90 [00:00<?, ?it/s]         "
     ]
    },
    {
     "name": "stdout",
     "output_type": "stream",
     "text": [
      "2018-02-22 22:42:27.499343\t25\tGRU\t1\t0.3\t0.3\t4\t52.9500007629\t50.6780032317\n"
     ]
    },
    {
     "name": "stderr",
     "output_type": "stream",
     "text": [
      "                                               \r"
     ]
    },
    {
     "name": "stdout",
     "output_type": "stream",
     "text": [
      "2018-02-22 22:42:49.017072\t25\tGRU\t1\t0.3\t0.3\t5\t53.7000000477\t51.2120957507\n"
     ]
    },
    {
     "name": "stderr",
     "output_type": "stream",
     "text": [
      "  0%|          | 0/90 [00:00<?, ?it/s]         "
     ]
    },
    {
     "name": "stdout",
     "output_type": "stream",
     "text": [
      "2018-02-22 22:45:04.179221\t25\tGRU\t2\t0.0\t0.0\t0\t55.5499970913\t52.846134007\n"
     ]
    },
    {
     "name": "stderr",
     "output_type": "stream",
     "text": [
      "  0%|          | 0/90 [00:00<?, ?it/s]         "
     ]
    },
    {
     "name": "stdout",
     "output_type": "stream",
     "text": [
      "2018-02-22 22:45:50.529333\t25\tGRU\t2\t0.0\t0.0\t1\t70.3999996185\t66.7920759651\n"
     ]
    },
    {
     "name": "stderr",
     "output_type": "stream",
     "text": [
      "  0%|          | 0/90 [00:00<?, ?it/s]         "
     ]
    },
    {
     "name": "stdout",
     "output_type": "stream",
     "text": [
      "2018-02-22 22:46:36.683548\t25\tGRU\t2\t0.0\t0.0\t2\t76.9500017166\t73.9338411887\n"
     ]
    },
    {
     "name": "stderr",
     "output_type": "stream",
     "text": [
      "  0%|          | 0/90 [00:00<?, ?it/s]         "
     ]
    },
    {
     "name": "stdout",
     "output_type": "stream",
     "text": [
      "2018-02-22 22:47:22.959390\t25\tGRU\t2\t0.0\t0.0\t3\t77.4999976158\t77.9838989841\n"
     ]
    },
    {
     "name": "stderr",
     "output_type": "stream",
     "text": [
      "  0%|          | 0/90 [00:00<?, ?it/s]         "
     ]
    },
    {
     "name": "stdout",
     "output_type": "stream",
     "text": [
      "2018-02-22 22:48:09.720854\t25\tGRU\t2\t0.0\t0.0\t4\t80.1999986172\t80.0181445811\n"
     ]
    },
    {
     "name": "stderr",
     "output_type": "stream",
     "text": [
      "  0%|          | 0/90 [00:00<?, ?it/s]         "
     ]
    },
    {
     "name": "stdout",
     "output_type": "stream",
     "text": [
      "2018-02-22 22:48:56.427438\t25\tGRU\t2\t0.0\t0.0\t5\t81.9500029087\t81.640523341\n"
     ]
    },
    {
     "name": "stderr",
     "output_type": "stream",
     "text": [
      "  0%|          | 0/90 [00:00<?, ?it/s]         "
     ]
    },
    {
     "name": "stdout",
     "output_type": "stream",
     "text": [
      "2018-02-22 22:49:42.604796\t25\tGRU\t2\t0.0\t0.0\t6\t82.2499990463\t82.265795668\n"
     ]
    },
    {
     "name": "stderr",
     "output_type": "stream",
     "text": [
      "  0%|          | 0/90 [00:00<?, ?it/s]         "
     ]
    },
    {
     "name": "stdout",
     "output_type": "stream",
     "text": [
      "2018-02-22 22:50:29.222499\t25\tGRU\t2\t0.0\t0.0\t7\t82.4999988079\t82.961431543\n"
     ]
    },
    {
     "name": "stderr",
     "output_type": "stream",
     "text": [
      "                                               \r"
     ]
    },
    {
     "name": "stdout",
     "output_type": "stream",
     "text": [
      "2018-02-22 22:51:15.601269\t25\tGRU\t2\t0.0\t0.0\t8\t82.800000906\t83.556219803\n"
     ]
    },
    {
     "name": "stderr",
     "output_type": "stream",
     "text": [
      "  0%|          | 0/90 [00:00<?, ?it/s]         "
     ]
    },
    {
     "name": "stdout",
     "output_type": "stream",
     "text": [
      "2018-02-22 22:53:30.986542\t25\tGRU\t2\t0.0\t0.1\t0\t51.6499996185\t51.0017029444\n"
     ]
    },
    {
     "name": "stderr",
     "output_type": "stream",
     "text": [
      "  0%|          | 0/90 [00:00<?, ?it/s]         "
     ]
    },
    {
     "name": "stdout",
     "output_type": "stream",
     "text": [
      "2018-02-22 22:54:18.101397\t25\tGRU\t2\t0.0\t0.1\t1\t53.6499977112\t53.5052605139\n"
     ]
    },
    {
     "name": "stderr",
     "output_type": "stream",
     "text": [
      "  0%|          | 0/90 [00:00<?, ?it/s]         "
     ]
    },
    {
     "name": "stdout",
     "output_type": "stream",
     "text": [
      "2018-02-22 22:55:05.433108\t25\tGRU\t2\t0.0\t0.1\t2\t65.8500015736\t57.8527209163\n"
     ]
    },
    {
     "name": "stderr",
     "output_type": "stream",
     "text": [
      "  0%|          | 0/90 [00:00<?, ?it/s]         "
     ]
    },
    {
     "name": "stdout",
     "output_type": "stream",
     "text": [
      "2018-02-22 22:55:52.912609\t25\tGRU\t2\t0.0\t0.1\t3\t57.7499985695\t56.0004606512\n"
     ]
    },
    {
     "name": "stderr",
     "output_type": "stream",
     "text": [
      "  0%|          | 0/90 [00:00<?, ?it/s]         "
     ]
    },
    {
     "name": "stdout",
     "output_type": "stream",
     "text": [
      "2018-02-22 22:56:40.215116\t25\tGRU\t2\t0.0\t0.1\t4\t51.550000906\t57.5182641877\n"
     ]
    },
    {
     "name": "stderr",
     "output_type": "stream",
     "text": [
      "  0%|          | 0/90 [00:00<?, ?it/s]         "
     ]
    },
    {
     "name": "stdout",
     "output_type": "stream",
     "text": [
      "2018-02-22 22:57:27.268402\t25\tGRU\t2\t0.0\t0.1\t5\t54.6000003815\t54.1782758302\n"
     ]
    },
    {
     "name": "stderr",
     "output_type": "stream",
     "text": [
      "  0%|          | 0/90 [00:00<?, ?it/s]         "
     ]
    },
    {
     "name": "stdout",
     "output_type": "stream",
     "text": [
      "2018-02-22 22:58:14.347586\t25\tGRU\t2\t0.0\t0.1\t6\t64.9999976158\t60.7235678037\n"
     ]
    },
    {
     "name": "stderr",
     "output_type": "stream",
     "text": [
      "  0%|          | 0/90 [00:00<?, ?it/s]         "
     ]
    },
    {
     "name": "stdout",
     "output_type": "stream",
     "text": [
      "2018-02-22 22:59:01.720190\t25\tGRU\t2\t0.0\t0.1\t7\t53.2999992371\t55.6488640441\n"
     ]
    },
    {
     "name": "stderr",
     "output_type": "stream",
     "text": [
      "  0%|          | 0/90 [00:00<?, ?it/s]         "
     ]
    },
    {
     "name": "stdout",
     "output_type": "stream",
     "text": [
      "2018-02-22 23:02:02.049904\t25\tGRU\t2\t0.0\t0.2\t0\t51.4999985695\t50.544629097\n"
     ]
    },
    {
     "name": "stderr",
     "output_type": "stream",
     "text": [
      "  0%|          | 0/90 [00:00<?, ?it/s]         "
     ]
    },
    {
     "name": "stdout",
     "output_type": "stream",
     "text": [
      "2018-02-22 23:02:48.927832\t25\tGRU\t2\t0.0\t0.2\t1\t51.8000006676\t52.4054340521\n"
     ]
    },
    {
     "name": "stderr",
     "output_type": "stream",
     "text": [
      "  0%|          | 0/90 [00:00<?, ?it/s]         "
     ]
    },
    {
     "name": "stdout",
     "output_type": "stream",
     "text": [
      "2018-02-22 23:03:36.055406\t25\tGRU\t2\t0.0\t0.2\t2\t56.1500012875\t54.2664430539\n"
     ]
    },
    {
     "name": "stderr",
     "output_type": "stream",
     "text": [
      "  0%|          | 0/90 [00:00<?, ?it/s]         "
     ]
    },
    {
     "name": "stdout",
     "output_type": "stream",
     "text": [
      "2018-02-22 23:04:23.513085\t25\tGRU\t2\t0.0\t0.2\t3\t64.9999976158\t57.6343625122\n"
     ]
    },
    {
     "name": "stderr",
     "output_type": "stream",
     "text": [
      "  0%|          | 0/90 [00:00<?, ?it/s]         "
     ]
    },
    {
     "name": "stdout",
     "output_type": "stream",
     "text": [
      "2018-02-22 23:05:11.003260\t25\tGRU\t2\t0.0\t0.2\t4\t57.5999975204\t60.7788851857\n"
     ]
    },
    {
     "name": "stderr",
     "output_type": "stream",
     "text": [
      "  0%|          | 0/90 [00:00<?, ?it/s]         "
     ]
    },
    {
     "name": "stdout",
     "output_type": "stream",
     "text": [
      "2018-02-22 23:05:58.671998\t25\tGRU\t2\t0.0\t0.2\t5\t66.6499972343\t62.2175764375\n"
     ]
    },
    {
     "name": "stderr",
     "output_type": "stream",
     "text": [
      "  0%|          | 0/90 [00:00<?, ?it/s]         "
     ]
    },
    {
     "name": "stdout",
     "output_type": "stream",
     "text": [
      "2018-02-22 23:06:45.919998\t25\tGRU\t2\t0.0\t0.2\t6\t52.8500020504\t54.0599479609\n"
     ]
    },
    {
     "name": "stderr",
     "output_type": "stream",
     "text": [
      "  0%|          | 0/90 [00:00<?, ?it/s]         "
     ]
    },
    {
     "name": "stdout",
     "output_type": "stream",
     "text": [
      "2018-02-22 23:07:33.089881\t25\tGRU\t2\t0.0\t0.2\t7\t66.0000026226\t54.6545660496\n"
     ]
    },
    {
     "name": "stderr",
     "output_type": "stream",
     "text": [
      "                                               \r"
     ]
    },
    {
     "name": "stdout",
     "output_type": "stream",
     "text": [
      "2018-02-22 23:08:20.450552\t25\tGRU\t2\t0.0\t0.2\t8\t68.3499991894\t64.8311555386\n"
     ]
    },
    {
     "name": "stderr",
     "output_type": "stream",
     "text": [
      "  0%|          | 0/90 [00:00<?, ?it/s]         "
     ]
    },
    {
     "name": "stdout",
     "output_type": "stream",
     "text": [
      "2018-02-22 23:10:37.915408\t25\tGRU\t2\t0.0\t0.3\t0\t50.2499997616\t50.0738534331\n"
     ]
    },
    {
     "name": "stderr",
     "output_type": "stream",
     "text": [
      "  0%|          | 0/90 [00:00<?, ?it/s]         "
     ]
    },
    {
     "name": "stdout",
     "output_type": "stream",
     "text": [
      "2018-02-22 23:11:25.080465\t25\tGRU\t2\t0.0\t0.3\t1\t51.599997282\t50.4790482918\n"
     ]
    },
    {
     "name": "stderr",
     "output_type": "stream",
     "text": [
      "  0%|          | 0/90 [00:00<?, ?it/s]         "
     ]
    },
    {
     "name": "stdout",
     "output_type": "stream",
     "text": [
      "2018-02-22 23:12:12.369319\t25\tGRU\t2\t0.0\t0.3\t2\t52.1000027657\t50.6660546528\n"
     ]
    },
    {
     "name": "stderr",
     "output_type": "stream",
     "text": [
      "  0%|          | 0/90 [00:00<?, ?it/s]         "
     ]
    },
    {
     "name": "stdout",
     "output_type": "stream",
     "text": [
      "2018-02-22 23:12:59.776149\t25\tGRU\t2\t0.0\t0.3\t3\t52.3999989033\t50.3647541338\n"
     ]
    },
    {
     "name": "stderr",
     "output_type": "stream",
     "text": [
      "  0%|          | 0/90 [00:00<?, ?it/s]         "
     ]
    },
    {
     "name": "stdout",
     "output_type": "stream",
     "text": [
      "2018-02-22 23:13:47.144653\t25\tGRU\t2\t0.0\t0.3\t4\t50.5999982357\t50.9821119573\n"
     ]
    },
    {
     "name": "stderr",
     "output_type": "stream",
     "text": [
      "  0%|          | 0/90 [00:00<?, ?it/s]         "
     ]
    },
    {
     "name": "stdout",
     "output_type": "stream",
     "text": [
      "2018-02-22 23:14:34.451777\t25\tGRU\t2\t0.0\t0.3\t5\t52.3000001907\t50.8734689487\n"
     ]
    },
    {
     "name": "stderr",
     "output_type": "stream",
     "text": [
      "  0%|          | 0/90 [00:00<?, ?it/s]         "
     ]
    },
    {
     "name": "stdout",
     "output_type": "stream",
     "text": [
      "2018-02-22 23:15:21.851201\t25\tGRU\t2\t0.0\t0.3\t6\t52.2499978542\t50.2528432674\n"
     ]
    },
    {
     "name": "stderr",
     "output_type": "stream",
     "text": [
      "  0%|          | 0/90 [00:00<?, ?it/s]         "
     ]
    },
    {
     "name": "stdout",
     "output_type": "stream",
     "text": [
      "2018-02-22 23:16:09.016929\t25\tGRU\t2\t0.0\t0.3\t7\t52.4500012398\t51.1952111787\n"
     ]
    },
    {
     "name": "stderr",
     "output_type": "stream",
     "text": [
      "                                               \r"
     ]
    },
    {
     "name": "stdout",
     "output_type": "stream",
     "text": [
      "2018-02-22 23:16:56.175827\t25\tGRU\t2\t0.0\t0.3\t8\t52.6499986649\t51.1918922928\n"
     ]
    },
    {
     "name": "stderr",
     "output_type": "stream",
     "text": [
      "  0%|          | 0/90 [00:00<?, ?it/s]         "
     ]
    },
    {
     "name": "stdout",
     "output_type": "stream",
     "text": [
      "2018-02-22 23:19:11.594899\t25\tGRU\t2\t0.1\t0.0\t0\t59.9500000477\t54.3199220631\n"
     ]
    },
    {
     "name": "stderr",
     "output_type": "stream",
     "text": [
      "  0%|          | 0/90 [00:00<?, ?it/s]         "
     ]
    },
    {
     "name": "stdout",
     "output_type": "stream",
     "text": [
      "2018-02-22 23:19:58.917456\t25\tGRU\t2\t0.1\t0.0\t1\t69.4999992847\t65.7494221793\n"
     ]
    },
    {
     "name": "stderr",
     "output_type": "stream",
     "text": [
      "  0%|          | 0/90 [00:00<?, ?it/s]         "
     ]
    },
    {
     "name": "stdout",
     "output_type": "stream",
     "text": [
      "2018-02-22 23:20:46.201235\t25\tGRU\t2\t0.1\t0.0\t2\t75.9999990463\t71.7103935613\n"
     ]
    },
    {
     "name": "stderr",
     "output_type": "stream",
     "text": [
      "  0%|          | 0/90 [00:00<?, ?it/s]         "
     ]
    },
    {
     "name": "stdout",
     "output_type": "stream",
     "text": [
      "2018-02-22 23:21:33.324912\t25\tGRU\t2\t0.1\t0.0\t3\t79.4499993324\t77.1490848727\n"
     ]
    },
    {
     "name": "stderr",
     "output_type": "stream",
     "text": [
      "  0%|          | 0/90 [00:00<?, ?it/s]         "
     ]
    },
    {
     "name": "stdout",
     "output_type": "stream",
     "text": [
      "2018-02-22 23:22:20.988235\t25\tGRU\t2\t0.1\t0.0\t4\t80.5499970913\t79.5869592826\n"
     ]
    },
    {
     "name": "stderr",
     "output_type": "stream",
     "text": [
      "  0%|          | 0/90 [00:00<?, ?it/s]         "
     ]
    },
    {
     "name": "stdout",
     "output_type": "stream",
     "text": [
      "2018-02-22 23:23:08.096950\t25\tGRU\t2\t0.1\t0.0\t5\t81.4499974251\t80.4104205635\n"
     ]
    },
    {
     "name": "stderr",
     "output_type": "stream",
     "text": [
      "  0%|          | 0/90 [00:00<?, ?it/s]         "
     ]
    },
    {
     "name": "stdout",
     "output_type": "stream",
     "text": [
      "2018-02-22 23:23:55.302376\t25\tGRU\t2\t0.1\t0.0\t6\t81.9999992847\t82.0523391167\n"
     ]
    },
    {
     "name": "stderr",
     "output_type": "stream",
     "text": [
      "  0%|          | 0/90 [00:00<?, ?it/s]         "
     ]
    },
    {
     "name": "stdout",
     "output_type": "stream",
     "text": [
      "2018-02-22 23:24:42.545532\t25\tGRU\t2\t0.1\t0.0\t7\t83.0500006676\t82.4705886841\n"
     ]
    },
    {
     "name": "stderr",
     "output_type": "stream",
     "text": [
      "                                               \r"
     ]
    },
    {
     "name": "stdout",
     "output_type": "stream",
     "text": [
      "2018-02-22 23:25:29.656002\t25\tGRU\t2\t0.1\t0.0\t8\t83.1499993801\t83.1661224365\n"
     ]
    },
    {
     "name": "stderr",
     "output_type": "stream",
     "text": [
      "  0%|          | 0/90 [00:00<?, ?it/s]         "
     ]
    },
    {
     "name": "stdout",
     "output_type": "stream",
     "text": [
      "2018-02-22 23:27:46.415223\t25\tGRU\t2\t0.1\t0.1\t0\t52.3999989033\t51.0891383886\n"
     ]
    },
    {
     "name": "stderr",
     "output_type": "stream",
     "text": [
      "  0%|          | 0/90 [00:00<?, ?it/s]         "
     ]
    },
    {
     "name": "stdout",
     "output_type": "stream",
     "text": [
      "2018-02-22 23:28:32.649561\t25\tGRU\t2\t0.1\t0.1\t1\t51.550000906\t53.204504682\n"
     ]
    },
    {
     "name": "stderr",
     "output_type": "stream",
     "text": [
      "  0%|          | 0/90 [00:00<?, ?it/s]         "
     ]
    },
    {
     "name": "stdout",
     "output_type": "stream",
     "text": [
      "2018-02-22 23:29:19.148240\t25\tGRU\t2\t0.1\t0.1\t2\t65.5499994755\t56.496818165\n"
     ]
    },
    {
     "name": "stderr",
     "output_type": "stream",
     "text": [
      "  0%|          | 0/90 [00:00<?, ?it/s]         "
     ]
    },
    {
     "name": "stdout",
     "output_type": "stream",
     "text": [
      "2018-02-22 23:30:05.804957\t25\tGRU\t2\t0.1\t0.1\t3\t70.8500027657\t63.5530204905\n"
     ]
    },
    {
     "name": "stderr",
     "output_type": "stream",
     "text": [
      " 94%|█████████▍| 85/90 [00:43<00:02,  1.96it/s]IOPub message rate exceeded.\n",
      "The notebook server will temporarily stop sending output\n",
      "to the client in order to avoid crashing it.\n",
      "To change this limit, set the config variable\n",
      "`--NotebookApp.iopub_msg_rate_limit`.\n",
      "\n",
      "Current values:\n",
      "NotebookApp.iopub_msg_rate_limit=1000.0 (msgs/sec)\n",
      "NotebookApp.rate_limit_window=3.0 (secs)\n",
      "\n",
      "  0%|          | 0/90 [00:00<?, ?it/s]         "
     ]
    },
    {
     "name": "stdout",
     "output_type": "stream",
     "text": [
      "2018-02-23 00:02:55.307421\t25\tGRU\t2\t0.15\t0.1\t1\t53.0499994755\t52.939611574\n"
     ]
    },
    {
     "name": "stderr",
     "output_type": "stream",
     "text": [
      "  0%|          | 0/90 [00:00<?, ?it/s]         "
     ]
    },
    {
     "name": "stdout",
     "output_type": "stream",
     "text": [
      "2018-02-23 00:03:42.604787\t25\tGRU\t2\t0.15\t0.1\t2\t55.6999981403\t54.1181927919\n"
     ]
    },
    {
     "name": "stderr",
     "output_type": "stream",
     "text": [
      "  0%|          | 0/90 [00:00<?, ?it/s]         "
     ]
    },
    {
     "name": "stdout",
     "output_type": "stream",
     "text": [
      "2018-02-23 00:04:30.646120\t25\tGRU\t2\t0.15\t0.1\t3\t74.6999979019\t65.4061657853\n"
     ]
    },
    {
     "name": "stderr",
     "output_type": "stream",
     "text": [
      "  0%|          | 0/90 [00:00<?, ?it/s]         "
     ]
    },
    {
     "name": "stdout",
     "output_type": "stream",
     "text": [
      "2018-02-23 00:05:18.254586\t25\tGRU\t2\t0.15\t0.1\t4\t59.6000015736\t67.1505319741\n"
     ]
    },
    {
     "name": "stderr",
     "output_type": "stream",
     "text": [
      "  0%|          | 0/90 [00:00<?, ?it/s]         "
     ]
    },
    {
     "name": "stdout",
     "output_type": "stream",
     "text": [
      "2018-02-23 00:06:05.972931\t25\tGRU\t2\t0.15\t0.1\t5\t63.4500026703\t69.7516517507\n"
     ]
    },
    {
     "name": "stderr",
     "output_type": "stream",
     "text": [
      "  0%|          | 0/90 [00:00<?, ?it/s]         "
     ]
    },
    {
     "name": "stdout",
     "output_type": "stream",
     "text": [
      "2018-02-23 00:06:53.998432\t25\tGRU\t2\t0.15\t0.1\t6\t70.0500011444\t70.5707558658\n"
     ]
    },
    {
     "name": "stderr",
     "output_type": "stream",
     "text": [
      "  0%|          | 0/90 [00:00<?, ?it/s]         "
     ]
    },
    {
     "name": "stdout",
     "output_type": "stream",
     "text": [
      "2018-02-23 00:07:41.494498\t25\tGRU\t2\t0.15\t0.1\t7\t73.449999094\t66.1162523429\n"
     ]
    },
    {
     "name": "stderr",
     "output_type": "stream",
     "text": [
      "                                               \r"
     ]
    },
    {
     "name": "stdout",
     "output_type": "stream",
     "text": [
      "2018-02-23 00:08:29.028639\t25\tGRU\t2\t0.15\t0.1\t8\t72.7999985218\t66.8292833037\n"
     ]
    },
    {
     "name": "stderr",
     "output_type": "stream",
     "text": [
      "  0%|          | 0/90 [00:00<?, ?it/s]         "
     ]
    },
    {
     "name": "stdout",
     "output_type": "stream",
     "text": [
      "2018-02-23 00:10:44.939448\t25\tGRU\t2\t0.15\t0.2\t0\t53.149998188\t50.2701532178\n"
     ]
    },
    {
     "name": "stderr",
     "output_type": "stream",
     "text": [
      "  0%|          | 0/90 [00:00<?, ?it/s]         "
     ]
    },
    {
     "name": "stdout",
     "output_type": "stream",
     "text": [
      "2018-02-23 00:11:32.394356\t25\tGRU\t2\t0.15\t0.2\t1\t53.7000000477\t51.386881272\n"
     ]
    },
    {
     "name": "stderr",
     "output_type": "stream",
     "text": [
      "  0%|          | 0/90 [00:00<?, ?it/s]         "
     ]
    },
    {
     "name": "stdout",
     "output_type": "stream",
     "text": [
      "2018-02-23 00:12:19.731823\t25\tGRU\t2\t0.15\t0.2\t2\t52.8500020504\t51.3744562864\n"
     ]
    },
    {
     "name": "stderr",
     "output_type": "stream",
     "text": [
      "  0%|          | 0/90 [00:00<?, ?it/s]         "
     ]
    },
    {
     "name": "stdout",
     "output_type": "stream",
     "text": [
      "2018-02-23 00:13:07.261934\t25\tGRU\t2\t0.15\t0.2\t3\t52.999997139\t51.4958478676\n"
     ]
    },
    {
     "name": "stderr",
     "output_type": "stream",
     "text": [
      "  0%|          | 0/90 [00:00<?, ?it/s]         "
     ]
    },
    {
     "name": "stdout",
     "output_type": "stream",
     "text": [
      "2018-02-23 00:13:54.809666\t25\tGRU\t2\t0.15\t0.2\t4\t53.149998188\t51.687228481\n"
     ]
    },
    {
     "name": "stderr",
     "output_type": "stream",
     "text": [
      "  0%|          | 0/90 [00:00<?, ?it/s]         "
     ]
    },
    {
     "name": "stdout",
     "output_type": "stream",
     "text": [
      "2018-02-23 00:14:42.182938\t25\tGRU\t2\t0.15\t0.2\t5\t52.1000027657\t52.6435025864\n"
     ]
    },
    {
     "name": "stderr",
     "output_type": "stream",
     "text": [
      "  0%|          | 0/90 [00:00<?, ?it/s]         "
     ]
    },
    {
     "name": "stdout",
     "output_type": "stream",
     "text": [
      "2018-02-23 00:15:29.531733\t25\tGRU\t2\t0.15\t0.2\t6\t53.3500015736\t52.5438293152\n"
     ]
    },
    {
     "name": "stderr",
     "output_type": "stream",
     "text": [
      "  0%|          | 0/90 [00:00<?, ?it/s]         "
     ]
    },
    {
     "name": "stdout",
     "output_type": "stream",
     "text": [
      "2018-02-23 00:16:16.953888\t25\tGRU\t2\t0.15\t0.2\t7\t52.999997139\t53.1512979004\n"
     ]
    },
    {
     "name": "stderr",
     "output_type": "stream",
     "text": [
      "                                               \r"
     ]
    },
    {
     "name": "stdout",
     "output_type": "stream",
     "text": [
      "2018-02-23 00:17:04.866139\t25\tGRU\t2\t0.15\t0.2\t8\t52.6000022888\t53.0085454053\n"
     ]
    },
    {
     "name": "stderr",
     "output_type": "stream",
     "text": [
      "  0%|          | 0/90 [00:00<?, ?it/s]         "
     ]
    },
    {
     "name": "stdout",
     "output_type": "stream",
     "text": [
      "2018-02-23 00:19:23.355911\t25\tGRU\t2\t0.15\t0.3\t0\t51.9500017166\t50.0040685468\n"
     ]
    },
    {
     "name": "stderr",
     "output_type": "stream",
     "text": [
      "  0%|          | 0/90 [00:00<?, ?it/s]         "
     ]
    },
    {
     "name": "stdout",
     "output_type": "stream",
     "text": [
      "2018-02-23 00:20:11.637272\t25\tGRU\t2\t0.15\t0.3\t1\t52.1000027657\t49.7390734156\n"
     ]
    },
    {
     "name": "stderr",
     "output_type": "stream",
     "text": [
      "  0%|          | 0/90 [00:00<?, ?it/s]         "
     ]
    },
    {
     "name": "stdout",
     "output_type": "stream",
     "text": [
      "2018-02-23 00:20:59.273765\t25\tGRU\t2\t0.15\t0.3\t2\t52.3500025272\t50.543250276\n"
     ]
    },
    {
     "name": "stderr",
     "output_type": "stream",
     "text": [
      "  0%|          | 0/90 [00:00<?, ?it/s]         "
     ]
    },
    {
     "name": "stdout",
     "output_type": "stream",
     "text": [
      "2018-02-23 00:21:46.713132\t25\tGRU\t2\t0.15\t0.3\t3\t52.5499999523\t51.2355503771\n"
     ]
    },
    {
     "name": "stderr",
     "output_type": "stream",
     "text": [
      "  0%|          | 0/90 [00:00<?, ?it/s]         "
     ]
    },
    {
     "name": "stdout",
     "output_type": "stream",
     "text": [
      "2018-02-23 00:22:34.202128\t25\tGRU\t2\t0.15\t0.3\t4\t52.1499991417\t50.3563801116\n"
     ]
    },
    {
     "name": "stderr",
     "output_type": "stream",
     "text": [
      "  0%|          | 0/90 [00:00<?, ?it/s]         "
     ]
    },
    {
     "name": "stdout",
     "output_type": "stream",
     "text": [
      "2018-02-23 00:23:21.651205\t25\tGRU\t2\t0.15\t0.3\t5\t50.5999982357\t51.516766217\n"
     ]
    },
    {
     "name": "stderr",
     "output_type": "stream",
     "text": [
      "  0%|          | 0/90 [00:00<?, ?it/s]         "
     ]
    },
    {
     "name": "stdout",
     "output_type": "stream",
     "text": [
      "2018-02-23 00:24:09.851697\t25\tGRU\t2\t0.15\t0.3\t6\t52.7499973774\t50.8609757821\n"
     ]
    },
    {
     "name": "stderr",
     "output_type": "stream",
     "text": [
      "  0%|          | 0/90 [00:00<?, ?it/s]         "
     ]
    },
    {
     "name": "stdout",
     "output_type": "stream",
     "text": [
      "2018-02-23 00:24:57.141616\t25\tGRU\t2\t0.15\t0.3\t7\t50.8000016212\t51.8390362793\n"
     ]
    },
    {
     "name": "stderr",
     "output_type": "stream",
     "text": [
      "                                               \r"
     ]
    },
    {
     "name": "stdout",
     "output_type": "stream",
     "text": [
      "2018-02-23 00:25:44.289666\t25\tGRU\t2\t0.15\t0.3\t8\t52.7000010014\t52.0828406347\n"
     ]
    },
    {
     "name": "stderr",
     "output_type": "stream",
     "text": [
      "  0%|          | 0/90 [00:00<?, ?it/s]         "
     ]
    },
    {
     "name": "stdout",
     "output_type": "stream",
     "text": [
      "2018-02-23 00:28:01.536931\t25\tGRU\t2\t0.3\t0.0\t0\t54.2500019073\t53.2369121578\n"
     ]
    },
    {
     "name": "stderr",
     "output_type": "stream",
     "text": [
      "  0%|          | 0/90 [00:00<?, ?it/s]         "
     ]
    },
    {
     "name": "stdout",
     "output_type": "stream",
     "text": [
      "2018-02-23 00:28:49.247086\t25\tGRU\t2\t0.3\t0.0\t1\t75.9500026703\t67.6093757153\n"
     ]
    },
    {
     "name": "stderr",
     "output_type": "stream",
     "text": [
      "  0%|          | 0/90 [00:00<?, ?it/s]         "
     ]
    },
    {
     "name": "stdout",
     "output_type": "stream",
     "text": [
      "2018-02-23 00:29:37.005658\t25\tGRU\t2\t0.3\t0.0\t2\t76.9500017166\t76.6924195819\n"
     ]
    },
    {
     "name": "stderr",
     "output_type": "stream",
     "text": [
      "  0%|          | 0/90 [00:00<?, ?it/s]         "
     ]
    },
    {
     "name": "stdout",
     "output_type": "stream",
     "text": [
      "2018-02-23 00:30:24.229974\t25\tGRU\t2\t0.3\t0.0\t3\t79.650002718\t79.1180390782\n"
     ]
    },
    {
     "name": "stderr",
     "output_type": "stream",
     "text": [
      "  0%|          | 0/90 [00:00<?, ?it/s]         "
     ]
    },
    {
     "name": "stdout",
     "output_type": "stream",
     "text": [
      "2018-02-23 00:31:11.653998\t25\tGRU\t2\t0.3\t0.0\t4\t79.8500001431\t80.4621805085\n"
     ]
    },
    {
     "name": "stderr",
     "output_type": "stream",
     "text": [
      "  0%|          | 0/90 [00:00<?, ?it/s]         "
     ]
    },
    {
     "name": "stdout",
     "output_type": "stream",
     "text": [
      "2018-02-23 00:31:58.880372\t25\tGRU\t2\t0.3\t0.0\t5\t79.8500001431\t81.4224882258\n"
     ]
    },
    {
     "name": "stderr",
     "output_type": "stream",
     "text": [
      "  0%|          | 0/90 [00:00<?, ?it/s]         "
     ]
    },
    {
     "name": "stdout",
     "output_type": "stream",
     "text": [
      "2018-02-23 00:32:46.602086\t25\tGRU\t2\t0.3\t0.0\t6\t81.400001049\t82.1305321985\n"
     ]
    },
    {
     "name": "stderr",
     "output_type": "stream",
     "text": [
      "  0%|          | 0/90 [00:00<?, ?it/s]         "
     ]
    },
    {
     "name": "stdout",
     "output_type": "stream",
     "text": [
      "2018-02-23 00:33:34.096483\t25\tGRU\t2\t0.3\t0.0\t7\t82.3499977589\t82.4133140511\n"
     ]
    },
    {
     "name": "stderr",
     "output_type": "stream",
     "text": [
      "                                               \r"
     ]
    },
    {
     "name": "stdout",
     "output_type": "stream",
     "text": [
      "2018-02-23 00:34:21.524751\t25\tGRU\t2\t0.3\t0.0\t8\t80.9000015259\t82.5262123346\n"
     ]
    },
    {
     "name": "stderr",
     "output_type": "stream",
     "text": [
      "  0%|          | 0/90 [00:00<?, ?it/s]         "
     ]
    },
    {
     "name": "stdout",
     "output_type": "stream",
     "text": [
      "2018-02-23 00:36:38.005643\t25\tGRU\t2\t0.3\t0.1\t0\t53.2000005245\t51.4318500956\n"
     ]
    },
    {
     "name": "stderr",
     "output_type": "stream",
     "text": [
      "  0%|          | 0/90 [00:00<?, ?it/s]         "
     ]
    },
    {
     "name": "stdout",
     "output_type": "stream",
     "text": [
      "2018-02-23 00:37:25.466555\t25\tGRU\t2\t0.3\t0.1\t1\t53.149998188\t53.0998104148\n"
     ]
    },
    {
     "name": "stderr",
     "output_type": "stream",
     "text": [
      "  0%|          | 0/90 [00:00<?, ?it/s]         "
     ]
    },
    {
     "name": "stdout",
     "output_type": "stream",
     "text": [
      "2018-02-23 00:38:12.869392\t25\tGRU\t2\t0.3\t0.1\t2\t56.7499995232\t54.7310570545\n"
     ]
    },
    {
     "name": "stderr",
     "output_type": "stream",
     "text": [
      "  0%|          | 0/90 [00:00<?, ?it/s]         "
     ]
    },
    {
     "name": "stdout",
     "output_type": "stream",
     "text": [
      "2018-02-23 00:39:00.526406\t25\tGRU\t2\t0.3\t0.1\t3\t67.6999986172\t63.7774893973\n"
     ]
    },
    {
     "name": "stderr",
     "output_type": "stream",
     "text": [
      "  0%|          | 0/90 [00:00<?, ?it/s]         "
     ]
    },
    {
     "name": "stdout",
     "output_type": "stream",
     "text": [
      "2018-02-23 00:39:47.847503\t25\tGRU\t2\t0.3\t0.1\t4\t69.9500024319\t68.4441899591\n"
     ]
    },
    {
     "name": "stderr",
     "output_type": "stream",
     "text": [
      "  0%|          | 0/90 [00:00<?, ?it/s]         "
     ]
    },
    {
     "name": "stdout",
     "output_type": "stream",
     "text": [
      "2018-02-23 00:40:35.301556\t25\tGRU\t2\t0.3\t0.1\t5\t53.2999992371\t59.5667732755\n"
     ]
    },
    {
     "name": "stderr",
     "output_type": "stream",
     "text": [
      "  0%|          | 0/90 [00:00<?, ?it/s]         "
     ]
    },
    {
     "name": "stdout",
     "output_type": "stream",
     "text": [
      "2018-02-23 00:41:22.909259\t25\tGRU\t2\t0.3\t0.1\t6\t63.2000029087\t57.3187135988\n"
     ]
    },
    {
     "name": "stderr",
     "output_type": "stream",
     "text": [
      "  0%|          | 0/90 [00:00<?, ?it/s]         "
     ]
    },
    {
     "name": "stdout",
     "output_type": "stream",
     "text": [
      "2018-02-23 00:42:10.453213\t25\tGRU\t2\t0.3\t0.1\t7\t72.1499979496\t68.4114591281\n"
     ]
    },
    {
     "name": "stderr",
     "output_type": "stream",
     "text": [
      "                                               \r"
     ]
    },
    {
     "name": "stdout",
     "output_type": "stream",
     "text": [
      "2018-02-23 00:42:57.871426\t25\tGRU\t2\t0.3\t0.1\t8\t63.5500013828\t68.9814482795\n"
     ]
    },
    {
     "name": "stderr",
     "output_type": "stream",
     "text": [
      "  0%|          | 0/90 [00:00<?, ?it/s]         "
     ]
    },
    {
     "name": "stdout",
     "output_type": "stream",
     "text": [
      "2018-02-23 00:45:16.238075\t25\tGRU\t2\t0.3\t0.2\t0\t51.0999977589\t50.4006681177\n"
     ]
    },
    {
     "name": "stderr",
     "output_type": "stream",
     "text": [
      "  0%|          | 0/90 [00:00<?, ?it/s]         "
     ]
    },
    {
     "name": "stdout",
     "output_type": "stream",
     "text": [
      "2018-02-23 00:46:03.737724\t25\tGRU\t2\t0.3\t0.2\t1\t53.2000005245\t51.76130265\n"
     ]
    },
    {
     "name": "stderr",
     "output_type": "stream",
     "text": [
      "  0%|          | 0/90 [00:00<?, ?it/s]         "
     ]
    },
    {
     "name": "stdout",
     "output_type": "stream",
     "text": [
      "2018-02-23 00:46:51.119487\t25\tGRU\t2\t0.3\t0.2\t2\t53.3999979496\t52.9658745726\n"
     ]
    },
    {
     "name": "stderr",
     "output_type": "stream",
     "text": [
      "  0%|          | 0/90 [00:00<?, ?it/s]         "
     ]
    },
    {
     "name": "stdout",
     "output_type": "stream",
     "text": [
      "2018-02-23 00:47:39.010447\t25\tGRU\t2\t0.3\t0.2\t3\t53.8500010967\t53.5563736492\n"
     ]
    },
    {
     "name": "stderr",
     "output_type": "stream",
     "text": [
      "  0%|          | 0/90 [00:00<?, ?it/s]         "
     ]
    },
    {
     "name": "stdout",
     "output_type": "stream",
     "text": [
      "2018-02-23 00:48:26.653773\t25\tGRU\t2\t0.3\t0.2\t4\t63.9500021935\t54.3232752548\n"
     ]
    },
    {
     "name": "stderr",
     "output_type": "stream",
     "text": [
      "  0%|          | 0/90 [00:00<?, ?it/s]         "
     ]
    },
    {
     "name": "stdout",
     "output_type": "stream",
     "text": [
      "2018-02-23 00:49:13.900426\t25\tGRU\t2\t0.3\t0.2\t5\t70.9500014782\t58.3367385798\n"
     ]
    },
    {
     "name": "stderr",
     "output_type": "stream",
     "text": [
      "  0%|          | 0/90 [00:00<?, ?it/s]         "
     ]
    },
    {
     "name": "stdout",
     "output_type": "stream",
     "text": [
      "2018-02-23 00:50:00.989087\t25\tGRU\t2\t0.3\t0.2\t6\t53.3999979496\t53.6733227637\n"
     ]
    },
    {
     "name": "stderr",
     "output_type": "stream",
     "text": [
      "  0%|          | 0/90 [00:00<?, ?it/s]         "
     ]
    },
    {
     "name": "stdout",
     "output_type": "stream",
     "text": [
      "2018-02-23 00:50:48.293127\t25\tGRU\t2\t0.3\t0.2\t7\t71.899998188\t57.6060910357\n"
     ]
    },
    {
     "name": "stderr",
     "output_type": "stream",
     "text": [
      "                                               \r"
     ]
    },
    {
     "name": "stdout",
     "output_type": "stream",
     "text": [
      "2018-02-23 00:51:35.942296\t25\tGRU\t2\t0.3\t0.2\t8\t68.3499991894\t67.8450954623\n"
     ]
    },
    {
     "name": "stderr",
     "output_type": "stream",
     "text": [
      "  0%|          | 0/90 [00:00<?, ?it/s]         "
     ]
    },
    {
     "name": "stdout",
     "output_type": "stream",
     "text": [
      "2018-02-23 00:53:52.290899\t25\tGRU\t2\t0.3\t0.3\t0\t51.9500017166\t50.5346889297\n"
     ]
    },
    {
     "name": "stderr",
     "output_type": "stream",
     "text": [
      "  0%|          | 0/90 [00:00<?, ?it/s]         "
     ]
    },
    {
     "name": "stdout",
     "output_type": "stream",
     "text": [
      "2018-02-23 00:54:38.971534\t25\tGRU\t2\t0.3\t0.3\t1\t52.9500007629\t50.3612479899\n"
     ]
    },
    {
     "name": "stderr",
     "output_type": "stream",
     "text": [
      "  0%|          | 0/90 [00:00<?, ?it/s]         "
     ]
    },
    {
     "name": "stdout",
     "output_type": "stream",
     "text": [
      "2018-02-23 00:55:25.629050\t25\tGRU\t2\t0.3\t0.3\t2\t53.250002861\t50.8187815547\n"
     ]
    },
    {
     "name": "stderr",
     "output_type": "stream",
     "text": [
      "  0%|          | 0/90 [00:00<?, ?it/s]         "
     ]
    },
    {
     "name": "stdout",
     "output_type": "stream",
     "text": [
      "2018-02-23 00:56:12.310243\t25\tGRU\t2\t0.3\t0.3\t3\t53.3999979496\t50.8704051707\n"
     ]
    },
    {
     "name": "stderr",
     "output_type": "stream",
     "text": [
      "  0%|          | 0/90 [00:00<?, ?it/s]         "
     ]
    },
    {
     "name": "stdout",
     "output_type": "stream",
     "text": [
      "2018-02-23 00:56:58.873985\t25\tGRU\t2\t0.3\t0.3\t4\t52.999997139\t50.7881783115\n"
     ]
    },
    {
     "name": "stderr",
     "output_type": "stream",
     "text": [
      "  0%|          | 0/90 [00:00<?, ?it/s]         "
     ]
    },
    {
     "name": "stdout",
     "output_type": "stream",
     "text": [
      "2018-02-23 00:57:45.619375\t25\tGRU\t2\t0.3\t0.3\t5\t52.8999984264\t51.0916402605\n"
     ]
    },
    {
     "name": "stderr",
     "output_type": "stream",
     "text": [
      "  0%|          | 0/90 [00:00<?, ?it/s]         "
     ]
    },
    {
     "name": "stdout",
     "output_type": "stream",
     "text": [
      "2018-02-23 00:58:32.143275\t25\tGRU\t2\t0.3\t0.3\t6\t53.2000005245\t51.0007157922\n"
     ]
    },
    {
     "name": "stderr",
     "output_type": "stream",
     "text": [
      "  0%|          | 0/90 [00:00<?, ?it/s]         "
     ]
    },
    {
     "name": "stdout",
     "output_type": "stream",
     "text": [
      "2018-02-23 00:59:18.616682\t25\tGRU\t2\t0.3\t0.3\t7\t52.8999984264\t51.1833137274\n"
     ]
    },
    {
     "name": "stderr",
     "output_type": "stream",
     "text": [
      "                                               \r"
     ]
    },
    {
     "name": "stdout",
     "output_type": "stream",
     "text": [
      "2018-02-23 01:00:05.371825\t25\tGRU\t2\t0.3\t0.3\t8\t53.4500002861\t50.9295349651\n"
     ]
    },
    {
     "name": "stderr",
     "output_type": "stream",
     "text": [
      "  0%|          | 0/90 [00:00<?, ?it/s]         "
     ]
    },
    {
     "name": "stdout",
     "output_type": "stream",
     "text": [
      "2018-02-23 01:03:31.820384\t25\tGRU\t3\t0.0\t0.0\t0\t65.7999992371\t54.85692511\n"
     ]
    },
    {
     "name": "stderr",
     "output_type": "stream",
     "text": [
      "  0%|          | 0/90 [00:00<?, ?it/s]         "
     ]
    },
    {
     "name": "stdout",
     "output_type": "stream",
     "text": [
      "2018-02-23 01:04:40.391411\t25\tGRU\t3\t0.0\t0.0\t1\t70.8500027657\t64.0813257959\n"
     ]
    },
    {
     "name": "stderr",
     "output_type": "stream",
     "text": [
      "  0%|          | 0/90 [00:00<?, ?it/s]         "
     ]
    },
    {
     "name": "stdout",
     "output_type": "stream",
     "text": [
      "2018-02-23 01:05:49.370087\t25\tGRU\t3\t0.0\t0.0\t2\t75.5500018597\t73.5803894202\n"
     ]
    },
    {
     "name": "stderr",
     "output_type": "stream",
     "text": [
      "  0%|          | 0/90 [00:00<?, ?it/s]         "
     ]
    },
    {
     "name": "stdout",
     "output_type": "stream",
     "text": [
      "2018-02-23 01:06:57.880497\t25\tGRU\t3\t0.0\t0.0\t3\t78.4500002861\t76.7936416467\n"
     ]
    },
    {
     "name": "stderr",
     "output_type": "stream",
     "text": [
      "  0%|          | 0/90 [00:00<?, ?it/s]         "
     ]
    },
    {
     "name": "stdout",
     "output_type": "stream",
     "text": [
      "2018-02-23 01:08:06.497512\t25\tGRU\t3\t0.0\t0.0\t4\t79.5000016689\t79.6346853177\n"
     ]
    },
    {
     "name": "stderr",
     "output_type": "stream",
     "text": [
      "  0%|          | 0/90 [00:00<?, ?it/s]         "
     ]
    },
    {
     "name": "stdout",
     "output_type": "stream",
     "text": [
      "2018-02-23 01:09:14.616194\t25\tGRU\t3\t0.0\t0.0\t5\t80.0499975681\t81.1302258571\n"
     ]
    },
    {
     "name": "stderr",
     "output_type": "stream",
     "text": [
      "  0%|          | 0/90 [00:00<?, ?it/s]         "
     ]
    },
    {
     "name": "stdout",
     "output_type": "stream",
     "text": [
      "2018-02-23 01:10:22.508699\t25\tGRU\t3\t0.0\t0.0\t6\t81.0500025749\t81.9563083516\n"
     ]
    },
    {
     "name": "stderr",
     "output_type": "stream",
     "text": [
      "  0%|          | 0/90 [00:00<?, ?it/s]         "
     ]
    },
    {
     "name": "stdout",
     "output_type": "stream",
     "text": [
      "2018-02-23 01:11:30.294141\t25\tGRU\t3\t0.0\t0.0\t7\t80.8499991894\t82.5699555212\n"
     ]
    },
    {
     "name": "stderr",
     "output_type": "stream",
     "text": [
      "  0%|          | 0/90 [00:00<?, ?it/s]         "
     ]
    },
    {
     "name": "stdout",
     "output_type": "stream",
     "text": [
      "2018-02-23 01:12:38.408981\t25\tGRU\t3\t0.0\t0.0\t8\t82.4999988079\t83.2312606441\n"
     ]
    },
    {
     "name": "stderr",
     "output_type": "stream",
     "text": [
      "  0%|          | 0/90 [00:00<?, ?it/s]         "
     ]
    },
    {
     "name": "stdout",
     "output_type": "stream",
     "text": [
      "2018-02-23 01:13:46.495364\t25\tGRU\t3\t0.0\t0.0\t9\t83.0500006676\t83.8084324863\n"
     ]
    },
    {
     "name": "stderr",
     "output_type": "stream",
     "text": [
      "  0%|          | 0/90 [00:00<?, ?it/s]         "
     ]
    },
    {
     "name": "stdout",
     "output_type": "stream",
     "text": [
      "2018-02-23 01:14:54.451191\t25\tGRU\t3\t0.0\t0.0\t10\t83.3000004292\t84.0524071455\n"
     ]
    },
    {
     "name": "stderr",
     "output_type": "stream",
     "text": [
      "  0%|          | 0/90 [00:00<?, ?it/s]         "
     ]
    },
    {
     "name": "stdout",
     "output_type": "stream",
     "text": [
      "2018-02-23 01:16:02.457760\t25\tGRU\t3\t0.0\t0.0\t11\t83.0999970436\t84.2567746507\n"
     ]
    },
    {
     "name": "stderr",
     "output_type": "stream",
     "text": [
      "  0%|          | 0/90 [00:00<?, ?it/s]         "
     ]
    },
    {
     "name": "stdout",
     "output_type": "stream",
     "text": [
      "2018-02-23 01:17:10.508702\t25\tGRU\t3\t0.0\t0.0\t12\t83.5500001907\t84.6135454708\n"
     ]
    },
    {
     "name": "stderr",
     "output_type": "stream",
     "text": [
      "                                               \r"
     ]
    },
    {
     "name": "stdout",
     "output_type": "stream",
     "text": [
      "2018-02-23 01:18:18.394149\t25\tGRU\t3\t0.0\t0.0\t13\t84.1499984264\t84.7873778476\n"
     ]
    },
    {
     "name": "stderr",
     "output_type": "stream",
     "text": [
      "  0%|          | 0/90 [00:00<?, ?it/s]         "
     ]
    },
    {
     "name": "stdout",
     "output_type": "stream",
     "text": [
      "2018-02-23 01:21:45.218439\t25\tGRU\t3\t0.0\t0.1\t0\t54.8500001431\t52.5100432833\n"
     ]
    },
    {
     "name": "stderr",
     "output_type": "stream",
     "text": [
      "  0%|          | 0/90 [00:00<?, ?it/s]         "
     ]
    },
    {
     "name": "stdout",
     "output_type": "stream",
     "text": [
      "2018-02-23 01:22:55.346712\t25\tGRU\t3\t0.0\t0.1\t1\t50.150001049\t60.0512842337\n"
     ]
    },
    {
     "name": "stderr",
     "output_type": "stream",
     "text": [
      "  0%|          | 0/90 [00:00<?, ?it/s]         "
     ]
    },
    {
     "name": "stdout",
     "output_type": "stream",
     "text": [
      "2018-02-23 01:24:05.284327\t25\tGRU\t3\t0.0\t0.1\t2\t53.6000013351\t52.500800954\n"
     ]
    },
    {
     "name": "stderr",
     "output_type": "stream",
     "text": [
      "  0%|          | 0/90 [00:00<?, ?it/s]         "
     ]
    },
    {
     "name": "stdout",
     "output_type": "stream",
     "text": [
      "2018-02-23 01:25:15.025149\t25\tGRU\t3\t0.0\t0.1\t3\t69.1999971867\t62.4039530754\n"
     ]
    },
    {
     "name": "stderr",
     "output_type": "stream",
     "text": [
      "  0%|          | 0/90 [00:00<?, ?it/s]         "
     ]
    },
    {
     "name": "stdout",
     "output_type": "stream",
     "text": [
      "2018-02-23 01:26:24.933450\t25\tGRU\t3\t0.0\t0.1\t4\t63.4000003338\t55.3458617131\n"
     ]
    },
    {
     "name": "stderr",
     "output_type": "stream",
     "text": [
      "  0%|          | 0/90 [00:00<?, ?it/s]         "
     ]
    },
    {
     "name": "stdout",
     "output_type": "stream",
     "text": [
      "2018-02-23 01:27:34.748478\t25\tGRU\t3\t0.0\t0.1\t5\t59.2000007629\t65.3498613172\n"
     ]
    },
    {
     "name": "stderr",
     "output_type": "stream",
     "text": [
      "  0%|          | 0/90 [00:00<?, ?it/s]         "
     ]
    },
    {
     "name": "stdout",
     "output_type": "stream",
     "text": [
      "2018-02-23 01:28:44.529961\t25\tGRU\t3\t0.0\t0.1\t6\t55.2500009537\t53.0417355564\n"
     ]
    },
    {
     "name": "stderr",
     "output_type": "stream",
     "text": [
      "  0%|          | 0/90 [00:00<?, ?it/s]         "
     ]
    },
    {
     "name": "stdout",
     "output_type": "stream",
     "text": [
      "2018-02-23 01:29:54.549557\t25\tGRU\t3\t0.0\t0.1\t7\t53.4500002861\t64.8674266206\n"
     ]
    },
    {
     "name": "stderr",
     "output_type": "stream",
     "text": [
      "  0%|          | 0/90 [00:00<?, ?it/s]         "
     ]
    },
    {
     "name": "stdout",
     "output_type": "stream",
     "text": [
      "2018-02-23 01:31:04.568272\t25\tGRU\t3\t0.0\t0.1\t8\t67.2999978065\t59.2458989223\n"
     ]
    },
    {
     "name": "stderr",
     "output_type": "stream",
     "text": [
      "  0%|          | 0/90 [00:00<?, ?it/s]         "
     ]
    },
    {
     "name": "stdout",
     "output_type": "stream",
     "text": [
      "2018-02-23 01:32:14.538920\t25\tGRU\t3\t0.0\t0.1\t9\t63.4999990463\t68.2480094168\n"
     ]
    },
    {
     "name": "stderr",
     "output_type": "stream",
     "text": [
      "  0%|          | 0/90 [00:00<?, ?it/s]         "
     ]
    },
    {
     "name": "stdout",
     "output_type": "stream",
     "text": [
      "2018-02-23 01:33:25.670158\t25\tGRU\t3\t0.0\t0.1\t10\t50.3000020981\t66.5068261491\n"
     ]
    },
    {
     "name": "stderr",
     "output_type": "stream",
     "text": [
      "  0%|          | 0/90 [00:00<?, ?it/s]         "
     ]
    },
    {
     "name": "stdout",
     "output_type": "stream",
     "text": [
      "2018-02-23 01:34:35.735877\t25\tGRU\t3\t0.0\t0.1\t11\t50.6500005722\t52.0964573489\n"
     ]
    },
    {
     "name": "stderr",
     "output_type": "stream",
     "text": [
      "  0%|          | 0/90 [00:00<?, ?it/s]         "
     ]
    },
    {
     "name": "stdout",
     "output_type": "stream",
     "text": [
      "2018-02-23 01:35:46.379870\t25\tGRU\t3\t0.0\t0.1\t12\t51.1500000954\t52.6168310642\n"
     ]
    },
    {
     "name": "stderr",
     "output_type": "stream",
     "text": [
      "                                               \r"
     ]
    },
    {
     "name": "stdout",
     "output_type": "stream",
     "text": [
      "2018-02-23 01:36:56.456838\t25\tGRU\t3\t0.0\t0.1\t13\t51.3000011444\t52.6914837956\n"
     ]
    },
    {
     "name": "stderr",
     "output_type": "stream",
     "text": [
      "  0%|          | 0/90 [00:00<?, ?it/s]         "
     ]
    },
    {
     "name": "stdout",
     "output_type": "stream",
     "text": [
      "2018-02-23 01:40:19.070146\t25\tGRU\t3\t0.0\t0.2\t0\t50.7499992847\t49.9311349789\n"
     ]
    },
    {
     "name": "stderr",
     "output_type": "stream",
     "text": [
      "  0%|          | 0/90 [00:00<?, ?it/s]         "
     ]
    },
    {
     "name": "stdout",
     "output_type": "stream",
     "text": [
      "2018-02-23 01:41:29.308121\t25\tGRU\t3\t0.0\t0.2\t1\t51.0500013828\t50.753490097\n"
     ]
    },
    {
     "name": "stderr",
     "output_type": "stream",
     "text": [
      "  0%|          | 0/90 [00:00<?, ?it/s]         "
     ]
    },
    {
     "name": "stdout",
     "output_type": "stream",
     "text": [
      "2018-02-23 01:42:39.441636\t25\tGRU\t3\t0.0\t0.2\t2\t54.1000008583\t52.5399315688\n"
     ]
    },
    {
     "name": "stderr",
     "output_type": "stream",
     "text": [
      "  0%|          | 0/90 [00:00<?, ?it/s]         "
     ]
    },
    {
     "name": "stdout",
     "output_type": "stream",
     "text": [
      "2018-02-23 01:43:49.477541\t25\tGRU\t3\t0.0\t0.2\t3\t52.3500025272\t53.4606492188\n"
     ]
    },
    {
     "name": "stderr",
     "output_type": "stream",
     "text": [
      "  0%|          | 0/90 [00:00<?, ?it/s]         "
     ]
    },
    {
     "name": "stdout",
     "output_type": "stream",
     "text": [
      "2018-02-23 01:44:59.373191\t25\tGRU\t3\t0.0\t0.2\t4\t54.5000016689\t54.0314894252\n"
     ]
    },
    {
     "name": "stderr",
     "output_type": "stream",
     "text": [
      "  0%|          | 0/90 [00:00<?, ?it/s]         "
     ]
    },
    {
     "name": "stdout",
     "output_type": "stream",
     "text": [
      "2018-02-23 01:46:09.324405\t25\tGRU\t3\t0.0\t0.2\t5\t56.0500025749\t55.500630935\n"
     ]
    },
    {
     "name": "stderr",
     "output_type": "stream",
     "text": [
      "  0%|          | 0/90 [00:00<?, ?it/s]         "
     ]
    },
    {
     "name": "stdout",
     "output_type": "stream",
     "text": [
      "2018-02-23 01:47:19.127804\t25\tGRU\t3\t0.0\t0.2\t6\t61.9000017643\t57.6189927922\n"
     ]
    },
    {
     "name": "stderr",
     "output_type": "stream",
     "text": [
      "  0%|          | 0/90 [00:00<?, ?it/s]         "
     ]
    },
    {
     "name": "stdout",
     "output_type": "stream",
     "text": [
      "2018-02-23 01:48:28.770029\t25\tGRU\t3\t0.0\t0.2\t7\t52.8500020504\t51.6834160354\n"
     ]
    },
    {
     "name": "stderr",
     "output_type": "stream",
     "text": [
      "  0%|          | 0/90 [00:00<?, ?it/s]         "
     ]
    },
    {
     "name": "stdout",
     "output_type": "stream",
     "text": [
      "2018-02-23 01:49:38.621930\t25\tGRU\t3\t0.0\t0.2\t8\t54.4000029564\t52.6351453861\n"
     ]
    },
    {
     "name": "stderr",
     "output_type": "stream",
     "text": [
      "  0%|          | 0/90 [00:00<?, ?it/s]         "
     ]
    },
    {
     "name": "stdout",
     "output_type": "stream",
     "text": [
      "2018-02-23 01:50:49.517039\t25\tGRU\t3\t0.0\t0.2\t9\t54.1499972343\t53.8625590338\n"
     ]
    },
    {
     "name": "stderr",
     "output_type": "stream",
     "text": [
      "  0%|          | 0/90 [00:00<?, ?it/s]         "
     ]
    },
    {
     "name": "stdout",
     "output_type": "stream",
     "text": [
      "2018-02-23 01:52:00.136245\t25\tGRU\t3\t0.0\t0.2\t10\t55.1999986172\t54.7000453538\n"
     ]
    },
    {
     "name": "stderr",
     "output_type": "stream",
     "text": [
      "  0%|          | 0/90 [00:00<?, ?it/s]         "
     ]
    },
    {
     "name": "stdout",
     "output_type": "stream",
     "text": [
      "2018-02-23 01:54:20.840584\t25\tGRU\t3\t0.0\t0.2\t12\t62.7499997616\t57.1144482825\n"
     ]
    },
    {
     "name": "stderr",
     "output_type": "stream",
     "text": [
      "                                               \r"
     ]
    },
    {
     "name": "stdout",
     "output_type": "stream",
     "text": [
      "2018-02-23 01:55:31.272967\t25\tGRU\t3\t0.0\t0.2\t13\t61.8499994278\t60.9623682499\n"
     ]
    },
    {
     "name": "stderr",
     "output_type": "stream",
     "text": [
      "  0%|          | 0/90 [00:00<?, ?it/s]         "
     ]
    },
    {
     "name": "stdout",
     "output_type": "stream",
     "text": [
      "2018-02-23 01:58:54.366569\t25\tGRU\t3\t0.0\t0.3\t0\t50.0999987125\t49.9218926827\n"
     ]
    },
    {
     "name": "stderr",
     "output_type": "stream",
     "text": [
      "  0%|          | 0/90 [00:00<?, ?it/s]         "
     ]
    },
    {
     "name": "stdout",
     "output_type": "stream",
     "text": [
      "2018-02-23 02:00:04.695905\t25\tGRU\t3\t0.0\t0.3\t1\t49.9500006437\t50.5739045474\n"
     ]
    },
    {
     "name": "stderr",
     "output_type": "stream",
     "text": [
      "  0%|          | 0/90 [00:00<?, ?it/s]         "
     ]
    },
    {
     "name": "stdout",
     "output_type": "stream",
     "text": [
      "2018-02-23 02:01:15.022130\t25\tGRU\t3\t0.0\t0.3\t2\t51.8499970436\t50.7167252898\n"
     ]
    },
    {
     "name": "stderr",
     "output_type": "stream",
     "text": [
      "  0%|          | 0/90 [00:00<?, ?it/s]         "
     ]
    },
    {
     "name": "stdout",
     "output_type": "stream",
     "text": [
      "2018-02-23 02:02:25.226031\t25\tGRU\t3\t0.0\t0.3\t3\t50.4499971867\t50.8660309513\n"
     ]
    },
    {
     "name": "stderr",
     "output_type": "stream",
     "text": [
      "  0%|          | 0/90 [00:00<?, ?it/s]         "
     ]
    },
    {
     "name": "stdout",
     "output_type": "stream",
     "text": [
      "2018-02-23 02:03:35.416489\t25\tGRU\t3\t0.0\t0.3\t4\t52.4500012398\t51.2565198541\n"
     ]
    },
    {
     "name": "stderr",
     "output_type": "stream",
     "text": [
      "  0%|          | 0/90 [00:00<?, ?it/s]         "
     ]
    },
    {
     "name": "stdout",
     "output_type": "stream",
     "text": [
      "2018-02-23 02:04:45.574234\t25\tGRU\t3\t0.0\t0.3\t5\t52.3500025272\t52.2141383423\n"
     ]
    },
    {
     "name": "stderr",
     "output_type": "stream",
     "text": [
      "  0%|          | 0/90 [00:00<?, ?it/s]         "
     ]
    },
    {
     "name": "stdout",
     "output_type": "stream",
     "text": [
      "2018-02-23 02:05:55.609848\t25\tGRU\t3\t0.0\t0.3\t6\t52.7499973774\t51.5607647763\n"
     ]
    },
    {
     "name": "stderr",
     "output_type": "stream",
     "text": [
      "  0%|          | 0/90 [00:00<?, ?it/s]         "
     ]
    },
    {
     "name": "stdout",
     "output_type": "stream",
     "text": [
      "2018-02-23 02:07:05.852187\t25\tGRU\t3\t0.0\t0.3\t7\t52.7000010014\t52.6568807496\n"
     ]
    },
    {
     "name": "stderr",
     "output_type": "stream",
     "text": [
      "  0%|          | 0/90 [00:00<?, ?it/s]         "
     ]
    },
    {
     "name": "stdout",
     "output_type": "stream",
     "text": [
      "2018-02-23 02:08:16.115251\t25\tGRU\t3\t0.0\t0.3\t8\t52.999997139\t52.2481627597\n"
     ]
    },
    {
     "name": "stderr",
     "output_type": "stream",
     "text": [
      "  0%|          | 0/90 [00:00<?, ?it/s]         "
     ]
    },
    {
     "name": "stdout",
     "output_type": "stream",
     "text": [
      "2018-02-23 02:09:26.241514\t25\tGRU\t3\t0.0\t0.3\t9\t51.550000906\t53.011983633\n"
     ]
    },
    {
     "name": "stderr",
     "output_type": "stream",
     "text": [
      "  0%|          | 0/90 [00:00<?, ?it/s]         "
     ]
    },
    {
     "name": "stdout",
     "output_type": "stream",
     "text": [
      "2018-02-23 02:10:37.255315\t25\tGRU\t3\t0.0\t0.3\t10\t52.999997139\t52.6527107093\n"
     ]
    },
    {
     "name": "stderr",
     "output_type": "stream",
     "text": [
      "  0%|          | 0/90 [00:00<?, ?it/s]         "
     ]
    },
    {
     "name": "stdout",
     "output_type": "stream",
     "text": [
      "2018-02-23 02:11:48.450294\t25\tGRU\t3\t0.0\t0.3\t11\t53.5000026226\t52.8275303708\n"
     ]
    },
    {
     "name": "stderr",
     "output_type": "stream",
     "text": [
      "  0%|          | 0/90 [00:00<?, ?it/s]         "
     ]
    },
    {
     "name": "stdout",
     "output_type": "stream",
     "text": [
      "2018-02-23 02:12:58.506265\t25\tGRU\t3\t0.0\t0.3\t12\t51.9500017166\t53.3519890573\n"
     ]
    },
    {
     "name": "stderr",
     "output_type": "stream",
     "text": [
      "                                               \r"
     ]
    },
    {
     "name": "stdout",
     "output_type": "stream",
     "text": [
      "2018-02-23 02:14:08.366284\t25\tGRU\t3\t0.0\t0.3\t13\t52.1000027657\t53.8302706679\n"
     ]
    },
    {
     "name": "stderr",
     "output_type": "stream",
     "text": [
      "  0%|          | 0/90 [00:00<?, ?it/s]         "
     ]
    },
    {
     "name": "stdout",
     "output_type": "stream",
     "text": [
      "2018-02-23 02:17:33.837321\t25\tGRU\t3\t0.1\t0.0\t0\t67.150002718\t56.1799608999\n"
     ]
    },
    {
     "name": "stderr",
     "output_type": "stream",
     "text": [
      "  0%|          | 0/90 [00:00<?, ?it/s]         "
     ]
    },
    {
     "name": "stdout",
     "output_type": "stream",
     "text": [
      "2018-02-23 02:18:43.711526\t25\tGRU\t3\t0.1\t0.0\t1\t74.7500002384\t73.3116666476\n"
     ]
    },
    {
     "name": "stderr",
     "output_type": "stream",
     "text": [
      "  0%|          | 0/90 [00:00<?, ?it/s]         "
     ]
    },
    {
     "name": "stdout",
     "output_type": "stream",
     "text": [
      "2018-02-23 02:19:53.664993\t25\tGRU\t3\t0.1\t0.0\t2\t78.100001812\t77.2632086277\n"
     ]
    },
    {
     "name": "stderr",
     "output_type": "stream",
     "text": [
      "  0%|          | 0/90 [00:00<?, ?it/s]         "
     ]
    },
    {
     "name": "stdout",
     "output_type": "stream",
     "text": [
      "2018-02-23 02:21:03.372232\t25\tGRU\t3\t0.1\t0.0\t3\t76.0999977589\t79.2480261458\n"
     ]
    },
    {
     "name": "stderr",
     "output_type": "stream",
     "text": [
      "  0%|          | 0/90 [00:00<?, ?it/s]         "
     ]
    },
    {
     "name": "stdout",
     "output_type": "stream",
     "text": [
      "2018-02-23 02:22:13.102141\t25\tGRU\t3\t0.1\t0.0\t4\t80.5999994278\t80.3407888942\n"
     ]
    },
    {
     "name": "stderr",
     "output_type": "stream",
     "text": [
      "  0%|          | 0/90 [00:00<?, ?it/s]         "
     ]
    },
    {
     "name": "stdout",
     "output_type": "stream",
     "text": [
      "2018-02-23 02:23:23.024160\t25\tGRU\t3\t0.1\t0.0\t5\t81.5500020981\t81.4785544078\n"
     ]
    },
    {
     "name": "stderr",
     "output_type": "stream",
     "text": [
      "  0%|          | 0/90 [00:00<?, ?it/s]         "
     ]
    },
    {
     "name": "stdout",
     "output_type": "stream",
     "text": [
      "2018-02-23 02:24:32.727071\t25\tGRU\t3\t0.1\t0.0\t6\t80.5499970913\t81.9869456026\n"
     ]
    },
    {
     "name": "stderr",
     "output_type": "stream",
     "text": [
      "  0%|          | 0/90 [00:00<?, ?it/s]         "
     ]
    },
    {
     "name": "stdout",
     "output_type": "stream",
     "text": [
      "2018-02-23 02:25:42.626017\t25\tGRU\t3\t0.1\t0.0\t7\t82.5500011444\t82.7744762103\n"
     ]
    },
    {
     "name": "stderr",
     "output_type": "stream",
     "text": [
      "  0%|          | 0/90 [00:00<?, ?it/s]         "
     ]
    },
    {
     "name": "stdout",
     "output_type": "stream",
     "text": [
      "2018-02-23 02:26:52.433501\t25\tGRU\t3\t0.1\t0.0\t8\t82.8999996185\t83.0946185191\n"
     ]
    },
    {
     "name": "stderr",
     "output_type": "stream",
     "text": [
      "  0%|          | 0/90 [00:00<?, ?it/s]         "
     ]
    },
    {
     "name": "stdout",
     "output_type": "stream",
     "text": [
      "2018-02-23 02:28:02.078500\t25\tGRU\t3\t0.1\t0.0\t9\t83.3999991417\t83.3964975675\n"
     ]
    },
    {
     "name": "stderr",
     "output_type": "stream",
     "text": [
      "  0%|          | 0/90 [00:00<?, ?it/s]         "
     ]
    },
    {
     "name": "stdout",
     "output_type": "stream",
     "text": [
      "2018-02-23 02:29:12.389997\t25\tGRU\t3\t0.1\t0.0\t10\t83.7999999523\t83.9484617445\n"
     ]
    },
    {
     "name": "stderr",
     "output_type": "stream",
     "text": [
      "  0%|          | 0/90 [00:00<?, ?it/s]         "
     ]
    },
    {
     "name": "stdout",
     "output_type": "stream",
     "text": [
      "2018-02-23 02:30:22.859478\t25\tGRU\t3\t0.1\t0.0\t11\t83.6499989033\t84.1700201564\n"
     ]
    },
    {
     "name": "stderr",
     "output_type": "stream",
     "text": [
      "  0%|          | 0/90 [00:00<?, ?it/s]         "
     ]
    },
    {
     "name": "stdout",
     "output_type": "stream",
     "text": [
      "2018-02-23 02:31:32.523646\t25\tGRU\t3\t0.1\t0.0\t12\t84.249997139\t84.5526794593\n"
     ]
    },
    {
     "name": "stderr",
     "output_type": "stream",
     "text": [
      "                                               \r"
     ]
    },
    {
     "name": "stdout",
     "output_type": "stream",
     "text": [
      "2018-02-23 02:32:42.684785\t25\tGRU\t3\t0.1\t0.0\t13\t84.6499979496\t84.5998438199\n"
     ]
    },
    {
     "name": "stderr",
     "output_type": "stream",
     "text": [
      "  0%|          | 0/90 [00:00<?, ?it/s]         "
     ]
    },
    {
     "name": "stdout",
     "output_type": "stream",
     "text": [
      "2018-02-23 02:36:04.369886\t25\tGRU\t3\t0.1\t0.1\t0\t53.100001812\t51.0627732012\n"
     ]
    },
    {
     "name": "stderr",
     "output_type": "stream",
     "text": [
      "  0%|          | 0/90 [00:00<?, ?it/s]         "
     ]
    },
    {
     "name": "stdout",
     "output_type": "stream",
     "text": [
      "2018-02-23 02:37:11.276591\t25\tGRU\t3\t0.1\t0.1\t1\t62.5500023365\t54.7767065962\n"
     ]
    },
    {
     "name": "stderr",
     "output_type": "stream",
     "text": [
      " 79%|███████▉  | 71/90 [00:52<00:14,  1.35it/s]IOPub message rate exceeded.\n",
      "The notebook server will temporarily stop sending output\n",
      "to the client in order to avoid crashing it.\n",
      "To change this limit, set the config variable\n",
      "`--NotebookApp.iopub_msg_rate_limit`.\n",
      "\n",
      "Current values:\n",
      "NotebookApp.iopub_msg_rate_limit=1000.0 (msgs/sec)\n",
      "NotebookApp.rate_limit_window=3.0 (secs)\n",
      "\n",
      "  0%|          | 0/90 [00:00<?, ?it/s]         "
     ]
    },
    {
     "name": "stdout",
     "output_type": "stream",
     "text": [
      "2018-02-23 03:23:20.307196\t25\tGRU\t3\t0.1\t0.3\t10\t48.8499999046\t50.1253409849\n"
     ]
    },
    {
     "name": "stderr",
     "output_type": "stream",
     "text": [
      "  0%|          | 0/90 [00:00<?, ?it/s]         "
     ]
    },
    {
     "name": "stdout",
     "output_type": "stream",
     "text": [
      "2018-02-23 03:24:28.189573\t25\tGRU\t3\t0.1\t0.3\t11\t50.4999995232\t50.247192151\n"
     ]
    },
    {
     "name": "stderr",
     "output_type": "stream",
     "text": [
      "  0%|          | 0/90 [00:00<?, ?it/s]         "
     ]
    },
    {
     "name": "stdout",
     "output_type": "stream",
     "text": [
      "2018-02-23 03:25:36.229582\t25\tGRU\t3\t0.1\t0.3\t12\t49.0000009537\t49.6427532368\n"
     ]
    },
    {
     "name": "stderr",
     "output_type": "stream",
     "text": [
      "                                               \r"
     ]
    },
    {
     "name": "stdout",
     "output_type": "stream",
     "text": [
      "2018-02-23 03:26:44.217322\t25\tGRU\t3\t0.1\t0.3\t13\t48.6499994993\t50.4217396511\n"
     ]
    },
    {
     "name": "stderr",
     "output_type": "stream",
     "text": [
      "  0%|          | 0/90 [00:00<?, ?it/s]         "
     ]
    },
    {
     "name": "stdout",
     "output_type": "stream",
     "text": [
      "2018-02-23 03:30:02.957919\t25\tGRU\t3\t0.15\t0.0\t0\t54.0499985218\t52.8451807963\n"
     ]
    },
    {
     "name": "stderr",
     "output_type": "stream",
     "text": [
      "  0%|          | 0/90 [00:00<?, ?it/s]         "
     ]
    },
    {
     "name": "stdout",
     "output_type": "stream",
     "text": [
      "2018-02-23 03:31:11.176122\t25\tGRU\t3\t0.15\t0.0\t1\t70.2499985695\t60.6673483716\n"
     ]
    },
    {
     "name": "stderr",
     "output_type": "stream",
     "text": [
      "  0%|          | 0/90 [00:00<?, ?it/s]         "
     ]
    },
    {
     "name": "stdout",
     "output_type": "stream",
     "text": [
      "2018-02-23 03:32:19.431606\t25\tGRU\t3\t0.15\t0.0\t2\t75.9999990463\t74.8422017362\n"
     ]
    },
    {
     "name": "stderr",
     "output_type": "stream",
     "text": [
      "  0%|          | 0/90 [00:00<?, ?it/s]         "
     ]
    },
    {
     "name": "stdout",
     "output_type": "stream",
     "text": [
      "2018-02-23 03:33:27.579261\t25\tGRU\t3\t0.15\t0.0\t3\t78.149998188\t78.6130860779\n"
     ]
    },
    {
     "name": "stderr",
     "output_type": "stream",
     "text": [
      "  0%|          | 0/90 [00:00<?, ?it/s]         "
     ]
    },
    {
     "name": "stdout",
     "output_type": "stream",
     "text": [
      "2018-02-23 03:34:35.623413\t25\tGRU\t3\t0.15\t0.0\t4\t80.5499970913\t80.6402169996\n"
     ]
    },
    {
     "name": "stderr",
     "output_type": "stream",
     "text": [
      "  0%|          | 0/90 [00:00<?, ?it/s]         "
     ]
    },
    {
     "name": "stdout",
     "output_type": "stream",
     "text": [
      "2018-02-23 03:35:43.570373\t25\tGRU\t3\t0.15\t0.0\t5\t81.8499982357\t81.7002660036\n"
     ]
    },
    {
     "name": "stderr",
     "output_type": "stream",
     "text": [
      "  0%|          | 0/90 [00:00<?, ?it/s]         "
     ]
    },
    {
     "name": "stdout",
     "output_type": "stream",
     "text": [
      "2018-02-23 03:36:51.630489\t25\tGRU\t3\t0.15\t0.0\t6\t81.400001049\t82.2434815433\n"
     ]
    },
    {
     "name": "stderr",
     "output_type": "stream",
     "text": [
      "  0%|          | 0/90 [00:00<?, ?it/s]         "
     ]
    },
    {
     "name": "stdout",
     "output_type": "stream",
     "text": [
      "2018-02-23 03:37:59.641337\t25\tGRU\t3\t0.15\t0.0\t7\t82.6499998569\t83.1132561631\n"
     ]
    },
    {
     "name": "stderr",
     "output_type": "stream",
     "text": [
      "  0%|          | 0/90 [00:00<?, ?it/s]         "
     ]
    },
    {
     "name": "stdout",
     "output_type": "stream",
     "text": [
      "2018-02-23 03:39:07.809509\t25\tGRU\t3\t0.15\t0.0\t8\t82.5999975204\t83.5133106179\n"
     ]
    },
    {
     "name": "stderr",
     "output_type": "stream",
     "text": [
      "  0%|          | 0/90 [00:00<?, ?it/s]         "
     ]
    },
    {
     "name": "stdout",
     "output_type": "stream",
     "text": [
      "2018-02-23 03:40:15.730189\t25\tGRU\t3\t0.15\t0.0\t9\t82.9999983311\t83.2901012235\n"
     ]
    },
    {
     "name": "stderr",
     "output_type": "stream",
     "text": [
      "  0%|          | 0/90 [00:00<?, ?it/s]         "
     ]
    },
    {
     "name": "stdout",
     "output_type": "stream",
     "text": [
      "2018-02-23 03:41:23.817110\t25\tGRU\t3\t0.15\t0.0\t10\t83.1499993801\t84.1131199731\n"
     ]
    },
    {
     "name": "stderr",
     "output_type": "stream",
     "text": [
      "  0%|          | 0/90 [00:00<?, ?it/s]         "
     ]
    },
    {
     "name": "stdout",
     "output_type": "stream",
     "text": [
      "2018-02-23 03:42:31.800652\t25\tGRU\t3\t0.15\t0.0\t11\t83.4999978542\t84.369196362\n"
     ]
    },
    {
     "name": "stderr",
     "output_type": "stream",
     "text": [
      "  0%|          | 0/90 [00:00<?, ?it/s]         "
     ]
    },
    {
     "name": "stdout",
     "output_type": "stream",
     "text": [
      "2018-02-23 03:43:39.907142\t25\tGRU\t3\t0.15\t0.0\t12\t83.3999991417\t84.7128612465\n"
     ]
    },
    {
     "name": "stderr",
     "output_type": "stream",
     "text": [
      "                                               \r"
     ]
    },
    {
     "name": "stdout",
     "output_type": "stream",
     "text": [
      "2018-02-23 03:44:47.912113\t25\tGRU\t3\t0.15\t0.0\t13\t82.9999983311\t85.0830784109\n"
     ]
    },
    {
     "name": "stderr",
     "output_type": "stream",
     "text": [
      "  0%|          | 0/90 [00:00<?, ?it/s]         "
     ]
    },
    {
     "name": "stdout",
     "output_type": "stream",
     "text": [
      "2018-02-23 03:48:05.503579\t25\tGRU\t3\t0.15\t0.1\t0\t53.6499977112\t51.4273056057\n"
     ]
    },
    {
     "name": "stderr",
     "output_type": "stream",
     "text": [
      "  0%|          | 0/90 [00:00<?, ?it/s]         "
     ]
    },
    {
     "name": "stdout",
     "output_type": "stream",
     "text": [
      "2018-02-23 03:49:13.508767\t25\tGRU\t3\t0.15\t0.1\t1\t57.2000026703\t54.3982344204\n"
     ]
    },
    {
     "name": "stderr",
     "output_type": "stream",
     "text": [
      "  0%|          | 0/90 [00:00<?, ?it/s]         "
     ]
    },
    {
     "name": "stdout",
     "output_type": "stream",
     "text": [
      "2018-02-23 03:50:21.755594\t25\tGRU\t3\t0.15\t0.1\t2\t68.599998951\t61.8972980314\n"
     ]
    },
    {
     "name": "stderr",
     "output_type": "stream",
     "text": [
      "  0%|          | 0/90 [00:00<?, ?it/s]         "
     ]
    },
    {
     "name": "stdout",
     "output_type": "stream",
     "text": [
      "2018-02-23 03:51:29.764304\t25\tGRU\t3\t0.15\t0.1\t3\t72.6999998093\t66.2820338541\n"
     ]
    },
    {
     "name": "stderr",
     "output_type": "stream",
     "text": [
      "  0%|          | 0/90 [00:00<?, ?it/s]         "
     ]
    },
    {
     "name": "stdout",
     "output_type": "stream",
     "text": [
      "2018-02-23 03:52:37.799464\t25\tGRU\t3\t0.15\t0.1\t4\t49.200001359\t65.018008848\n"
     ]
    },
    {
     "name": "stderr",
     "output_type": "stream",
     "text": [
      "  0%|          | 0/90 [00:00<?, ?it/s]         "
     ]
    },
    {
     "name": "stdout",
     "output_type": "stream",
     "text": [
      "2018-02-23 03:53:46.105231\t25\tGRU\t3\t0.15\t0.1\t5\t50.9999990463\t54.3814518385\n"
     ]
    },
    {
     "name": "stderr",
     "output_type": "stream",
     "text": [
      "  0%|          | 0/90 [00:00<?, ?it/s]         "
     ]
    },
    {
     "name": "stdout",
     "output_type": "stream",
     "text": [
      "2018-02-23 03:54:54.827616\t25\tGRU\t3\t0.15\t0.1\t6\t51.8999993801\t52.3558356696\n"
     ]
    },
    {
     "name": "stderr",
     "output_type": "stream",
     "text": [
      "  0%|          | 0/90 [00:00<?, ?it/s]         "
     ]
    },
    {
     "name": "stdout",
     "output_type": "stream",
     "text": [
      "2018-02-23 03:56:03.060753\t25\tGRU\t3\t0.15\t0.1\t7\t54.1000008583\t53.3219646083\n"
     ]
    },
    {
     "name": "stderr",
     "output_type": "stream",
     "text": [
      "  0%|          | 0/90 [00:00<?, ?it/s]         "
     ]
    },
    {
     "name": "stdout",
     "output_type": "stream",
     "text": [
      "2018-02-23 03:57:11.041776\t25\tGRU\t3\t0.15\t0.1\t8\t63.3000016212\t56.8564655383\n"
     ]
    },
    {
     "name": "stderr",
     "output_type": "stream",
     "text": [
      "  0%|          | 0/90 [00:00<?, ?it/s]         "
     ]
    },
    {
     "name": "stdout",
     "output_type": "stream",
     "text": [
      "2018-02-23 03:58:19.116644\t25\tGRU\t3\t0.15\t0.1\t9\t60.949999094\t65.3733158774\n"
     ]
    },
    {
     "name": "stderr",
     "output_type": "stream",
     "text": [
      "  0%|          | 0/90 [00:00<?, ?it/s]         "
     ]
    },
    {
     "name": "stdout",
     "output_type": "stream",
     "text": [
      "2018-02-23 03:59:27.458132\t25\tGRU\t3\t0.15\t0.1\t10\t53.9499998093\t54.6028227607\n"
     ]
    },
    {
     "name": "stderr",
     "output_type": "stream",
     "text": [
      "  0%|          | 0/90 [00:00<?, ?it/s]         "
     ]
    },
    {
     "name": "stdout",
     "output_type": "stream",
     "text": [
      "2018-02-23 04:00:35.799621\t25\tGRU\t3\t0.15\t0.1\t11\t56.3499987125\t52.3993745115\n"
     ]
    },
    {
     "name": "stderr",
     "output_type": "stream",
     "text": [
      "  0%|          | 0/90 [00:00<?, ?it/s]         "
     ]
    },
    {
     "name": "stdout",
     "output_type": "stream",
     "text": [
      "2018-02-23 04:01:43.838016\t25\tGRU\t3\t0.15\t0.1\t12\t52.9500007629\t53.1623104546\n"
     ]
    },
    {
     "name": "stderr",
     "output_type": "stream",
     "text": [
      "                                               \r"
     ]
    },
    {
     "name": "stdout",
     "output_type": "stream",
     "text": [
      "2018-02-23 04:02:51.838723\t25\tGRU\t3\t0.15\t0.1\t13\t54.4499993324\t54.083828032\n"
     ]
    },
    {
     "name": "stderr",
     "output_type": "stream",
     "text": [
      " 22%|██▏       | 20/90 [00:36<02:08,  1.84s/it]IOPub message rate exceeded.\n",
      "The notebook server will temporarily stop sending output\n",
      "to the client in order to avoid crashing it.\n",
      "To change this limit, set the config variable\n",
      "`--NotebookApp.iopub_msg_rate_limit`.\n",
      "\n",
      "Current values:\n",
      "NotebookApp.iopub_msg_rate_limit=1000.0 (msgs/sec)\n",
      "NotebookApp.rate_limit_window=3.0 (secs)\n",
      "\n",
      "  0%|          | 0/90 [00:00<?, ?it/s]         "
     ]
    },
    {
     "name": "stdout",
     "output_type": "stream",
     "text": [
      "2018-02-23 04:55:55.191560\t25\tGRU\t3\t0.3\t0.0\t12\t83.8999986649\t84.0522199207\n"
     ]
    },
    {
     "name": "stderr",
     "output_type": "stream",
     "text": [
      "                                               \r"
     ]
    },
    {
     "name": "stdout",
     "output_type": "stream",
     "text": [
      "2018-02-23 04:57:03.196353\t25\tGRU\t3\t0.3\t0.0\t13\t82.849997282\t83.9735502667\n"
     ]
    },
    {
     "name": "stderr",
     "output_type": "stream",
     "text": [
      "  0%|          | 0/90 [00:00<?, ?it/s]         "
     ]
    },
    {
     "name": "stdout",
     "output_type": "stream",
     "text": [
      "2018-02-23 05:00:24.119095\t25\tGRU\t3\t0.3\t0.1\t0\t53.8500010967\t51.8101180593\n"
     ]
    },
    {
     "name": "stderr",
     "output_type": "stream",
     "text": [
      "  0%|          | 0/90 [00:00<?, ?it/s]         "
     ]
    },
    {
     "name": "stdout",
     "output_type": "stream",
     "text": [
      "2018-02-23 05:01:32.191280\t25\tGRU\t3\t0.3\t0.1\t1\t56.9000005722\t53.4042256077\n"
     ]
    },
    {
     "name": "stderr",
     "output_type": "stream",
     "text": [
      "  0%|          | 0/90 [00:00<?, ?it/s]         "
     ]
    },
    {
     "name": "stdout",
     "output_type": "stream",
     "text": [
      "2018-02-23 05:02:40.336966\t25\tGRU\t3\t0.3\t0.1\t2\t66.3999974728\t62.8126711316\n"
     ]
    },
    {
     "name": "stderr",
     "output_type": "stream",
     "text": [
      "  0%|          | 0/90 [00:00<?, ?it/s]         "
     ]
    },
    {
     "name": "stdout",
     "output_type": "stream",
     "text": [
      "2018-02-23 05:03:48.706845\t25\tGRU\t3\t0.3\t0.1\t3\t50.0\t64.1529317697\n"
     ]
    },
    {
     "name": "stderr",
     "output_type": "stream",
     "text": [
      "  0%|          | 0/90 [00:00<?, ?it/s]         "
     ]
    },
    {
     "name": "stdout",
     "output_type": "stream",
     "text": [
      "2018-02-23 05:04:56.944596\t25\tGRU\t3\t0.3\t0.1\t4\t51.0999977589\t51.366286344\n"
     ]
    },
    {
     "name": "stderr",
     "output_type": "stream",
     "text": [
      "  0%|          | 0/90 [00:00<?, ?it/s]         "
     ]
    },
    {
     "name": "stdout",
     "output_type": "stream",
     "text": [
      "2018-02-23 05:06:05.112457\t25\tGRU\t3\t0.3\t0.1\t5\t53.7000000477\t53.1872968872\n"
     ]
    },
    {
     "name": "stderr",
     "output_type": "stream",
     "text": [
      "  0%|          | 0/90 [00:00<?, ?it/s]         "
     ]
    },
    {
     "name": "stdout",
     "output_type": "stream",
     "text": [
      "2018-02-23 05:07:13.093551\t25\tGRU\t3\t0.3\t0.1\t6\t52.2499978542\t58.8162965576\n"
     ]
    },
    {
     "name": "stderr",
     "output_type": "stream",
     "text": [
      "  0%|          | 0/90 [00:00<?, ?it/s]         "
     ]
    },
    {
     "name": "stdout",
     "output_type": "stream",
     "text": [
      "2018-02-23 05:08:21.145488\t25\tGRU\t3\t0.3\t0.1\t7\t52.1000027657\t51.9820611344\n"
     ]
    },
    {
     "name": "stderr",
     "output_type": "stream",
     "text": [
      "  0%|          | 0/90 [00:00<?, ?it/s]         "
     ]
    },
    {
     "name": "stdout",
     "output_type": "stream",
     "text": [
      "2018-02-23 05:09:29.217614\t25\tGRU\t3\t0.3\t0.1\t8\t52.7499973774\t52.4702999658\n"
     ]
    },
    {
     "name": "stderr",
     "output_type": "stream",
     "text": [
      "  0%|          | 0/90 [00:00<?, ?it/s]         "
     ]
    },
    {
     "name": "stdout",
     "output_type": "stream",
     "text": [
      "2018-02-23 05:10:37.307559\t25\tGRU\t3\t0.3\t0.1\t9\t60.799998045\t54.980086916\n"
     ]
    },
    {
     "name": "stderr",
     "output_type": "stream",
     "text": [
      "  0%|          | 0/90 [00:00<?, ?it/s]         "
     ]
    },
    {
     "name": "stdout",
     "output_type": "stream",
     "text": [
      "2018-02-23 05:11:45.614136\t25\tGRU\t3\t0.3\t0.1\t10\t72.5499987602\t68.3826430639\n"
     ]
    },
    {
     "name": "stderr",
     "output_type": "stream",
     "text": [
      "  0%|          | 0/90 [00:00<?, ?it/s]         "
     ]
    },
    {
     "name": "stdout",
     "output_type": "stream",
     "text": [
      "2018-02-23 05:12:53.589707\t25\tGRU\t3\t0.3\t0.1\t11\t51.2000024319\t56.0242555208\n"
     ]
    },
    {
     "name": "stderr",
     "output_type": "stream",
     "text": [
      "  0%|          | 0/90 [00:00<?, ?it/s]         "
     ]
    },
    {
     "name": "stdout",
     "output_type": "stream",
     "text": [
      "2018-02-23 05:14:01.622728\t25\tGRU\t3\t0.3\t0.1\t12\t52.1000027657\t52.542739941\n"
     ]
    },
    {
     "name": "stderr",
     "output_type": "stream",
     "text": [
      "                                               \r"
     ]
    },
    {
     "name": "stdout",
     "output_type": "stream",
     "text": [
      "2018-02-23 05:15:09.690654\t25\tGRU\t3\t0.3\t0.1\t13\t52.7499973774\t53.0661605464\n"
     ]
    },
    {
     "name": "stderr",
     "output_type": "stream",
     "text": [
      "  0%|          | 0/90 [00:00<?, ?it/s]         "
     ]
    },
    {
     "name": "stdout",
     "output_type": "stream",
     "text": [
      "2018-02-23 05:18:25.947304\t25\tGRU\t3\t0.3\t0.2\t0\t50.5999982357\t50.6613571114\n"
     ]
    },
    {
     "name": "stderr",
     "output_type": "stream",
     "text": [
      "  0%|          | 0/90 [00:00<?, ?it/s]         "
     ]
    },
    {
     "name": "stdout",
     "output_type": "stream",
     "text": [
      "2018-02-23 05:19:34.127108\t25\tGRU\t3\t0.3\t0.2\t1\t52.3000001907\t50.9841035803\n"
     ]
    },
    {
     "name": "stderr",
     "output_type": "stream",
     "text": [
      "  0%|          | 0/90 [00:00<?, ?it/s]         "
     ]
    },
    {
     "name": "stdout",
     "output_type": "stream",
     "text": [
      "2018-02-23 05:20:42.613407\t25\tGRU\t3\t0.3\t0.2\t2\t53.149998188\t52.3437510596\n"
     ]
    },
    {
     "name": "stderr",
     "output_type": "stream",
     "text": [
      "  0%|          | 0/90 [00:00<?, ?it/s]         "
     ]
    },
    {
     "name": "stdout",
     "output_type": "stream",
     "text": [
      "2018-02-23 05:21:50.702097\t25\tGRU\t3\t0.3\t0.2\t3\t52.1499991417\t52.9744019442\n"
     ]
    },
    {
     "name": "stderr",
     "output_type": "stream",
     "text": [
      "  0%|          | 0/90 [00:00<?, ?it/s]         "
     ]
    },
    {
     "name": "stdout",
     "output_type": "stream",
     "text": [
      "2018-02-23 05:22:58.975093\t25\tGRU\t3\t0.3\t0.2\t4\t54.5000016689\t54.4306588173\n"
     ]
    },
    {
     "name": "stderr",
     "output_type": "stream",
     "text": [
      "  0%|          | 0/90 [00:00<?, ?it/s]         "
     ]
    },
    {
     "name": "stdout",
     "output_type": "stream",
     "text": [
      "2018-02-23 05:24:07.014952\t25\tGRU\t3\t0.3\t0.2\t5\t54.2999982834\t55.2522308628\n"
     ]
    },
    {
     "name": "stderr",
     "output_type": "stream",
     "text": [
      "  0%|          | 0/90 [00:00<?, ?it/s]         "
     ]
    },
    {
     "name": "stdout",
     "output_type": "stream",
     "text": [
      "2018-02-23 05:25:15.455983\t25\tGRU\t3\t0.3\t0.2\t6\t55.3499996662\t54.2885871066\n"
     ]
    },
    {
     "name": "stderr",
     "output_type": "stream",
     "text": [
      "  0%|          | 0/90 [00:00<?, ?it/s]         "
     ]
    },
    {
     "name": "stdout",
     "output_type": "stream",
     "text": [
      "2018-02-23 05:26:23.748375\t25\tGRU\t3\t0.3\t0.2\t7\t69.7499990463\t60.1956539022\n"
     ]
    },
    {
     "name": "stderr",
     "output_type": "stream",
     "text": [
      "  0%|          | 0/90 [00:00<?, ?it/s]         "
     ]
    },
    {
     "name": "stdout",
     "output_type": "stream",
     "text": [
      "2018-02-23 05:27:32.666485\t25\tGRU\t3\t0.3\t0.2\t8\t50.150001049\t54.0924740169\n"
     ]
    },
    {
     "name": "stderr",
     "output_type": "stream",
     "text": [
      "  0%|          | 0/90 [00:00<?, ?it/s]         "
     ]
    },
    {
     "name": "stdout",
     "output_type": "stream",
     "text": [
      "2018-02-23 05:28:41.006175\t25\tGRU\t3\t0.3\t0.2\t9\t50.0500023365\t50.2088446087\n"
     ]
    },
    {
     "name": "stderr",
     "output_type": "stream",
     "text": [
      "  0%|          | 0/90 [00:00<?, ?it/s]         "
     ]
    },
    {
     "name": "stdout",
     "output_type": "stream",
     "text": [
      "2018-02-23 05:29:49.072896\t25\tGRU\t3\t0.3\t0.2\t10\t50.0999987125\t50.2349374361\n"
     ]
    },
    {
     "name": "stderr",
     "output_type": "stream",
     "text": [
      "  0%|          | 0/90 [00:00<?, ?it/s]         "
     ]
    },
    {
     "name": "stdout",
     "output_type": "stream",
     "text": [
      "2018-02-23 05:30:57.169936\t25\tGRU\t3\t0.3\t0.2\t11\t50.1999974251\t50.1597568062\n"
     ]
    },
    {
     "name": "stderr",
     "output_type": "stream",
     "text": [
      "  0%|          | 0/90 [00:00<?, ?it/s]         "
     ]
    },
    {
     "name": "stdout",
     "output_type": "stream",
     "text": [
      "2018-02-23 05:32:05.492320\t25\tGRU\t3\t0.3\t0.2\t12\t51.0999977589\t50.7353290253\n"
     ]
    },
    {
     "name": "stderr",
     "output_type": "stream",
     "text": [
      "                                               \r"
     ]
    },
    {
     "name": "stdout",
     "output_type": "stream",
     "text": [
      "2018-02-23 05:33:13.726567\t25\tGRU\t3\t0.3\t0.2\t13\t50.7499992847\t51.2479584085\n"
     ]
    },
    {
     "name": "stderr",
     "output_type": "stream",
     "text": [
      "  0%|          | 0/90 [00:00<?, ?it/s]         "
     ]
    },
    {
     "name": "stdout",
     "output_type": "stream",
     "text": [
      "2018-02-23 05:36:37.678650\t25\tGRU\t3\t0.3\t0.3\t0\t49.9000012875\t50.4129568073\n"
     ]
    },
    {
     "name": "stderr",
     "output_type": "stream",
     "text": [
      "  0%|          | 0/90 [00:00<?, ?it/s]         "
     ]
    },
    {
     "name": "stdout",
     "output_type": "stream",
     "text": [
      "2018-02-23 05:37:44.002815\t25\tGRU\t3\t0.3\t0.3\t1\t49.2500007153\t50.0001878871\n"
     ]
    },
    {
     "name": "stderr",
     "output_type": "stream",
     "text": [
      " 12%|█▏        | 11/90 [00:08<00:57,  1.36it/s]IOPub message rate exceeded.\n",
      "The notebook server will temporarily stop sending output\n",
      "to the client in order to avoid crashing it.\n",
      "To change this limit, set the config variable\n",
      "`--NotebookApp.iopub_msg_rate_limit`.\n",
      "\n",
      "Current values:\n",
      "NotebookApp.iopub_msg_rate_limit=1000.0 (msgs/sec)\n",
      "NotebookApp.rate_limit_window=3.0 (secs)\n",
      "\n",
      "  0%|          | 0/90 [00:00<?, ?it/s]         "
     ]
    },
    {
     "name": "stdout",
     "output_type": "stream",
     "text": [
      "2018-02-23 06:03:00.473654\t25\tLSTM\t1\t0.1\t0.0\t4\t66.4499998093\t64.6083546678\n"
     ]
    },
    {
     "name": "stderr",
     "output_type": "stream",
     "text": [
      "                                               \r"
     ]
    },
    {
     "name": "stdout",
     "output_type": "stream",
     "text": [
      "2018-02-23 06:03:18.999690\t25\tLSTM\t1\t0.1\t0.0\t5\t54.8500001431\t62.1468215187\n"
     ]
    },
    {
     "name": "stderr",
     "output_type": "stream",
     "text": [
      "  0%|          | 0/90 [00:00<?, ?it/s]         "
     ]
    },
    {
     "name": "stdout",
     "output_type": "stream",
     "text": [
      "2018-02-23 06:04:11.411228\t25\tLSTM\t1\t0.1\t0.1\t0\t52.1499991417\t51.3577249646\n"
     ]
    },
    {
     "name": "stderr",
     "output_type": "stream",
     "text": [
      "  0%|          | 0/90 [00:00<?, ?it/s]         "
     ]
    },
    {
     "name": "stdout",
     "output_type": "stream",
     "text": [
      "2018-02-23 06:04:29.870916\t25\tLSTM\t1\t0.1\t0.1\t1\t59.249997139\t57.2126406431\n"
     ]
    },
    {
     "name": "stderr",
     "output_type": "stream",
     "text": [
      "  0%|          | 0/90 [00:00<?, ?it/s]         "
     ]
    },
    {
     "name": "stdout",
     "output_type": "stream",
     "text": [
      "2018-02-23 06:04:48.368115\t25\tLSTM\t1\t0.1\t0.1\t2\t64.5500004292\t62.822543184\n"
     ]
    },
    {
     "name": "stderr",
     "output_type": "stream",
     "text": [
      "  0%|          | 0/90 [00:00<?, ?it/s]         "
     ]
    },
    {
     "name": "stdout",
     "output_type": "stream",
     "text": [
      "2018-02-23 06:05:06.822735\t25\tLSTM\t1\t0.1\t0.1\t3\t57.3499977589\t63.1500554747\n"
     ]
    },
    {
     "name": "stderr",
     "output_type": "stream",
     "text": [
      "  0%|          | 0/90 [00:00<?, ?it/s]         "
     ]
    },
    {
     "name": "stdout",
     "output_type": "stream",
     "text": [
      "2018-02-23 06:05:25.308355\t25\tLSTM\t1\t0.1\t0.1\t4\t50.4499971867\t63.0917084548\n"
     ]
    },
    {
     "name": "stderr",
     "output_type": "stream",
     "text": [
      "                                               \r"
     ]
    },
    {
     "name": "stdout",
     "output_type": "stream",
     "text": [
      "2018-02-23 06:05:43.778250\t25\tLSTM\t1\t0.1\t0.1\t5\t51.0500013828\t51.1616294252\n"
     ]
    },
    {
     "name": "stderr",
     "output_type": "stream",
     "text": [
      "  0%|          | 0/90 [00:00<?, ?it/s]         "
     ]
    },
    {
     "name": "stdout",
     "output_type": "stream",
     "text": [
      "2018-02-23 06:06:35.850948\t25\tLSTM\t1\t0.1\t0.2\t0\t60.2500021458\t53.2604007257\n"
     ]
    },
    {
     "name": "stderr",
     "output_type": "stream",
     "text": [
      "  0%|          | 0/90 [00:00<?, ?it/s]         "
     ]
    },
    {
     "name": "stdout",
     "output_type": "stream",
     "text": [
      "2018-02-23 06:06:54.662386\t25\tLSTM\t1\t0.1\t0.2\t1\t59.6000015736\t62.7705279324\n"
     ]
    },
    {
     "name": "stderr",
     "output_type": "stream",
     "text": [
      "  0%|          | 0/90 [00:00<?, ?it/s]         "
     ]
    },
    {
     "name": "stdout",
     "output_type": "stream",
     "text": [
      "2018-02-23 06:07:13.455168\t25\tLSTM\t1\t0.1\t0.2\t2\t64.5500004292\t63.3522613181\n"
     ]
    },
    {
     "name": "stderr",
     "output_type": "stream",
     "text": [
      "  0%|          | 0/90 [00:00<?, ?it/s]         "
     ]
    },
    {
     "name": "stdout",
     "output_type": "stream",
     "text": [
      "2018-02-23 06:07:32.023501\t25\tLSTM\t1\t0.1\t0.2\t3\t55.6500017643\t56.0439145234\n"
     ]
    },
    {
     "name": "stderr",
     "output_type": "stream",
     "text": [
      "  0%|          | 0/90 [00:00<?, ?it/s]         "
     ]
    },
    {
     "name": "stdout",
     "output_type": "stream",
     "text": [
      "2018-02-23 06:07:50.458333\t25\tLSTM\t1\t0.1\t0.2\t4\t50.0\t57.970810367\n"
     ]
    },
    {
     "name": "stderr",
     "output_type": "stream",
     "text": [
      "                                               \r"
     ]
    },
    {
     "name": "stdout",
     "output_type": "stream",
     "text": [
      "2018-02-23 06:08:09.011813\t25\tLSTM\t1\t0.1\t0.2\t5\t49.9500006437\t51.7050833172\n"
     ]
    },
    {
     "name": "stderr",
     "output_type": "stream",
     "text": [
      "  0%|          | 0/90 [00:00<?, ?it/s]         "
     ]
    },
    {
     "name": "stdout",
     "output_type": "stream",
     "text": [
      "2018-02-23 06:09:01.818179\t25\tLSTM\t1\t0.1\t0.3\t0\t53.100001812\t52.1320475803\n"
     ]
    },
    {
     "name": "stderr",
     "output_type": "stream",
     "text": [
      "  0%|          | 0/90 [00:00<?, ?it/s]         "
     ]
    },
    {
     "name": "stdout",
     "output_type": "stream",
     "text": [
      "2018-02-23 06:09:20.259188\t25\tLSTM\t1\t0.1\t0.3\t1\t58.3999991417\t57.6042188538\n"
     ]
    },
    {
     "name": "stderr",
     "output_type": "stream",
     "text": [
      "  0%|          | 0/90 [00:00<?, ?it/s]         "
     ]
    },
    {
     "name": "stdout",
     "output_type": "stream",
     "text": [
      "2018-02-23 06:09:38.767938\t25\tLSTM\t1\t0.1\t0.3\t2\t50.6500005722\t62.7509710193\n"
     ]
    },
    {
     "name": "stderr",
     "output_type": "stream",
     "text": [
      "  0%|          | 0/90 [00:00<?, ?it/s]         "
     ]
    },
    {
     "name": "stdout",
     "output_type": "stream",
     "text": [
      "2018-02-23 06:09:57.281691\t25\tLSTM\t1\t0.1\t0.3\t3\t50.7000029087\t51.3691968719\n"
     ]
    },
    {
     "name": "stderr",
     "output_type": "stream",
     "text": [
      "  0%|          | 0/90 [00:00<?, ?it/s]         "
     ]
    },
    {
     "name": "stdout",
     "output_type": "stream",
     "text": [
      "2018-02-23 06:10:15.696315\t25\tLSTM\t1\t0.1\t0.3\t4\t52.6499986649\t52.6570510533\n"
     ]
    },
    {
     "name": "stderr",
     "output_type": "stream",
     "text": [
      "                                               \r"
     ]
    },
    {
     "name": "stdout",
     "output_type": "stream",
     "text": [
      "2018-02-23 06:10:34.166196\t25\tLSTM\t1\t0.1\t0.3\t5\t54.1999995708\t54.0143495136\n"
     ]
    },
    {
     "name": "stderr",
     "output_type": "stream",
     "text": [
      "  0%|          | 0/90 [00:00<?, ?it/s]         "
     ]
    },
    {
     "name": "stdout",
     "output_type": "stream",
     "text": [
      "2018-02-23 06:11:27.790987\t25\tLSTM\t1\t0.15\t0.0\t0\t53.7999987602\t52.4245484008\n"
     ]
    },
    {
     "name": "stderr",
     "output_type": "stream",
     "text": [
      "  0%|          | 0/90 [00:00<?, ?it/s]         "
     ]
    },
    {
     "name": "stdout",
     "output_type": "stream",
     "text": [
      "2018-02-23 06:11:46.347483\t25\tLSTM\t1\t0.15\t0.0\t1\t70.349997282\t64.3955278397\n"
     ]
    },
    {
     "name": "stderr",
     "output_type": "stream",
     "text": [
      "  0%|          | 0/90 [00:00<?, ?it/s]         "
     ]
    },
    {
     "name": "stdout",
     "output_type": "stream",
     "text": [
      "2018-02-23 06:12:04.816219\t25\tLSTM\t1\t0.15\t0.0\t2\t69.1999971867\t68.304007517\n"
     ]
    },
    {
     "name": "stderr",
     "output_type": "stream",
     "text": [
      "  0%|          | 0/90 [00:00<?, ?it/s]         "
     ]
    },
    {
     "name": "stdout",
     "output_type": "stream",
     "text": [
      "2018-02-23 06:12:23.224434\t25\tLSTM\t1\t0.15\t0.0\t3\t70.450001955\t70.7409457366\n"
     ]
    },
    {
     "name": "stderr",
     "output_type": "stream",
     "text": [
      "  0%|          | 0/90 [00:00<?, ?it/s]         "
     ]
    },
    {
     "name": "stdout",
     "output_type": "stream",
     "text": [
      "2018-02-23 06:12:41.618227\t25\tLSTM\t1\t0.15\t0.0\t4\t65.649998188\t70.3129943874\n"
     ]
    },
    {
     "name": "stderr",
     "output_type": "stream",
     "text": [
      "                                               \r"
     ]
    },
    {
     "name": "stdout",
     "output_type": "stream",
     "text": [
      "2018-02-23 06:13:00.057841\t25\tLSTM\t1\t0.15\t0.0\t5\t73.400002718\t71.6184647878\n"
     ]
    },
    {
     "name": "stderr",
     "output_type": "stream",
     "text": [
      "  0%|          | 0/90 [00:00<?, ?it/s]         "
     ]
    },
    {
     "name": "stdout",
     "output_type": "stream",
     "text": [
      "2018-02-23 06:13:52.486991\t25\tLSTM\t1\t0.15\t0.1\t0\t53.4500002861\t52.7150235242\n"
     ]
    },
    {
     "name": "stderr",
     "output_type": "stream",
     "text": [
      "  0%|          | 0/90 [00:00<?, ?it/s]         "
     ]
    },
    {
     "name": "stdout",
     "output_type": "stream",
     "text": [
      "2018-02-23 06:14:11.031692\t25\tLSTM\t1\t0.15\t0.1\t1\t52.2499978542\t56.3089947237\n"
     ]
    },
    {
     "name": "stderr",
     "output_type": "stream",
     "text": [
      "  0%|          | 0/90 [00:00<?, ?it/s]         "
     ]
    },
    {
     "name": "stdout",
     "output_type": "stream",
     "text": [
      "2018-02-23 06:14:29.547572\t25\tLSTM\t1\t0.15\t0.1\t2\t50.5999982357\t58.1710249517\n"
     ]
    },
    {
     "name": "stderr",
     "output_type": "stream",
     "text": [
      "  0%|          | 0/90 [00:00<?, ?it/s]         "
     ]
    },
    {
     "name": "stdout",
     "output_type": "stream",
     "text": [
      "2018-02-23 06:14:47.984539\t25\tLSTM\t1\t0.15\t0.1\t3\t50.5999982357\t55.4423347778\n"
     ]
    },
    {
     "name": "stderr",
     "output_type": "stream",
     "text": [
      "  0%|          | 0/90 [00:00<?, ?it/s]         "
     ]
    },
    {
     "name": "stdout",
     "output_type": "stream",
     "text": [
      "2018-02-23 06:15:06.388716\t25\tLSTM\t1\t0.15\t0.1\t4\t52.2000014782\t52.2707322902\n"
     ]
    },
    {
     "name": "stderr",
     "output_type": "stream",
     "text": [
      "                                               \r"
     ]
    },
    {
     "name": "stdout",
     "output_type": "stream",
     "text": [
      "2018-02-23 06:15:24.928520\t25\tLSTM\t1\t0.15\t0.1\t5\t52.8500020504\t54.1874840193\n"
     ]
    },
    {
     "name": "stderr",
     "output_type": "stream",
     "text": [
      " 61%|██████    | 55/90 [00:16<00:10,  3.43it/s]IOPub message rate exceeded.\n",
      "The notebook server will temporarily stop sending output\n",
      "to the client in order to avoid crashing it.\n",
      "To change this limit, set the config variable\n",
      "`--NotebookApp.iopub_msg_rate_limit`.\n",
      "\n",
      "Current values:\n",
      "NotebookApp.iopub_msg_rate_limit=1000.0 (msgs/sec)\n",
      "NotebookApp.rate_limit_window=3.0 (secs)\n",
      "\n",
      "  0%|          | 0/90 [00:00<?, ?it/s]         "
     ]
    },
    {
     "name": "stdout",
     "output_type": "stream",
     "text": [
      "2018-02-23 06:34:22.230685\t25\tLSTM\t2\t0.0\t0.0\t4\t50.8499979973\t52.405127618\n"
     ]
    },
    {
     "name": "stderr",
     "output_type": "stream",
     "text": [
      "  0%|          | 0/90 [00:00<?, ?it/s]         "
     ]
    },
    {
     "name": "stdout",
     "output_type": "stream",
     "text": [
      "2018-02-23 06:35:01.640718\t25\tLSTM\t2\t0.0\t0.0\t5\t52.3500025272\t51.9226078855\n"
     ]
    },
    {
     "name": "stderr",
     "output_type": "stream",
     "text": [
      "  0%|          | 0/90 [00:00<?, ?it/s]         "
     ]
    },
    {
     "name": "stdout",
     "output_type": "stream",
     "text": [
      "2018-02-23 06:35:41.074081\t25\tLSTM\t2\t0.0\t0.0\t6\t61.1999988556\t55.3299984005\n"
     ]
    },
    {
     "name": "stderr",
     "output_type": "stream",
     "text": [
      "  0%|          | 0/90 [00:00<?, ?it/s]         "
     ]
    },
    {
     "name": "stdout",
     "output_type": "stream",
     "text": [
      "2018-02-23 06:36:20.488471\t25\tLSTM\t2\t0.0\t0.0\t7\t53.4500002861\t54.1039294336\n"
     ]
    },
    {
     "name": "stderr",
     "output_type": "stream",
     "text": [
      "                                               \r"
     ]
    },
    {
     "name": "stdout",
     "output_type": "stream",
     "text": [
      "2018-02-23 06:36:59.782599\t25\tLSTM\t2\t0.0\t0.0\t8\t56.0500025749\t56.1719101667\n"
     ]
    },
    {
     "name": "stderr",
     "output_type": "stream",
     "text": [
      "  0%|          | 0/90 [00:00<?, ?it/s]         "
     ]
    },
    {
     "name": "stdout",
     "output_type": "stream",
     "text": [
      "2018-02-23 06:38:53.021917\t25\tLSTM\t2\t0.0\t0.1\t0\t52.2000014782\t52.5454633435\n"
     ]
    },
    {
     "name": "stderr",
     "output_type": "stream",
     "text": [
      "  0%|          | 0/90 [00:00<?, ?it/s]         "
     ]
    },
    {
     "name": "stdout",
     "output_type": "stream",
     "text": [
      "2018-02-23 06:39:33.198585\t25\tLSTM\t2\t0.0\t0.1\t1\t52.8500020504\t58.1026868688\n"
     ]
    },
    {
     "name": "stderr",
     "output_type": "stream",
     "text": [
      "  0%|          | 0/90 [00:00<?, ?it/s]         "
     ]
    },
    {
     "name": "stdout",
     "output_type": "stream",
     "text": [
      "2018-02-23 06:40:13.548098\t25\tLSTM\t2\t0.0\t0.1\t2\t66.3500010967\t60.4107444154\n"
     ]
    },
    {
     "name": "stderr",
     "output_type": "stream",
     "text": [
      "  0%|          | 0/90 [00:00<?, ?it/s]         "
     ]
    },
    {
     "name": "stdout",
     "output_type": "stream",
     "text": [
      "2018-02-23 06:40:54.095732\t25\tLSTM\t2\t0.0\t0.1\t3\t68.9999997616\t67.7791402737\n"
     ]
    },
    {
     "name": "stderr",
     "output_type": "stream",
     "text": [
      "  0%|          | 0/90 [00:00<?, ?it/s]         "
     ]
    },
    {
     "name": "stdout",
     "output_type": "stream",
     "text": [
      "2018-02-23 06:41:34.381089\t25\tLSTM\t2\t0.0\t0.1\t4\t50.7000029087\t54.2540006505\n"
     ]
    },
    {
     "name": "stderr",
     "output_type": "stream",
     "text": [
      "  0%|          | 0/90 [00:00<?, ?it/s]         "
     ]
    },
    {
     "name": "stdout",
     "output_type": "stream",
     "text": [
      "2018-02-23 06:42:14.601583\t25\tLSTM\t2\t0.0\t0.1\t5\t50.8000016212\t51.1866838733\n"
     ]
    },
    {
     "name": "stderr",
     "output_type": "stream",
     "text": [
      "  0%|          | 0/90 [00:00<?, ?it/s]         "
     ]
    },
    {
     "name": "stdout",
     "output_type": "stream",
     "text": [
      "2018-02-23 06:42:54.771861\t25\tLSTM\t2\t0.0\t0.1\t6\t52.2000014782\t52.8439382381\n"
     ]
    },
    {
     "name": "stderr",
     "output_type": "stream",
     "text": [
      "  0%|          | 0/90 [00:00<?, ?it/s]         "
     ]
    },
    {
     "name": "stdout",
     "output_type": "stream",
     "text": [
      "2018-02-23 06:43:34.942806\t25\tLSTM\t2\t0.0\t0.1\t7\t52.2000014782\t53.2231594457\n"
     ]
    },
    {
     "name": "stderr",
     "output_type": "stream",
     "text": [
      "                                               \r"
     ]
    },
    {
     "name": "stdout",
     "output_type": "stream",
     "text": [
      "2018-02-23 06:44:15.130886\t25\tLSTM\t2\t0.0\t0.1\t8\t60.0499987602\t59.0564076768\n"
     ]
    },
    {
     "name": "stderr",
     "output_type": "stream",
     "text": [
      "  0%|          | 0/90 [00:00<?, ?it/s]         "
     ]
    },
    {
     "name": "stdout",
     "output_type": "stream",
     "text": [
      "2018-02-23 06:46:08.511595\t25\tLSTM\t2\t0.0\t0.2\t0\t65.1499986649\t55.1183969776\n"
     ]
    },
    {
     "name": "stderr",
     "output_type": "stream",
     "text": [
      "  0%|          | 0/90 [00:00<?, ?it/s]         "
     ]
    },
    {
     "name": "stdout",
     "output_type": "stream",
     "text": [
      "2018-02-23 06:46:48.715854\t25\tLSTM\t2\t0.0\t0.2\t1\t52.1499991417\t58.4306075176\n"
     ]
    },
    {
     "name": "stderr",
     "output_type": "stream",
     "text": [
      "  0%|          | 0/90 [00:00<?, ?it/s]         "
     ]
    },
    {
     "name": "stdout",
     "output_type": "stream",
     "text": [
      "2018-02-23 06:47:29.096339\t25\tLSTM\t2\t0.0\t0.2\t2\t50.8000016212\t53.5533439782\n"
     ]
    },
    {
     "name": "stderr",
     "output_type": "stream",
     "text": [
      "  0%|          | 0/90 [00:00<?, ?it/s]         "
     ]
    },
    {
     "name": "stdout",
     "output_type": "stream",
     "text": [
      "2018-02-23 06:48:09.436323\t25\tLSTM\t2\t0.0\t0.2\t3\t53.9499998093\t53.763958017\n"
     ]
    },
    {
     "name": "stderr",
     "output_type": "stream",
     "text": [
      "  0%|          | 0/90 [00:00<?, ?it/s]         "
     ]
    },
    {
     "name": "stdout",
     "output_type": "stream",
     "text": [
      "2018-02-23 06:48:49.756185\t25\tLSTM\t2\t0.0\t0.2\t4\t65.7000005245\t60.2017132441\n"
     ]
    },
    {
     "name": "stderr",
     "output_type": "stream",
     "text": [
      "  0%|          | 0/90 [00:00<?, ?it/s]         "
     ]
    },
    {
     "name": "stdout",
     "output_type": "stream",
     "text": [
      "2018-02-23 06:49:30.034993\t25\tLSTM\t2\t0.0\t0.2\t5\t57.4000000954\t55.6367624137\n"
     ]
    },
    {
     "name": "stderr",
     "output_type": "stream",
     "text": [
      "  0%|          | 0/90 [00:00<?, ?it/s]         "
     ]
    },
    {
     "name": "stdout",
     "output_type": "stream",
     "text": [
      "2018-02-23 06:50:10.382010\t25\tLSTM\t2\t0.0\t0.2\t6\t51.599997282\t55.7970459925\n"
     ]
    },
    {
     "name": "stderr",
     "output_type": "stream",
     "text": [
      "  0%|          | 0/90 [00:00<?, ?it/s]         "
     ]
    },
    {
     "name": "stdout",
     "output_type": "stream",
     "text": [
      "2018-02-23 06:50:50.539064\t25\tLSTM\t2\t0.0\t0.2\t7\t64.9500012398\t54.0860747629\n"
     ]
    },
    {
     "name": "stderr",
     "output_type": "stream",
     "text": [
      "                                               \r"
     ]
    },
    {
     "name": "stdout",
     "output_type": "stream",
     "text": [
      "2018-02-23 06:51:30.906079\t25\tLSTM\t2\t0.0\t0.2\t8\t55.0000011921\t54.983303878\n"
     ]
    },
    {
     "name": "stderr",
     "output_type": "stream",
     "text": [
      "  0%|          | 0/90 [00:00<?, ?it/s]         "
     ]
    },
    {
     "name": "stdout",
     "output_type": "stream",
     "text": [
      "2018-02-23 06:53:25.974336\t25\tLSTM\t2\t0.0\t0.3\t0\t53.250002861\t55.3625248869\n"
     ]
    },
    {
     "name": "stderr",
     "output_type": "stream",
     "text": [
      "  0%|          | 0/90 [00:00<?, ?it/s]         "
     ]
    },
    {
     "name": "stdout",
     "output_type": "stream",
     "text": [
      "2018-02-23 06:54:06.167782\t25\tLSTM\t2\t0.0\t0.3\t1\t50.9999990463\t50.4575171073\n"
     ]
    },
    {
     "name": "stderr",
     "output_type": "stream",
     "text": [
      "  0%|          | 0/90 [00:00<?, ?it/s]         "
     ]
    },
    {
     "name": "stdout",
     "output_type": "stream",
     "text": [
      "2018-02-23 06:54:46.484510\t25\tLSTM\t2\t0.0\t0.3\t2\t54.9000024796\t53.1318264206\n"
     ]
    },
    {
     "name": "stderr",
     "output_type": "stream",
     "text": [
      "  0%|          | 0/90 [00:00<?, ?it/s]         "
     ]
    },
    {
     "name": "stdout",
     "output_type": "stream",
     "text": [
      "2018-02-23 06:55:27.971322\t25\tLSTM\t2\t0.0\t0.3\t3\t56.7499995232\t58.0830960804\n"
     ]
    },
    {
     "name": "stderr",
     "output_type": "stream",
     "text": [
      "  0%|          | 0/90 [00:00<?, ?it/s]         "
     ]
    },
    {
     "name": "stdout",
     "output_type": "stream",
     "text": [
      "2018-02-23 06:56:08.338693\t25\tLSTM\t2\t0.0\t0.3\t4\t51.0500013828\t52.6308220294\n"
     ]
    },
    {
     "name": "stderr",
     "output_type": "stream",
     "text": [
      "  0%|          | 0/90 [00:00<?, ?it/s]         "
     ]
    },
    {
     "name": "stdout",
     "output_type": "stream",
     "text": [
      "2018-02-23 06:56:48.633159\t25\tLSTM\t2\t0.0\t0.3\t5\t51.9500017166\t53.4517643849\n"
     ]
    },
    {
     "name": "stderr",
     "output_type": "stream",
     "text": [
      "  0%|          | 0/90 [00:00<?, ?it/s]         "
     ]
    },
    {
     "name": "stdout",
     "output_type": "stream",
     "text": [
      "2018-02-23 06:57:28.977153\t25\tLSTM\t2\t0.0\t0.3\t6\t55.5499970913\t54.8820817139\n"
     ]
    },
    {
     "name": "stderr",
     "output_type": "stream",
     "text": [
      "  0%|          | 0/90 [00:00<?, ?it/s]         "
     ]
    },
    {
     "name": "stdout",
     "output_type": "stream",
     "text": [
      "2018-02-23 06:58:09.198249\t25\tLSTM\t2\t0.0\t0.3\t7\t56.5500020981\t56.670769718\n"
     ]
    },
    {
     "name": "stderr",
     "output_type": "stream",
     "text": [
      "                                               \r"
     ]
    },
    {
     "name": "stdout",
     "output_type": "stream",
     "text": [
      "2018-02-23 06:58:49.507494\t25\tLSTM\t2\t0.0\t0.3\t8\t50.9500026703\t57.0666708549\n"
     ]
    },
    {
     "name": "stderr",
     "output_type": "stream",
     "text": [
      "  0%|          | 0/90 [00:00<?, ?it/s]         "
     ]
    },
    {
     "name": "stdout",
     "output_type": "stream",
     "text": [
      "2018-02-23 07:00:42.061460\t25\tLSTM\t2\t0.1\t0.0\t0\t51.7499983311\t55.6569998794\n"
     ]
    },
    {
     "name": "stderr",
     "output_type": "stream",
     "text": [
      "IOPub message rate exceeded.\n",
      "The notebook server will temporarily stop sending output\n",
      "to the client in order to avoid crashing it.\n",
      "To change this limit, set the config variable\n",
      "`--NotebookApp.iopub_msg_rate_limit`.\n",
      "\n",
      "Current values:\n",
      "NotebookApp.iopub_msg_rate_limit=1000.0 (msgs/sec)\n",
      "NotebookApp.rate_limit_window=3.0 (secs)\n",
      "\n",
      "  0%|          | 0/90 [00:00<?, ?it/s]         "
     ]
    },
    {
     "name": "stdout",
     "output_type": "stream",
     "text": [
      "2018-02-23 07:32:58.753559\t25\tLSTM\t2\t0.15\t0.0\t5\t66.5499985218\t61.3405170043\n"
     ]
    },
    {
     "name": "stderr",
     "output_type": "stream",
     "text": [
      "  0%|          | 0/90 [00:00<?, ?it/s]         "
     ]
    },
    {
     "name": "stdout",
     "output_type": "stream",
     "text": [
      "2018-02-23 07:33:38.989025\t25\tLSTM\t2\t0.15\t0.0\t6\t66.6999995708\t64.525515106\n"
     ]
    },
    {
     "name": "stderr",
     "output_type": "stream",
     "text": [
      "  0%|          | 0/90 [00:00<?, ?it/s]         "
     ]
    },
    {
     "name": "stdout",
     "output_type": "stream",
     "text": [
      "2018-02-23 07:34:19.226482\t25\tLSTM\t2\t0.15\t0.0\t7\t63.2499992847\t65.5743303564\n"
     ]
    },
    {
     "name": "stderr",
     "output_type": "stream",
     "text": [
      "                                               \r"
     ]
    },
    {
     "name": "stdout",
     "output_type": "stream",
     "text": [
      "2018-02-23 07:34:59.445093\t25\tLSTM\t2\t0.15\t0.0\t8\t67.8499996662\t66.6446086433\n"
     ]
    },
    {
     "name": "stderr",
     "output_type": "stream",
     "text": [
      "  0%|          | 0/90 [00:00<?, ?it/s]         "
     ]
    },
    {
     "name": "stdout",
     "output_type": "stream",
     "text": [
      "2018-02-23 07:36:56.008829\t25\tLSTM\t2\t0.15\t0.1\t0\t63.3000016212\t57.423220608\n"
     ]
    },
    {
     "name": "stderr",
     "output_type": "stream",
     "text": [
      "  0%|          | 0/90 [00:00<?, ?it/s]         "
     ]
    },
    {
     "name": "stdout",
     "output_type": "stream",
     "text": [
      "2018-02-23 07:37:36.371957\t25\tLSTM\t2\t0.15\t0.1\t1\t66.9499993324\t64.4201398558\n"
     ]
    },
    {
     "name": "stderr",
     "output_type": "stream",
     "text": [
      "  0%|          | 0/90 [00:00<?, ?it/s]         "
     ]
    },
    {
     "name": "stdout",
     "output_type": "stream",
     "text": [
      "2018-02-23 07:38:16.614064\t25\tLSTM\t2\t0.15\t0.1\t2\t55.1500022411\t54.4495176607\n"
     ]
    },
    {
     "name": "stderr",
     "output_type": "stream",
     "text": [
      "  0%|          | 0/90 [00:00<?, ?it/s]         "
     ]
    },
    {
     "name": "stdout",
     "output_type": "stream",
     "text": [
      "2018-02-23 07:38:56.962486\t25\tLSTM\t2\t0.15\t0.1\t3\t58.5500001907\t54.5030476981\n"
     ]
    },
    {
     "name": "stderr",
     "output_type": "stream",
     "text": [
      "  0%|          | 0/90 [00:00<?, ?it/s]         "
     ]
    },
    {
     "name": "stdout",
     "output_type": "stream",
     "text": [
      "2018-02-23 07:39:37.283122\t25\tLSTM\t2\t0.15\t0.1\t4\t51.9999980927\t50.8745753765\n"
     ]
    },
    {
     "name": "stderr",
     "output_type": "stream",
     "text": [
      "  0%|          | 0/90 [00:00<?, ?it/s]         "
     ]
    },
    {
     "name": "stdout",
     "output_type": "stream",
     "text": [
      "2018-02-23 07:40:17.403546\t25\tLSTM\t2\t0.15\t0.1\t5\t57.0500016212\t53.4488878979\n"
     ]
    },
    {
     "name": "stderr",
     "output_type": "stream",
     "text": [
      "  0%|          | 0/90 [00:00<?, ?it/s]         "
     ]
    },
    {
     "name": "stdout",
     "output_type": "stream",
     "text": [
      "2018-02-23 07:40:57.654317\t25\tLSTM\t2\t0.15\t0.1\t6\t65.2000010014\t60.1559276051\n"
     ]
    },
    {
     "name": "stderr",
     "output_type": "stream",
     "text": [
      "  0%|          | 0/90 [00:00<?, ?it/s]         "
     ]
    },
    {
     "name": "stdout",
     "output_type": "stream",
     "text": [
      "2018-02-23 07:41:37.908795\t25\tLSTM\t2\t0.15\t0.1\t7\t65.5499994755\t67.0013114479\n"
     ]
    },
    {
     "name": "stderr",
     "output_type": "stream",
     "text": [
      "                                               \r"
     ]
    },
    {
     "name": "stdout",
     "output_type": "stream",
     "text": [
      "2018-02-23 07:42:18.256401\t25\tLSTM\t2\t0.15\t0.1\t8\t49.9000012875\t58.1378853321\n"
     ]
    },
    {
     "name": "stderr",
     "output_type": "stream",
     "text": [
      "  0%|          | 0/90 [00:00<?, ?it/s]         "
     ]
    },
    {
     "name": "stdout",
     "output_type": "stream",
     "text": [
      "2018-02-23 07:44:11.376588\t25\tLSTM\t2\t0.15\t0.2\t0\t55.4499983788\t55.5075411995\n"
     ]
    },
    {
     "name": "stderr",
     "output_type": "stream",
     "text": [
      "  0%|          | 0/90 [00:00<?, ?it/s]         "
     ]
    },
    {
     "name": "stdout",
     "output_type": "stream",
     "text": [
      "2018-02-23 07:44:51.478713\t25\tLSTM\t2\t0.15\t0.2\t1\t56.0000002384\t61.6711951627\n"
     ]
    },
    {
     "name": "stderr",
     "output_type": "stream",
     "text": [
      "  0%|          | 0/90 [00:00<?, ?it/s]         "
     ]
    },
    {
     "name": "stdout",
     "output_type": "stream",
     "text": [
      "2018-02-23 07:45:31.555164\t25\tLSTM\t2\t0.15\t0.2\t2\t65.7999992371\t62.3261004686\n"
     ]
    },
    {
     "name": "stderr",
     "output_type": "stream",
     "text": [
      "  0%|          | 0/90 [00:00<?, ?it/s]         "
     ]
    },
    {
     "name": "stdout",
     "output_type": "stream",
     "text": [
      "2018-02-23 07:46:11.655496\t25\tLSTM\t2\t0.15\t0.2\t3\t63.8499975204\t59.7221210599\n"
     ]
    },
    {
     "name": "stderr",
     "output_type": "stream",
     "text": [
      "  0%|          | 0/90 [00:00<?, ?it/s]         "
     ]
    },
    {
     "name": "stdout",
     "output_type": "stream",
     "text": [
      "2018-02-23 07:46:51.764513\t25\tLSTM\t2\t0.15\t0.2\t4\t51.599997282\t50.5642367403\n"
     ]
    },
    {
     "name": "stderr",
     "output_type": "stream",
     "text": [
      "  0%|          | 0/90 [00:00<?, ?it/s]         "
     ]
    },
    {
     "name": "stdout",
     "output_type": "stream",
     "text": [
      "2018-02-23 07:47:31.813037\t25\tLSTM\t2\t0.15\t0.2\t5\t52.3999989033\t50.4385900166\n"
     ]
    },
    {
     "name": "stderr",
     "output_type": "stream",
     "text": [
      "  0%|          | 0/90 [00:00<?, ?it/s]         "
     ]
    },
    {
     "name": "stdout",
     "output_type": "stream",
     "text": [
      "2018-02-23 07:48:11.879515\t25\tLSTM\t2\t0.15\t0.2\t6\t52.5499999523\t51.2515156468\n"
     ]
    },
    {
     "name": "stderr",
     "output_type": "stream",
     "text": [
      "  0%|          | 0/90 [00:00<?, ?it/s]         "
     ]
    },
    {
     "name": "stdout",
     "output_type": "stream",
     "text": [
      "2018-02-23 07:48:52.067273\t25\tLSTM\t2\t0.15\t0.2\t7\t52.2499978542\t52.1002868811\n"
     ]
    },
    {
     "name": "stderr",
     "output_type": "stream",
     "text": [
      "                                               \r"
     ]
    },
    {
     "name": "stdout",
     "output_type": "stream",
     "text": [
      "2018-02-23 07:49:32.218440\t25\tLSTM\t2\t0.15\t0.2\t8\t52.8500020504\t52.6131035222\n"
     ]
    },
    {
     "name": "stderr",
     "output_type": "stream",
     "text": [
      "  0%|          | 0/90 [00:00<?, ?it/s]         "
     ]
    },
    {
     "name": "stdout",
     "output_type": "stream",
     "text": [
      "2018-02-23 07:51:25.806149\t25\tLSTM\t2\t0.15\t0.3\t0\t53.9499998093\t52.420684629\n"
     ]
    },
    {
     "name": "stderr",
     "output_type": "stream",
     "text": [
      "  0%|          | 0/90 [00:00<?, ?it/s]         "
     ]
    },
    {
     "name": "stdout",
     "output_type": "stream",
     "text": [
      "2018-02-23 07:52:06.072753\t25\tLSTM\t2\t0.15\t0.3\t1\t54.2999982834\t55.4315267669\n"
     ]
    },
    {
     "name": "stderr",
     "output_type": "stream",
     "text": [
      "  0%|          | 0/90 [00:00<?, ?it/s]         "
     ]
    },
    {
     "name": "stdout",
     "output_type": "stream",
     "text": [
      "2018-02-23 07:52:46.294181\t25\tLSTM\t2\t0.15\t0.3\t2\t58.3500027657\t57.4339437816\n"
     ]
    },
    {
     "name": "stderr",
     "output_type": "stream",
     "text": [
      "  0%|          | 0/90 [00:00<?, ?it/s]         "
     ]
    },
    {
     "name": "stdout",
     "output_type": "stream",
     "text": [
      "2018-02-23 07:53:26.540968\t25\tLSTM\t2\t0.15\t0.3\t3\t52.2499978542\t53.3596312006\n"
     ]
    },
    {
     "name": "stderr",
     "output_type": "stream",
     "text": [
      "  0%|          | 0/90 [00:00<?, ?it/s]         "
     ]
    },
    {
     "name": "stdout",
     "output_type": "stream",
     "text": [
      "2018-02-23 07:54:06.875322\t25\tLSTM\t2\t0.15\t0.3\t4\t62.0500028133\t55.3944386707\n"
     ]
    },
    {
     "name": "stderr",
     "output_type": "stream",
     "text": [
      "  0%|          | 0/90 [00:00<?, ?it/s]         "
     ]
    },
    {
     "name": "stdout",
     "output_type": "stream",
     "text": [
      "2018-02-23 07:54:47.022601\t25\tLSTM\t2\t0.15\t0.3\t5\t61.4000022411\t61.9946565231\n"
     ]
    },
    {
     "name": "stderr",
     "output_type": "stream",
     "text": [
      "  0%|          | 0/90 [00:00<?, ?it/s]         "
     ]
    },
    {
     "name": "stdout",
     "output_type": "stream",
     "text": [
      "2018-02-23 07:55:27.209354\t25\tLSTM\t2\t0.15\t0.3\t6\t61.5999996662\t60.9131103754\n"
     ]
    },
    {
     "name": "stderr",
     "output_type": "stream",
     "text": [
      "  0%|          | 0/90 [00:00<?, ?it/s]         "
     ]
    },
    {
     "name": "stdout",
     "output_type": "stream",
     "text": [
      "2018-02-23 07:56:07.394671\t25\tLSTM\t2\t0.15\t0.3\t7\t63.4999990463\t63.4009404977\n"
     ]
    },
    {
     "name": "stderr",
     "output_type": "stream",
     "text": [
      "                                               \r"
     ]
    },
    {
     "name": "stdout",
     "output_type": "stream",
     "text": [
      "2018-02-23 07:56:47.589834\t25\tLSTM\t2\t0.15\t0.3\t8\t65.7000005245\t64.4365647766\n"
     ]
    },
    {
     "name": "stderr",
     "output_type": "stream",
     "text": [
      "  0%|          | 0/90 [00:00<?, ?it/s]         "
     ]
    },
    {
     "name": "stdout",
     "output_type": "stream",
     "text": [
      "2018-02-23 07:58:41.977222\t25\tLSTM\t2\t0.3\t0.0\t0\t53.5000026226\t52.0405272974\n"
     ]
    },
    {
     "name": "stderr",
     "output_type": "stream",
     "text": [
      " 58%|█████▊    | 52/90 [00:23<00:16,  2.25it/s]IOPub message rate exceeded.\n",
      "The notebook server will temporarily stop sending output\n",
      "to the client in order to avoid crashing it.\n",
      "To change this limit, set the config variable\n",
      "`--NotebookApp.iopub_msg_rate_limit`.\n",
      "\n",
      "Current values:\n",
      "NotebookApp.iopub_msg_rate_limit=1000.0 (msgs/sec)\n",
      "NotebookApp.rate_limit_window=3.0 (secs)\n",
      "\n",
      "  0%|          | 0/90 [00:00<?, ?it/s]         "
     ]
    },
    {
     "name": "stdout",
     "output_type": "stream",
     "text": [
      "2018-02-23 08:33:37.452309\t25\tLSTM\t3\t0.0\t0.0\t5\t59.6000015736\t62.9538918204\n"
     ]
    },
    {
     "name": "stderr",
     "output_type": "stream",
     "text": [
      "  0%|          | 0/90 [00:00<?, ?it/s]         "
     ]
    },
    {
     "name": "stdout",
     "output_type": "stream",
     "text": [
      "2018-02-23 08:34:37.307698\t25\tLSTM\t3\t0.0\t0.0\t6\t63.4500026703\t65.4422156678\n"
     ]
    },
    {
     "name": "stderr",
     "output_type": "stream",
     "text": [
      "  0%|          | 0/90 [00:00<?, ?it/s]         "
     ]
    },
    {
     "name": "stdout",
     "output_type": "stream",
     "text": [
      "2018-02-23 08:35:36.627604\t25\tLSTM\t3\t0.0\t0.0\t7\t65.3500020504\t62.2110235029\n"
     ]
    },
    {
     "name": "stderr",
     "output_type": "stream",
     "text": [
      "  0%|          | 0/90 [00:00<?, ?it/s]         "
     ]
    },
    {
     "name": "stdout",
     "output_type": "stream",
     "text": [
      "2018-02-23 08:36:36.256009\t25\tLSTM\t3\t0.0\t0.0\t8\t50.0500023365\t65.5236425002\n"
     ]
    },
    {
     "name": "stderr",
     "output_type": "stream",
     "text": [
      "  0%|          | 0/90 [00:00<?, ?it/s]         "
     ]
    },
    {
     "name": "stdout",
     "output_type": "stream",
     "text": [
      "2018-02-23 08:37:35.588077\t25\tLSTM\t3\t0.0\t0.0\t9\t50.4999995232\t50.2439073722\n"
     ]
    },
    {
     "name": "stderr",
     "output_type": "stream",
     "text": [
      "  0%|          | 0/90 [00:00<?, ?it/s]         "
     ]
    },
    {
     "name": "stdout",
     "output_type": "stream",
     "text": [
      "2018-02-23 08:38:35.028236\t25\tLSTM\t3\t0.0\t0.0\t10\t50.7499992847\t52.4306415187\n"
     ]
    },
    {
     "name": "stderr",
     "output_type": "stream",
     "text": [
      "  0%|          | 0/90 [00:00<?, ?it/s]         "
     ]
    },
    {
     "name": "stdout",
     "output_type": "stream",
     "text": [
      "2018-02-23 08:39:34.472393\t25\tLSTM\t3\t0.0\t0.0\t11\t52.8999984264\t52.6358942853\n"
     ]
    },
    {
     "name": "stderr",
     "output_type": "stream",
     "text": [
      "  0%|          | 0/90 [00:00<?, ?it/s]         "
     ]
    },
    {
     "name": "stdout",
     "output_type": "stream",
     "text": [
      "2018-02-23 08:40:34.129174\t25\tLSTM\t3\t0.0\t0.0\t12\t51.8999993801\t54.3044163121\n"
     ]
    },
    {
     "name": "stderr",
     "output_type": "stream",
     "text": [
      "                                               \r"
     ]
    },
    {
     "name": "stdout",
     "output_type": "stream",
     "text": [
      "2018-02-23 08:41:33.631124\t25\tLSTM\t3\t0.0\t0.0\t13\t54.6000003815\t55.2953783009\n"
     ]
    },
    {
     "name": "stderr",
     "output_type": "stream",
     "text": [
      " 53%|█████▎    | 48/90 [00:49<00:43,  1.04s/it]"
     ]
    }
   ],
   "source": [
    "import itertools\n",
    "from datetime import datetime\n",
    "\n",
    "tf.reset_default_graph()\n",
    "# Factory for different LSTM cells\n",
    "def cell(ctype, state_size, dropout, state_dropout, training):\n",
    "    if ctype != 'NORM':\n",
    "        if ctype == 'BASIC':\n",
    "            cell = tf.contrib.rnn.BasicLSTMCell(state_size)\n",
    "\n",
    "        # Gated Recurrent Unit cell (cf. http://arxiv.org/abs/1406.1078).\n",
    "        if ctype == 'GRU':\n",
    "            cell = tf.contrib.rnn.GRUCell(state_size)\n",
    "\n",
    "        # Long short-term memory unit (LSTM) recurrent network cell.\n",
    "        if ctype == 'LSTM':\n",
    "            cell = tf.contrib.rnn.LSTMCell(state_size)\n",
    "\n",
    "        # Long short-term memory unit (LSTM) recurrent network cell with peephholes\n",
    "        if ctype == 'LSTM-PEEP':\n",
    "            cell = tf.contrib.rnn.LSTMCell(state_size, use_peepholes=True)\n",
    "        \n",
    "        return tf.contrib.rnn.DropoutWrapper(\n",
    "            cell,\n",
    "            output_keep_prob = tf.where(training, 1.0 - dropout, 1.0),\n",
    "            state_keep_prob = tf.where(training, 1.0 - state_dropout, 1.0)\n",
    "        )\n",
    "    else:\n",
    "        return tf.contrib.rnn.LayerNormBasicLSTMCell(\n",
    "            state_size,\n",
    "            dropout_keep_prob = tf.where(training, 1 - dropout, 1.0)\n",
    "        )\n",
    "    \n",
    "    \n",
    "def network(input, output, training, params):\n",
    "    \n",
    "    \n",
    "    layers = []\n",
    "    for _ in range(params['layer_count']):\n",
    "        layers.append(cell(params['cell_type'], params['state_size'], params['dropout'], params['state_dropout'], training))\n",
    "    \n",
    "    lstm = tf.contrib.rnn.MultiRNNCell(layers)\n",
    "    outputs, states = tf.contrib.rnn.static_rnn(lstm, input, dtype=tf.float32)\n",
    "    dense = tf.layers.dense(outputs[-1], 2)\n",
    "    \n",
    "#     prediction = tf.argmax(tf.nn.softmax(dense), 1)\n",
    "    \n",
    "#     loss_op = tf.reduce_mean(tf.nn.softmax_cross_entropy_with_logits(logits=dense, labels=output))\n",
    "    \n",
    "    return dense\n",
    "\n",
    "\n",
    "\n",
    "def hyper_network(hparams):\n",
    "    for product in itertools.product(*hparams.values()):\n",
    "        tf.reset_default_graph()\n",
    "\n",
    "        x_input = tf.placeholder(tf.int64, shape = (None, TIME_STEPS))\n",
    "        y_input = tf.placeholder(tf.int64, shape = (None, 2))\n",
    "\n",
    "        x_embed = tf.gather(word_vectors, x_input)\n",
    "        x_unpack = tf.unstack(x_embed, TIME_STEPS, 1)\n",
    "        \n",
    "        training = tf.placeholder(tf.bool)\n",
    "    \n",
    "        params = {key: product[i] for i, key in enumerate(hparams.keys())}\n",
    "        #print('Building: ', params)\n",
    "        \n",
    "        yield (product, network(x_unpack, y_input, training, params), x_input, y_input, training)\n",
    "\n",
    "    \n",
    "def hyper_evaluate(network, x_input, y_input, training, parameters):\n",
    "#     tf.reset_default_graph()\n",
    "    prediction = tf.argmax(tf.nn.softmax(network), 1)\n",
    "\n",
    "    loss_op = tf.reduce_mean(tf.nn.softmax_cross_entropy_with_logits(logits=network, labels=y_input))\n",
    "\n",
    "    global_step = tf.Variable(0, trainable=False)\n",
    "    starter_learning_rate = 1e-3\n",
    "    learning_rate = tf.train.exponential_decay(starter_learning_rate, global_step,\n",
    "                                               90, 0.96, staircase=True)\n",
    "\n",
    "    optimizer = tf.train.AdamOptimizer(learning_rate).minimize(loss_op, global_step = global_step)\n",
    "\n",
    "    correct_pred = tf.equal(prediction, tf.argmax(y_input, 1))\n",
    "    accuracy = tf.reduce_mean(tf.cast(correct_pred, tf.float32))\n",
    "\n",
    "    init = tf.global_variables_initializer()\n",
    "    \n",
    "    size = parameters[2]\n",
    "    \n",
    "    with tf.Session() as session:\n",
    "        session.run(init)\n",
    "#         print('Init')\n",
    "        for i in range(5 + size**2):\n",
    "            #print('Step: ', i)\n",
    "            idx = np.arange(len(train_x))\n",
    "            np.random.shuffle(idx)\n",
    "            idx = np.array_split(idx, (len(idx)+BATCH_SIZE-1)//BATCH_SIZE)\n",
    "\n",
    "            accs = []\n",
    "            for step in tqdm(idx, leave=False):\n",
    "    #             step = np.random.choice(len(train_x), BATCH_SIZE)\n",
    "                x_batch, y_batch = train_x[step], train_y[step]\n",
    "                _, acc = session.run([optimizer, accuracy], feed_dict = {x_input: x_batch, y_input: y_batch, training: True})\n",
    "                accs.append(acc)\n",
    "            acc_train = 1.0*sum(accs)/len(accs)\n",
    "            #print(acc_train)\n",
    "        \n",
    "            acc = session.run([accuracy], feed_dict = {x_input: test_x, y_input: test_y, training: False})\n",
    "            \n",
    "            data = [datetime.now()] + list(parameters)+ [i, 100.0*acc[0], 100.0*acc_train]\n",
    "            line = \"\\t\".join(map(lambda x: str(x).strip(), data))\n",
    "            print(line)\n",
    "            with open('./results.tsv', 'a') as f:\n",
    "                f.write(line+\"\\n\")\n",
    "        return acc\n",
    "\n",
    "\n",
    "params = {\n",
    "    'dropout': [0.0, 0.1, 0.15, 0.3],\n",
    "    'state_dropout': [0.0, 0.1, 0.2, 0.3],\n",
    "    'cell_type': ['GRU', 'LSTM', 'LSTM-PEEP', 'NORM'],\n",
    "    'layer_count': [1, 2, 3],\n",
    "    'state_size': [25, 50, 120, 300]\n",
    "}\n",
    "\n",
    "for x in range(5):\n",
    "    print('-'*30, 'Round: ', x+1, '-'*30)\n",
    "    for p, net, x, y, t in hyper_network(params):\n",
    "        hyper_evaluate(net, x, y, t, p)\n",
    "\n",
    "# print(len(list(hyper_network(params))))\n",
    "\n",
    "# for i, net in enumerate(hyper_network(params)):\n",
    "#     acc = evaluate(net)\n",
    "#     print(i, acc)\n"
   ]
  },
  {
   "cell_type": "code",
   "execution_count": null,
   "metadata": {},
   "outputs": [],
   "source": [
    "    "
   ]
  },
  {
   "cell_type": "code",
   "execution_count": null,
   "metadata": {},
   "outputs": [],
   "source": []
  }
 ],
 "metadata": {
  "kernelspec": {
   "display_name": "Python 3",
   "language": "python",
   "name": "python3"
  },
  "language_info": {
   "codemirror_mode": {
    "name": "ipython",
    "version": 3
   },
   "file_extension": ".py",
   "mimetype": "text/x-python",
   "name": "python",
   "nbconvert_exporter": "python",
   "pygments_lexer": "ipython3",
   "version": "3.5.2"
  }
 },
 "nbformat": 4,
 "nbformat_minor": 2
}
